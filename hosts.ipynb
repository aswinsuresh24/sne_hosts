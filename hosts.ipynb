{
 "cells": [
  {
   "cell_type": "code",
   "execution_count": 154,
   "id": "a70321ad",
   "metadata": {},
   "outputs": [],
   "source": [
    "import numpy as np\n",
    "import matplotlib.pyplot as plt\n",
    "import subprocess\n",
    "from configobj import ConfigObj\n",
    "from itertools import chain\n",
    "import os, glob\n",
    "import shutil\n",
    "import pandas as pd\n",
    "from astropy.io import fits\n",
    "from astropy.table import Table"
   ]
  },
  {
   "cell_type": "code",
   "execution_count": 242,
   "id": "bccb2a0e",
   "metadata": {},
   "outputs": [],
   "source": [
    "#define paramters to be modified in default config file\n",
    "#for any section that requires paramters to be edited, include it in 'sed_modules_params'\n",
    "CIGALE_PARAMS = {'data_file': 'ptf_ccsne_cigale.txt',\n",
    "                 'sed_modules': ['sfhdelayed', 'bc03', 'nebular', 'dustatt_calzleit', 'dale2014', 'redshifting'],\n",
    "                 'analysis_method': \"pdf_analysis\",\n",
    "                 'sed_modules_params': {\n",
    "                     'sfhdelayed': {\n",
    "                        'tau_main': ['250', '500', '1000', '2000', '4000', '6000', '8000'],\n",
    "                        'age_main': ['250', '500', '1000', '2000', '4000', '8000', '12000'],\n",
    "                     },\n",
    "                     'bc03': {\n",
    "                         'imf': 1,\n",
    "                         'metallicity': ['0.0001', '0.0004', '0.004', '0.008', '0.02', '0.05'],\n",
    "                     },\n",
    "                     'dustatt_calzleit': {\n",
    "                         'E_BVs_young': ['0.0', '0.2', '0.3', '0.5', '0.8', '1.0', '1.5', '2.0', '3.0'],\n",
    "                         'E_BVs_old_factor': ['0.3', '0.5', '1.0'],\n",
    "                         'uv_bump_amplitude': ['0.0', '1.0', '2.0', '3.0'],\n",
    "                         'powerlaw_slope': ['-0.13', '-0.2', '-0.5']\n",
    "                     },\n",
    "                     'dale2014': {\n",
    "                         'alpha': ['1.0', '1.5', '2.0', '2.5'],\n",
    "                     }\n",
    "                 },\n",
    "                 'analysis_params': {\n",
    "                     'save_best_sed': True,\n",
    "                 }}"
   ]
  },
  {
   "cell_type": "code",
   "execution_count": 243,
   "id": "0d656957",
   "metadata": {},
   "outputs": [],
   "source": [
    "def prep_cigale(params):\n",
    "\n",
    "    subprocess.run([\"pcigale\", \"init\"])\n",
    "    configfile = 'pcigale.ini'\n",
    "\n",
    "    #read in configfile\n",
    "    config = ConfigObj(configfile, encoding = 'utf-8')\n",
    "    config.filename = configfile\n",
    "\n",
    "    #edit params\n",
    "    config['data_file'] = params['data_file']\n",
    "    config['sed_modules'] = params['sed_modules']\n",
    "    config['analysis_method'] = params['analysis_method']\n",
    "    config.write()\n",
    "    \n",
    "    #generate config file to run cigale\n",
    "    try:\n",
    "        subprocess.run([\"pcigale\", \"genconf\"])\n",
    "    except:\n",
    "        raise ValueError(\"Could not create config file - check defaults\")\n",
    "    \n",
    "    #read configfile again as it has been modified by genconf\n",
    "    config = ConfigObj(configfile, encoding = 'utf-8')\n",
    "    config.filename = configfile\n",
    "    \n",
    "    #genconf will overwrite any edits, so modify paramters at the end\n",
    "    for module_ in params['sed_modules']:\n",
    "        if module_ in params['sed_modules_params'].keys():\n",
    "            mod = params['sed_modules_params'][module_]\n",
    "            for key, value in mod.items():\n",
    "                config['sed_modules_params'][module_][key] = value\n",
    "\n",
    "    if 'analysis_params' in params.keys():\n",
    "        for key, value in params['analysis_params'].items():\n",
    "            config['analysis_params'][key] = value\n",
    "    config.write()\n",
    "\n",
    "    #verify if config file is ok\n",
    "    try:\n",
    "        subprocess.run([\"pcigale\", \"check\"])\n",
    "    except:\n",
    "        raise ValueError(\"Config file in incorrect\")\n",
    "    \n",
    "    return config"
   ]
  },
  {
   "cell_type": "code",
   "execution_count": 244,
   "id": "747dd325",
   "metadata": {},
   "outputs": [],
   "source": [
    "def run_cigale(configfile, params, outdir, plot=False):\n",
    "    if not os.path.exists(outdir):\n",
    "        os.makedirs(outdir)\n",
    "\n",
    "    #copy everything to outdir\n",
    "    shutil.copy(configfile, os.path.join(outdir, configfile))\n",
    "    shutil.copy(configfile + '.spec', os.path.join(outdir, configfile + '.spec'))\n",
    "    shutil.copy(params['data_file'], os.path.join(outdir, params['data_file']))\n",
    "\n",
    "    cwd = os.getcwd()\n",
    "    os.chdir(outdir)\n",
    "\n",
    "    #run cigale\n",
    "    subprocess.run([\"pcigale\", \"run\"])\n",
    "    if plot:\n",
    "        subprocess.run([\"pcigale-plots\", \"sed\"])\n",
    "    os.chdir(cwd)"
   ]
  },
  {
   "cell_type": "code",
   "execution_count": 274,
   "id": "a60694f0",
   "metadata": {},
   "outputs": [],
   "source": [
    "def read_ptf_sample(filename):\n",
    "    try:\n",
    "        ptf_sne = pd.read_csv(filename, header = None, names=['SN', 'telescope', 'instrument', 'filter', 'mag', 'magerr', 'ref'])\n",
    "        ptf_sne['SN'] = ptf_sne['SN'].str.strip()\n",
    "        ptf_sne['telescope'] = ptf_sne['telescope'].str.strip()\n",
    "        ptf_sne['instrument'] = ptf_sne['instrument'].str.strip()\n",
    "        ptf_sne['filter'] = ptf_sne['filter'].str.strip()\n",
    "        ptf_sne['ref'] = ptf_sne['ref'].str.strip()\n",
    "        \n",
    "        return ptf_sne\n",
    "    except:\n",
    "        raise ValueError('Reformat input file with correct whitespaces and delimiters')"
   ]
  },
  {
   "cell_type": "code",
   "execution_count": 282,
   "id": "c47bfb3a",
   "metadata": {},
   "outputs": [],
   "source": [
    "def read_ptf_redshifts(filename):\n",
    "    try:\n",
    "        redshifts = pd.read_csv(filename, sep = r'\\s+', header = None, usecols=[0, 1, 2], names = ['SN', 'Type', 'z'])\n",
    "        redshifts['SN'] = redshifts['SN'].str.strip()\n",
    "        redshifts['Type'] = redshifts['Type'].str.strip()\n",
    "\n",
    "        return redshifts\n",
    "    \n",
    "    except:\n",
    "        raise ValueError('Reformat input file with correct whitespaces and delimiters')"
   ]
  },
  {
   "cell_type": "code",
   "execution_count": 299,
   "id": "3a90c6f5",
   "metadata": {},
   "outputs": [],
   "source": [
    "def get_sn_data(sn, ptf_sne, redshifts):\n",
    "    dat = ptf_sne[ptf_sne['SN'].str.lower() == sn.lower()]\n",
    "    z = redshifts[redshifts['SN'].str.lower() == sn.lower()]['z'].iloc[0]\n",
    "    mag, err = dat['mag'].to_numpy(), dat['magerr'].to_numpy()\n",
    "    flux = 10**((mag - 8.90)/-2.5)*1000\n",
    "    fluxerr = err * flux * np.log(10)/2.5\n",
    "\n",
    "    line = [f'{i} {j}' for i, j in zip(flux, fluxerr)]\n",
    "    line = ' '.join(line)\n",
    "    row = f'{sn} {z} ' + line\n",
    "\n",
    "    return row"
   ]
  },
  {
   "cell_type": "code",
   "execution_count": 246,
   "id": "9e2f1f1a",
   "metadata": {},
   "outputs": [
    {
     "name": "stdout",
     "output_type": "stream",
     "text": [
      "\u001b[33m╭──────────────────────────────────────────────────────────────────────────────╮\u001b[0m\n",
      "\u001b[33m│\u001b[0m\u001b[33m \u001b[0m\u001b[33m                     \u001b[0m\u001b[1;33mCode Investigating GALaxy Emission\u001b[0m\u001b[33m                     \u001b[0m\u001b[33m \u001b[0m\u001b[33m│\u001b[0m\n",
      "\u001b[33m│\u001b[0m\u001b[33m \u001b[0m\u001b[33m               Boquien et al. (2019) (\u001b[0m\u001b]8;id=240195;https://cigale.lam.fr\u001b\\\u001b[33mhttps://cigale.lam.fr\u001b[0m\u001b]8;;\u001b\\\u001b[33m)                \u001b[0m\u001b[33m \u001b[0m\u001b[33m│\u001b[0m\n",
      "\u001b[33m│\u001b[0m\u001b[33m \u001b[0m\u001b[33m        CIGALE version: \u001b[0m\u001b[92m2025.0\u001b[0m\u001b[33m — Python version: \u001b[0m\u001b[92m3.12.0\u001b[0m\u001b[33m — Platform:         \u001b[0m\u001b[33m \u001b[0m\u001b[33m│\u001b[0m\n",
      "\u001b[33m│\u001b[0m\u001b[33m \u001b[0m\u001b[33m                             \u001b[0m\u001b[92mmacosx-11.1-arm64\u001b[0m\u001b[33m                              \u001b[0m\u001b[33m \u001b[0m\u001b[33m│\u001b[0m\n",
      "\u001b[33m╰───────────────────────────���──────────────────────────────────────────────────╯\u001b[0m\n",
      "\n",
      "\n",
      "\u001b[1;33m                                  SED modules                                   \u001b[0m\n",
      "\u001b[33m╭──────────────────────┬───────────────────────────────────────────────────────╮\u001b[0m\n",
      "\u001b[33m│\u001b[0m SFH                  \u001b[33m│\u001b[0m\u001b[92m \u001b[0m\u001b[31mNone\u001b[0m\u001b[92m. Options are: \u001b[0m\u001b[92msfh2exp, sfh_buat08, sfhdelayed, \u001b[0m\u001b[92m \u001b[0m\u001b[92m \u001b[0m\u001b[33m│\u001b[0m\n",
      "\u001b[33m│\u001b[0m                      \u001b[33m│\u001b[0m\u001b[92m \u001b[0m\u001b[92msfhdelayedbq, sfhfromfile, sfhperiodic.\u001b[0m\u001b[92m              \u001b[0m\u001b[92m \u001b[0m\u001b[33m│\u001b[0m\n",
      "\u001b[33m│\u001b[0m SSP                  \u001b[33m│\u001b[0m\u001b[92m \u001b[0m\u001b[31mNone\u001b[0m\u001b[92m. Options are: \u001b[0m\u001b[92mbc03, bpassv2, cb19, m2005.\u001b[0m\u001b[92m       \u001b[0m\u001b[92m \u001b[0m\u001b[33m│\u001b[0m\n",
      "\u001b[33m│\u001b[0m nebular              \u001b[33m│\u001b[0m\u001b[92m \u001b[0m\u001b[31mNone\u001b[0m\u001b[92m. Options are: \u001b[0m\u001b[92mnebular.\u001b[0m\u001b[92m                          \u001b[0m\u001b[92m \u001b[0m\u001b[33m│\u001b[0m\n",
      "\u001b[33m│\u001b[0m dust attenuation     \u001b[33m│\u001b[0m\u001b[92m \u001b[0m\u001b[31mNone\u001b[0m\u001b[92m. Options are: \u001b[0m\u001b[92mdustatt_2powerlaws, \u001b[0m\u001b[92m              \u001b[0m\u001b[92m \u001b[0m\u001b[33m│\u001b[0m\n",
      "\u001b[33m│\u001b[0m                      \u001b[33m│\u001b[0m\u001b[92m \u001b[0m\u001b[92mdustatt_calzleit, dustatt_modified_CF00, \u001b[0m\u001b[92m            \u001b[0m\u001b[92m \u001b[0m\u001b[33m│\u001b[0m\n",
      "\u001b[33m│\u001b[0m                      \u001b[33m│\u001b[0m\u001b[92m \u001b[0m\u001b[92mdustatt_modified_starburst, dustatt_powerlaw.\u001b[0m\u001b[92m        \u001b[0m\u001b[92m \u001b[0m\u001b[33m│\u001b[0m\n",
      "\u001b[33m│\u001b[0m dust emission        \u001b[33m│\u001b[0m\u001b[92m \u001b[0m\u001b[31mNone\u001b[0m\u001b[92m. Options are: \u001b[0m\u001b[92mcasey2012, dale2014, dl2007, \u001b[0m\u001b[92m     \u001b[0m\u001b[92m \u001b[0m\u001b[33m│\u001b[0m\n",
      "\u001b[33m│\u001b[0m                      \u001b[33m│\u001b[0m\u001b[92m \u001b[0m\u001b[92mdl2014, mbb, schreiber2016, themis.\u001b[0m\u001b[92m                  \u001b[0m\u001b[92m \u001b[0m\u001b[33m│\u001b[0m\n",
      "\u001b[33m│\u001b[0m AGN                  \u001b[33m│\u001b[0m\u001b[92m \u001b[0m\u001b[31mNone\u001b[0m\u001b[92m. Options are: \u001b[0m\u001b[92mfritz2006, skirtor2016.\u001b[0m\u001b[92m           \u001b[0m\u001b[92m \u001b[0m\u001b[33m│\u001b[0m\n",
      "\u001b[33m│\u001b[0m X-ray                \u001b[33m│\u001b[0m\u001b[92m \u001b[0m\u001b[31mNone\u001b[0m\u001b[92m. Options are: \u001b[0m\u001b[92mlopez24, yang20.\u001b[0m\u001b[92m                  \u001b[0m\u001b[92m \u001b[0m\u001b[33m│\u001b[0m\n",
      "\u001b[33m│\u001b[0m radio                \u001b[33m│\u001b[0m\u001b[92m \u001b[0m\u001b[31mNone\u001b[0m\u001b[92m. Options are: \u001b[0m\u001b[92mradio.\u001b[0m\u001b[92m                            \u001b[0m\u001b[92m \u001b[0m\u001b[33m│\u001b[0m\n",
      "\u001b[33m│\u001b[0m restframe_parameters \u001b[33m│\u001b[0m\u001b[92m \u001b[0m\u001b[31mNone\u001b[0m\u001b[92m. Options are: \u001b[0m\u001b[92mrestframe_parameters.\u001b[0m\u001b[92m             \u001b[0m\u001b[92m \u001b[0m\u001b[33m│\u001b[0m\n",
      "\u001b[33m│\u001b[0m redshifting          \u001b[33m│\u001b[0m\u001b[92m \u001b[0m\u001b[31mNone\u001b[0m\u001b[92m. Options are: \u001b[0m\u001b[92mredshifting.\u001b[0m\u001b[92m                      \u001b[0m\u001b[92m \u001b[0m\u001b[33m│\u001b[0m\n",
      "\u001b[33m╰──────────────────────┴───────────────────────────────────────────────────────╯\u001b[0m\n",
      "\u001b[1m[\u001b[0m\u001b[33mINFO\u001b[0m\u001b[1m]\u001b[0m The initial \u001b[1mpcigale.ini\u001b[0m configuration file has been created. Please edit \n",
      "it to provide the data file \u001b[1m(\u001b[0mif fitting observations\u001b[1m)\u001b[0m, the list of physical \n",
      "modules to use \u001b[1m(\u001b[0msee table above for the available modules\u001b[1m)\u001b[0m, and the analysis \n",
      "module to adopt \u001b[1m(\u001b[0m\u001b[1mpdf_analysis\u001b[0m to fit observations or \u001b[1msavefluxes\u001b[0m to save \n",
      "theoretical models\u001b[1m)\u001b[0m. Once done, \u001b[1;32m'pcigale genconf'\u001b[0m will add the configuraiton \n",
      "sections of the modules.\n",
      "\u001b[33m╭──────────────────────────────────────────────────────────────────────────────╮\u001b[0m\n",
      "\u001b[33m│\u001b[0m\u001b[33m \u001b[0m\u001b[33m                     \u001b[0m\u001b[1;33mCode Investigating GALaxy Emission\u001b[0m\u001b[33m                     \u001b[0m\u001b[33m \u001b[0m\u001b[33m│\u001b[0m\n",
      "\u001b[33m│\u001b[0m\u001b[33m \u001b[0m\u001b[33m               Boquien et al. (2019) (\u001b[0m\u001b]8;id=907153;https://cigale.lam.fr\u001b\\\u001b[33mhttps://cigale.lam.fr\u001b[0m\u001b]8;;\u001b\\\u001b[33m)                \u001b[0m\u001b[33m \u001b[0m\u001b[33m│\u001b[0m\n",
      "\u001b[33m│\u001b[0m\u001b[33m \u001b[0m\u001b[33m        CIGALE version: \u001b[0m\u001b[92m2025.0\u001b[0m\u001b[33m — Python version: \u001b[0m\u001b[92m3.12.0\u001b[0m\u001b[33m — Platform:         \u001b[0m\u001b[33m \u001b[0m\u001b[33m│\u001b[0m\n",
      "\u001b[33m│\u001b[0m\u001b[33m \u001b[0m\u001b[33m                             \u001b[0m\u001b[92mmacosx-11.1-arm64\u001b[0m\u001b[33m                              \u001b[0m\u001b[33m \u001b[0m\u001b[33m│\u001b[0m\n",
      "\u001b[33m╰───────────────────────────���──────────────────────────────────────────────────╯\u001b[0m\n",
      "\n",
      "\n",
      "   \u001b[1;33m                           General information                           \u001b[0m    \n",
      "   \u001b[33m╭───────────────────┬───────────────────────────────────────────────────╮\u001b[0m    \n",
      "   \u001b[33m│\u001b[0m Data file         \u001b[33m│\u001b[0m\u001b[92m \u001b[0m\u001b[92mptf_ccsne_cigale.txt                             \u001b[0m\u001b[92m \u001b[0m\u001b[33m│\u001b[0m    \n",
      "   \u001b[33m│\u001b[0m Parameters file   \u001b[33m│\u001b[0m\u001b[92m \u001b[0m\u001b[31mNone\u001b[0m\u001b[92m                                             \u001b[0m\u001b[92m \u001b[0m\u001b[33m│\u001b[0m    \n",
      "   \u001b[33m│\u001b[0m Number of objects \u001b[33m│\u001b[0m\u001b[92m \u001b[0m\u001b[92m2                                                \u001b[0m\u001b[92m \u001b[0m\u001b[33m│\u001b[0m    \n",
      "   \u001b[33m│\u001b[0m Redshift          \u001b[33m│\u001b[0m\u001b[92m \u001b[0m\u001b[92m0.06 to 0.19                                     \u001b[0m\u001b[92m \u001b[0m\u001b[33m│\u001b[0m    \n",
      "   \u001b[33m│\u001b[0m Bands fitted      \u001b[33m│\u001b[0m\u001b[92m \u001b[0m\u001b[92mgalex (2) — sloan (5) — panstarrs (5) — 2mass (3)\u001b[0m\u001b[92m \u001b[0m\u001b[33m│\u001b[0m    \n",
      "   \u001b[33m│\u001b[0m Properties fitted \u001b[33m│\u001b[0m\u001b[92m \u001b[0m\u001b[31mNone\u001b[0m\u001b[92m                                             \u001b[0m\u001b[92m \u001b[0m\u001b[33m│\u001b[0m    \n",
      "   \u001b[33m│\u001b[0m Number of models  \u001b[33m│\u001b[0m\u001b[92m \u001b[0m\u001b[92m2 (1 per redshift)                               \u001b[0m\u001b[92m \u001b[0m\u001b[33m│\u001b[0m    \n",
      "   \u001b[33m│\u001b[0m Cores used        \u001b[33m│\u001b[0m\u001b[92m \u001b[0m\u001b[92m11/11                                            \u001b[0m\u001b[92m \u001b[0m\u001b[33m│\u001b[0m    \n",
      "   \u001b[33m│\u001b[0m Analysis module   \u001b[33m│\u001b[0m\u001b[92m \u001b[0m\u001b[92mpdf_analysis                                     \u001b[0m\u001b[92m \u001b[0m\u001b[33m│\u001b[0m    \n",
      "   \u001b[33m╰───────────────────┴───────────────────────────────────────────────────╯\u001b[0m    \n",
      "\n",
      "\n",
      "     \u001b[1;33m                             SED modules                             \u001b[0m      \n",
      "     \u001b[33m╭──────────────────────┬────────────────────────────────────────────╮\u001b[0m      \n",
      "     \u001b[33m│\u001b[0m SFH                  \u001b[33m│\u001b[0m\u001b[92m \u001b[0m\u001b[92msfhdelayed                                \u001b[0m\u001b[92m \u001b[0m\u001b[33m│\u001b[0m      \n",
      "     \u001b[33m│\u001b[0m SSP                  \u001b[33m│\u001b[0m\u001b[92m \u001b[0m\u001b[92mbc03                                      \u001b[0m\u001b[92m \u001b[0m\u001b[33m│\u001b[0m      \n",
      "     \u001b[33m│\u001b[0m nebular              \u001b[33m│\u001b[0m\u001b[92m \u001b[0m\u001b[92mnebular                                   \u001b[0m\u001b[92m \u001b[0m\u001b[33m│\u001b[0m      \n",
      "     \u001b[33m│\u001b[0m dust attenuation     \u001b[33m│\u001b[0m\u001b[92m \u001b[0m\u001b[92mdustatt_calzleit                          \u001b[0m\u001b[92m \u001b[0m\u001b[33m│\u001b[0m      \n",
      "     \u001b[33m│\u001b[0m dust emission        \u001b[33m│\u001b[0m\u001b[92m \u001b[0m\u001b[92mdale2014                                  \u001b[0m\u001b[92m \u001b[0m\u001b[33m│\u001b[0m      \n",
      "     \u001b[33m│\u001b[0m AGN                  \u001b[33m│\u001b[0m\u001b[92m \u001b[0m\u001b[31mNone\u001b[0m\u001b[92m. Options are: \u001b[0m\u001b[92mfritz2006, skirtor2016.\u001b[0m\u001b[92m \u001b[0m\u001b[33m│\u001b[0m      \n",
      "     \u001b[33m│\u001b[0m X-ray                \u001b[33m│\u001b[0m\u001b[92m \u001b[0m\u001b[31mNone\u001b[0m\u001b[92m. Options are: \u001b[0m\u001b[92mlopez24, yang20.\u001b[0m\u001b[92m       \u001b[0m\u001b[92m \u001b[0m\u001b[33m│\u001b[0m      \n",
      "     \u001b[33m│\u001b[0m radio                \u001b[33m│\u001b[0m\u001b[92m \u001b[0m\u001b[31mNone\u001b[0m\u001b[92m. Options are: \u001b[0m\u001b[92mradio.\u001b[0m\u001b[92m                 \u001b[0m\u001b[92m \u001b[0m\u001b[33m│\u001b[0m      \n",
      "     \u001b[33m│\u001b[0m restframe_parameters \u001b[33m│\u001b[0m\u001b[92m \u001b[0m\u001b[31mNone\u001b[0m\u001b[92m. Options are: \u001b[0m\u001b[92mrestframe_parameters.\u001b[0m\u001b[92m  \u001b[0m\u001b[92m \u001b[0m\u001b[33m│\u001b[0m      \n",
      "     \u001b[33m│\u001b[0m redshifting          \u001b[33m│\u001b[0m\u001b[92m \u001b[0m\u001b[92mredshifting                               \u001b[0m\u001b[92m \u001b[0m\u001b[33m│\u001b[0m      \n",
      "     \u001b[33m╰──────────────────────┴─────────────────────────────��──────────────╯\u001b[0m      \n",
      "\u001b[1m[\u001b[0m\u001b[33mINFO\u001b[0m\u001b[1m]\u001b[0m The \u001b[1mpcigale.ini\u001b[0m configuration file has been updated and the configuration\n",
      "sections of the physical and the analysis modules have been added. Please edit \n",
      "it to provide the different values each of the physical properties should take \n",
      "for each physical module \u001b[1m(\u001b[0mnote, this is not necessary if you use a parameters \n",
      "file\u001b[1m)\u001b[0m. Once done, an optional sanity check can be done with \u001b[1;32m'pcigale check'\u001b[0m. If \n",
      "everything is satisfactory, the code can be launched with \u001b[1;32m'pcigale run'\u001b[0m.\n",
      "\u001b[33m╭──────────────────────────────────────────────────────────────────────────────╮\u001b[0m\n",
      "\u001b[33m│\u001b[0m\u001b[33m \u001b[0m\u001b[33m                     \u001b[0m\u001b[1;33mCode Investigating GALaxy Emission\u001b[0m\u001b[33m                     \u001b[0m\u001b[33m \u001b[0m\u001b[33m│\u001b[0m\n",
      "\u001b[33m│\u001b[0m\u001b[33m \u001b[0m\u001b[33m               Boquien et al. (2019) (\u001b[0m\u001b]8;id=255191;https://cigale.lam.fr\u001b\\\u001b[33mhttps://cigale.lam.fr\u001b[0m\u001b]8;;\u001b\\\u001b[33m)                \u001b[0m\u001b[33m \u001b[0m\u001b[33m│\u001b[0m\n",
      "\u001b[33m│\u001b[0m\u001b[33m \u001b[0m\u001b[33m        CIGALE version: \u001b[0m\u001b[92m2025.0\u001b[0m\u001b[33m — Python version: \u001b[0m\u001b[92m3.12.0\u001b[0m\u001b[33m — Platform:         \u001b[0m\u001b[33m \u001b[0m\u001b[33m│\u001b[0m\n",
      "\u001b[33m│\u001b[0m\u001b[33m \u001b[0m\u001b[33m                             \u001b[0m\u001b[92mmacosx-11.1-arm64\u001b[0m\u001b[33m                              \u001b[0m\u001b[33m \u001b[0m\u001b[33m│\u001b[0m\n",
      "\u001b[33m╰───────────────────────────���──────────────────────────────────────────────────╯\u001b[0m\n",
      "\n",
      "\n",
      "   \u001b[1;33m                           General information                           \u001b[0m    \n",
      "   \u001b[33m╭───────────────────┬───────────────────────────────────────────────────╮\u001b[0m    \n",
      "   \u001b[33m│\u001b[0m Data file         \u001b[33m│\u001b[0m\u001b[92m \u001b[0m\u001b[92mptf_ccsne_cigale.txt                             \u001b[0m\u001b[92m \u001b[0m\u001b[33m│\u001b[0m    \n",
      "   \u001b[33m│\u001b[0m Parameters file   \u001b[33m│\u001b[0m\u001b[92m \u001b[0m\u001b[31mNone\u001b[0m\u001b[92m                                             \u001b[0m\u001b[92m \u001b[0m\u001b[33m│\u001b[0m    \n",
      "   \u001b[33m│\u001b[0m Number of objects \u001b[33m│\u001b[0m\u001b[92m \u001b[0m\u001b[92m2                                                \u001b[0m\u001b[92m \u001b[0m\u001b[33m│\u001b[0m    \n",
      "   \u001b[33m│\u001b[0m Redshift          \u001b[33m│\u001b[0m\u001b[92m \u001b[0m\u001b[92m0.06 to 0.19                                     \u001b[0m\u001b[92m \u001b[0m\u001b[33m│\u001b[0m    \n",
      "   \u001b[33m│\u001b[0m Bands fitted      \u001b[33m│\u001b[0m\u001b[92m \u001b[0m\u001b[92mgalex (2) — sloan (5) — panstarrs (5) — 2mass (3)\u001b[0m\u001b[92m \u001b[0m\u001b[33m│\u001b[0m    \n",
      "   \u001b[33m│\u001b[0m Properties fitted \u001b[33m│\u001b[0m\u001b[92m \u001b[0m\u001b[31mNone\u001b[0m\u001b[92m                                             \u001b[0m\u001b[92m \u001b[0m\u001b[33m│\u001b[0m    \n",
      "   \u001b[33m│\u001b[0m Number of models  \u001b[33m│\u001b[0m\u001b[92m \u001b[0m\u001b[92m762048 (381024 per redshift)                     \u001b[0m\u001b[92m \u001b[0m\u001b[33m│\u001b[0m    \n",
      "   \u001b[33m│\u001b[0m Cores used        \u001b[33m│\u001b[0m\u001b[92m \u001b[0m\u001b[92m11/11                                            \u001b[0m\u001b[92m \u001b[0m\u001b[33m│\u001b[0m    \n",
      "   \u001b[33m│\u001b[0m Analysis module   \u001b[33m│\u001b[0m\u001b[92m \u001b[0m\u001b[92mpdf_analysis                                     \u001b[0m\u001b[92m \u001b[0m\u001b[33m│\u001b[0m    \n",
      "   \u001b[33m╰───────────────────┴───────────────────────────────────────────────────╯\u001b[0m    \n",
      "\n",
      "\n",
      "     \u001b[1;33m                             SED modules                             \u001b[0m      \n",
      "     \u001b[33m╭──────────────────────┬────────────────────────────────────────────╮\u001b[0m      \n",
      "     \u001b[33m│\u001b[0m SFH                  \u001b[33m│\u001b[0m\u001b[92m \u001b[0m\u001b[92msfhdelayed                                \u001b[0m\u001b[92m \u001b[0m\u001b[33m│\u001b[0m      \n",
      "     \u001b[33m│\u001b[0m SSP                  \u001b[33m│\u001b[0m\u001b[92m \u001b[0m\u001b[92mbc03                                      \u001b[0m\u001b[92m \u001b[0m\u001b[33m│\u001b[0m      \n",
      "     \u001b[33m│\u001b[0m nebular              \u001b[33m│\u001b[0m\u001b[92m \u001b[0m\u001b[92mnebular                                   \u001b[0m\u001b[92m \u001b[0m\u001b[33m│\u001b[0m      \n",
      "     \u001b[33m│\u001b[0m dust attenuation     \u001b[33m│\u001b[0m\u001b[92m \u001b[0m\u001b[92mdustatt_calzleit                          \u001b[0m\u001b[92m \u001b[0m\u001b[33m│\u001b[0m      \n",
      "     \u001b[33m│\u001b[0m dust emission        \u001b[33m│\u001b[0m\u001b[92m \u001b[0m\u001b[92mdale2014                                  \u001b[0m\u001b[92m \u001b[0m\u001b[33m│\u001b[0m      \n",
      "     \u001b[33m│\u001b[0m AGN                  \u001b[33m│\u001b[0m\u001b[92m \u001b[0m\u001b[31mNone\u001b[0m\u001b[92m. Options are: \u001b[0m\u001b[92mfritz2006, skirtor2016.\u001b[0m\u001b[92m \u001b[0m\u001b[33m│\u001b[0m      \n",
      "     \u001b[33m│\u001b[0m X-ray                \u001b[33m│\u001b[0m\u001b[92m \u001b[0m\u001b[31mNone\u001b[0m\u001b[92m. Options are: \u001b[0m\u001b[92mlopez24, yang20.\u001b[0m\u001b[92m       \u001b[0m\u001b[92m \u001b[0m\u001b[33m│\u001b[0m      \n",
      "     \u001b[33m│\u001b[0m radio                \u001b[33m│\u001b[0m\u001b[92m \u001b[0m\u001b[31mNone\u001b[0m\u001b[92m. Options are: \u001b[0m\u001b[92mradio.\u001b[0m\u001b[92m                 \u001b[0m\u001b[92m \u001b[0m\u001b[33m│\u001b[0m      \n",
      "     \u001b[33m│\u001b[0m restframe_parameters \u001b[33m│\u001b[0m\u001b[92m \u001b[0m\u001b[31mNone\u001b[0m\u001b[92m. Options are: \u001b[0m\u001b[92mrestframe_parameters.\u001b[0m\u001b[92m  \u001b[0m\u001b[92m \u001b[0m\u001b[33m│\u001b[0m      \n",
      "     \u001b[33m│\u001b[0m redshifting          \u001b[33m│\u001b[0m\u001b[92m \u001b[0m\u001b[92mredshifting                               \u001b[0m\u001b[92m \u001b[0m\u001b[33m│\u001b[0m      \n",
      "     \u001b[33m╰──────────────────────┴─────────────────────────────��──────────────╯\u001b[0m      \n",
      "\u001b[1m[\u001b[0m\u001b[33mINFO\u001b[0m\u001b[1m]\u001b[0m No critical error has been found. Consider the \u001b[1m[\u001b[0m\u001b[31mWARNING\u001b[0m\u001b[1m]\u001b[0m messages \u001b[1m(\u001b[0mif \n",
      "any\u001b[1m)\u001b[0m. If everything is satisfactory, the code can be launched with \u001b[1;32m'pcigale \u001b[0m\n",
      "\u001b[1;32mrun'\u001b[0m.\n"
     ]
    }
   ],
   "source": [
    "config = prep_cigale(CIGALE_PARAMS)"
   ]
  },
  {
   "cell_type": "code",
   "execution_count": 247,
   "id": "8f068385",
   "metadata": {},
   "outputs": [
    {
     "name": "stdout",
     "output_type": "stream",
     "text": [
      "\u001b[33m╭──────────────────────────────────────────────────────────────────────────────╮\u001b[0m\n",
      "\u001b[33m│\u001b[0m\u001b[33m \u001b[0m\u001b[33m                     \u001b[0m\u001b[1;33mCode Investigating GALaxy Emission\u001b[0m\u001b[33m                     \u001b[0m\u001b[33m \u001b[0m\u001b[33m│\u001b[0m\n",
      "\u001b[33m│\u001b[0m\u001b[33m \u001b[0m\u001b[33m               Boquien et al. (2019) (\u001b[0m\u001b]8;id=647049;https://cigale.lam.fr\u001b\\\u001b[33mhttps://cigale.lam.fr\u001b[0m\u001b]8;;\u001b\\\u001b[33m)                \u001b[0m\u001b[33m \u001b[0m\u001b[33m│\u001b[0m\n",
      "\u001b[33m│\u001b[0m\u001b[33m \u001b[0m\u001b[33m        CIGALE version: \u001b[0m\u001b[92m2025.0\u001b[0m\u001b[33m — Python version: \u001b[0m\u001b[92m3.12.0\u001b[0m\u001b[33m — Platform:         \u001b[0m\u001b[33m \u001b[0m\u001b[33m│\u001b[0m\n",
      "\u001b[33m│\u001b[0m\u001b[33m \u001b[0m\u001b[33m                             \u001b[0m\u001b[92mmacosx-11.1-arm64\u001b[0m\u001b[33m                              \u001b[0m\u001b[33m \u001b[0m\u001b[33m│\u001b[0m\n",
      "\u001b[33m╰───────────────────────────���──────────────────────────────────────────────────╯\u001b[0m\n",
      "\n",
      "\n",
      "   \u001b[1;33m                           General information                           \u001b[0m    \n",
      "   \u001b[33m╭───────────────────┬───────────────────────────────────────────────────╮\u001b[0m    \n",
      "   \u001b[33m│\u001b[0m Data file         \u001b[33m│\u001b[0m\u001b[92m \u001b[0m\u001b[92mptf_ccsne_cigale.txt                             \u001b[0m\u001b[92m \u001b[0m\u001b[33m│\u001b[0m    \n",
      "   \u001b[33m│\u001b[0m Parameters file   \u001b[33m│\u001b[0m\u001b[92m \u001b[0m\u001b[31mNone\u001b[0m\u001b[92m                                             \u001b[0m\u001b[92m \u001b[0m\u001b[33m│\u001b[0m    \n",
      "   \u001b[33m│\u001b[0m Number of objects \u001b[33m│\u001b[0m\u001b[92m \u001b[0m\u001b[92m2                                                \u001b[0m\u001b[92m \u001b[0m\u001b[33m│\u001b[0m    \n",
      "   \u001b[33m│\u001b[0m Redshift          \u001b[33m│\u001b[0m\u001b[92m \u001b[0m\u001b[92m0.06 to 0.19                                     \u001b[0m\u001b[92m \u001b[0m\u001b[33m│\u001b[0m    \n",
      "   \u001b[33m│\u001b[0m Bands fitted      \u001b[33m│\u001b[0m\u001b[92m \u001b[0m\u001b[92mgalex (2) — sloan (5) — panstarrs (5) — 2mass (3)\u001b[0m\u001b[92m \u001b[0m\u001b[33m│\u001b[0m    \n",
      "   \u001b[33m│\u001b[0m Properties fitted \u001b[33m│\u001b[0m\u001b[92m \u001b[0m\u001b[31mNone\u001b[0m\u001b[92m                                             \u001b[0m\u001b[92m \u001b[0m\u001b[33m│\u001b[0m    \n",
      "   \u001b[33m│\u001b[0m Number of models  \u001b[33m│\u001b[0m\u001b[92m \u001b[0m\u001b[92m762048 (381024 per redshift)                     \u001b[0m\u001b[92m \u001b[0m\u001b[33m│\u001b[0m    \n",
      "   \u001b[33m│\u001b[0m Cores used        \u001b[33m│\u001b[0m\u001b[92m \u001b[0m\u001b[92m11/11                                            \u001b[0m\u001b[92m \u001b[0m\u001b[33m│\u001b[0m    \n",
      "   \u001b[33m│\u001b[0m Analysis module   \u001b[33m│\u001b[0m\u001b[92m \u001b[0m\u001b[92mpdf_analysis                                     \u001b[0m\u001b[92m \u001b[0m\u001b[33m│\u001b[0m    \n",
      "   \u001b[33m╰───────────────────┴───────────────────────────────────────────────────╯\u001b[0m    \n",
      "\n",
      "\n",
      "     \u001b[1;33m                             SED modules                             \u001b[0m      \n",
      "     \u001b[33m╭──────────────────────┬────────────────────────────────────────────╮\u001b[0m      \n",
      "     \u001b[33m│\u001b[0m SFH                  \u001b[33m│\u001b[0m\u001b[92m \u001b[0m\u001b[92msfhdelayed                                \u001b[0m\u001b[92m \u001b[0m\u001b[33m│\u001b[0m      \n",
      "     \u001b[33m│\u001b[0m SSP                  \u001b[33m│\u001b[0m\u001b[92m \u001b[0m\u001b[92mbc03                                      \u001b[0m\u001b[92m \u001b[0m\u001b[33m│\u001b[0m      \n",
      "     \u001b[33m│\u001b[0m nebular              \u001b[33m│\u001b[0m\u001b[92m \u001b[0m\u001b[92mnebular                                   \u001b[0m\u001b[92m \u001b[0m\u001b[33m│\u001b[0m      \n",
      "     \u001b[33m│\u001b[0m dust attenuation     \u001b[33m│\u001b[0m\u001b[92m \u001b[0m\u001b[92mdustatt_calzleit                          \u001b[0m\u001b[92m \u001b[0m\u001b[33m│\u001b[0m      \n",
      "     \u001b[33m│\u001b[0m dust emission        \u001b[33m│\u001b[0m\u001b[92m \u001b[0m\u001b[92mdale2014                                  \u001b[0m\u001b[92m \u001b[0m\u001b[33m│\u001b[0m      \n",
      "     \u001b[33m│\u001b[0m AGN                  \u001b[33m│\u001b[0m\u001b[92m \u001b[0m\u001b[31mNone\u001b[0m\u001b[92m. Options are: \u001b[0m\u001b[92mfritz2006, skirtor2016.\u001b[0m\u001b[92m \u001b[0m\u001b[33m│\u001b[0m      \n",
      "     \u001b[33m│\u001b[0m X-ray                \u001b[33m│\u001b[0m\u001b[92m \u001b[0m\u001b[31mNone\u001b[0m\u001b[92m. Options are: \u001b[0m\u001b[92mlopez24, yang20.\u001b[0m\u001b[92m       \u001b[0m\u001b[92m \u001b[0m\u001b[33m│\u001b[0m      \n",
      "     \u001b[33m│\u001b[0m radio                \u001b[33m│\u001b[0m\u001b[92m \u001b[0m\u001b[31mNone\u001b[0m\u001b[92m. Options are: \u001b[0m\u001b[92mradio.\u001b[0m\u001b[92m                 \u001b[0m\u001b[92m \u001b[0m\u001b[33m│\u001b[0m      \n",
      "     \u001b[33m│\u001b[0m restframe_parameters \u001b[33m│\u001b[0m\u001b[92m \u001b[0m\u001b[31mNone\u001b[0m\u001b[92m. Options are: \u001b[0m\u001b[92mrestframe_parameters.\u001b[0m\u001b[92m  \u001b[0m\u001b[92m \u001b[0m\u001b[33m│\u001b[0m      \n",
      "     \u001b[33m│\u001b[0m redshifting          \u001b[33m│\u001b[0m\u001b[92m \u001b[0m\u001b[92mredshifting                               \u001b[0m\u001b[92m \u001b[0m\u001b[33m│\u001b[0m      \n",
      "     \u001b[33m╰──────────────────────┴─────────────────────────────��──────────────╯\u001b[0m      \n",
      "\u001b[1m[\u001b[0m\u001b[33mINFO\u001b[0m\u001b[1m]\u001b[0m Start: \u001b[1;94m2025\u001b[0m-\u001b[1;94m06\u001b[0m-\u001b[1;94m07\u001b[0m/\u001b[1;92m23:16:24\u001b[0m\n",
      "\u001b[1m[\u001b[0m\u001b[33mINFO\u001b[0m\u001b[1m]\u001b[0m Initialising the analysis module.\n",
      "\u001b[93m────────────────────────────────── \u001b[0mBlock \u001b[1;94m1\u001b[0m/\u001b[1;94m1\u001b[0m\u001b[93m ───────────────────────────────────\u001b[0m\n",
      "\u001b[1m[\u001b[0m\u001b[33mINFO\u001b[0m\u001b[1m]\u001b[0m Computing models.\n",
      "\u001b[2K👍 Model 762048/762048 \u001b[90m━━━━━━━━━━━━━━━━━━━━━━━━━\u001b[0m \u001b[35m100% \u001b[0m \u001b[33m0:00:58\u001b[0m \u001b[36m0:00:00\u001b[0m \u001b[31m15408.3/s\u001b[0m\u001b[31m15608.3/s\u001b[0m8.5/s\u001b[0m\n",
      "\u001b[?25h\u001b[1m[\u001b[0m\u001b[33mINFO\u001b[0m\u001b[1m]\u001b[0m Done.\n",
      "\u001b[1m[\u001b[0m\u001b[33mINFO\u001b[0m\u001b[1m]\u001b[0m Estimating the physical properties.\n",
      "\u001b[2K👍 Object 2/2 \u001b[90m━━━━━━━━━━━━━━━━━━━━━━━━━━━━━━━━━━━━━━\u001b[0m \u001b[35m100% \u001b[0m \u001b[33m0:00:07\u001b[0m \u001b[36m0:00:00\u001b[0m \u001b[31m0.0/s\u001b[0m0.0/s\u001b[0m\n",
      "\u001b[?25h\u001b[1m[\u001b[0m\u001b[33mINFO\u001b[0m\u001b[1m]\u001b[0m Done.\n",
      "\u001b[1m[\u001b[0m\u001b[33mINFO\u001b[0m\u001b[1m]\u001b[0m Block processed.\n",
      "\u001b[93m─────────────────────────────── \u001b[0mGlobal analysis\u001b[93m ────────────────────────────────\u001b[0m\n",
      "\u001b[1m[\u001b[0m\u001b[33mINFO\u001b[0m\u001b[1m]\u001b[0m Estimating the physical properties.\n",
      "\u001b[1m[\u001b[0m\u001b[33mINFO\u001b[0m\u001b[1m]\u001b[0m Computing the best fit spectra.\n",
      "\u001b[2K👍 Object 2/2 \u001b[90m━━━━━━━━━━━━━━━━━━━━━━━━━━━━━━━━━━━━━━\u001b[0m \u001b[35m100% \u001b[0m \u001b[33m0:00:00\u001b[0m \u001b[36m0:00:00\u001b[0m \u001b[31m0.0/s\u001b[0m0.0/s\u001b[0m\n",
      "\u001b[?25h\u001b[1m[\u001b[0m\u001b[33mINFO\u001b[0m\u001b[1m]\u001b[0m Done.\n",
      "\u001b[1m[\u001b[0m\u001b[33mINFO\u001b[0m\u001b[1m]\u001b[0m Sanity check of the analysis results.\n",
      "\u001b[1m[\u001b[0m\u001b[33mINFO\u001b[0m\u001b[1m]\u001b[0m \u001b[1;94m0.0\u001b[0m% of the objects have χ²_red~\u001b[1;94m0\u001b[0m and \u001b[1;94m100.0\u001b[0m% χ²_red<\u001b[1;94m0.5\u001b[0m.\n",
      "\u001b[1m[\u001b[0m\u001b[33mINFO\u001b[0m\u001b[1m]\u001b[0m Saving the analysis results.\n",
      "\u001b[1m[\u001b[0m\u001b[33mINFO\u001b[0m\u001b[1m]\u001b[0m Run completed! 👍\n",
      "\u001b[1m[\u001b[0m\u001b[33mINFO\u001b[0m\u001b[1m]\u001b[0m End: \u001b[1;94m2025\u001b[0m-\u001b[1;94m06\u001b[0m-\u001b[1;94m07\u001b[0m/\u001b[1;92m23:17:35\u001b[0m\n",
      "\u001b[1m[\u001b[0m\u001b[33mINFO\u001b[0m\u001b[1m]\u001b[0m Total duration: \u001b[1;92m0:01:10\u001b[0m\n",
      "\u001b[2K👍 Object 2/2 \u001b[90m━━━━━━━━━━━━━━━━━━━━━━━━━━━━━━━━━━━━━━\u001b[0m \u001b[35m100% \u001b[0m \u001b[33m0:00:00\u001b[0m \u001b[36m0:00:00\u001b[0m \u001b[31m0.0/s\u001b[0m0.0/s\u001b[0m\n",
      "\u001b[?25h\u001b[1m[\u001b[0m\u001b[33mINFO\u001b[0m\u001b[1m]\u001b[0m Done.\n"
     ]
    }
   ],
   "source": [
    "run_cigale('pcigale.ini', CIGALE_PARAMS, 'ptfccsne', plot=True)"
   ]
  },
  {
   "cell_type": "code",
   "execution_count": 283,
   "id": "d76e10c8",
   "metadata": {},
   "outputs": [],
   "source": [
    "ptf_sne = read_ptf_sample('ptf_ccsne.csv')\n",
    "ptf_sne = ptf_sne[ptf_sne['ref'] == 'This paper']\n",
    "\n",
    "redshifts = read_ptf_redshifts('ptf_ccsne_redshifts.txt')"
   ]
  },
  {
   "cell_type": "code",
   "execution_count": 300,
   "id": "7f3477bb",
   "metadata": {},
   "outputs": [],
   "source": [
    "row = get_sn_data('ptf09awk', ptf_sne, redshifts)"
   ]
  },
  {
   "cell_type": "code",
   "execution_count": 301,
   "id": "0048e97b",
   "metadata": {},
   "outputs": [
    {
     "data": {
      "text/plain": [
       "'ptf09awk 0.0616 0.02910717118066608 0.006970260799822073 0.0353183169791957 0.0032529372074373815 0.07585775750291851 0.004192054598740258 0.1976969640111862 0.009104281645246754 0.2754228703338166 0.012683691910005564 0.359749335155742 0.01656706912688261 0.38725764492161724 0.02140064832826793 0.19952623149688828 0.00918852252612028 0.2606153549998898 0.012001780628561953 0.3564511334262446 0.016415181324162052 0.3698281797802662 0.01703121707462326 0.3944573020752785 0.021798516085948454 0.5296634438916581 0.05366218660918809 0.47424198526024436 0.039311370926357066 0.3698281797802662 0.04428116439402048'"
      ]
     },
     "execution_count": 301,
     "metadata": {},
     "output_type": "execute_result"
    }
   ],
   "source": [
    "row"
   ]
  },
  {
   "cell_type": "code",
   "execution_count": null,
   "id": "9a05944d",
   "metadata": {},
   "outputs": [],
   "source": [
    "awkmag = np.array([20.00, 19.90, 19.55, 18.53, 18.24, 17.96, 17.93, 18.75, 19.52])\n",
    "awkerr = np.array([0.17, 0.06, 0.11, 0.03, 0.06, 0.09, 0.09, 0.14, 0.12])\n",
    "awkflux = 10**((awkmag - 8.90)/-2.5)*1000\n",
    "awkfluxerr = awkerr * awkflux * np.log(10)/2.5"
   ]
  },
  {
   "cell_type": "code",
   "execution_count": 241,
   "id": "0b7e64c1",
   "metadata": {},
   "outputs": [
    {
     "data": {
      "text/plain": [
       "array([ 1.4e-01,  1.7e-01,  8.0e-02,  1.1e-01,  1.0e-01,  1.5e-01,\n",
       "        3.6e-01, -9.9e+01, -9.9e+01])"
      ]
     },
     "execution_count": 241,
     "metadata": {},
     "output_type": "execute_result"
    }
   ],
   "source": [
    "awkerr"
   ]
  },
  {
   "cell_type": "code",
   "execution_count": 250,
   "id": "41a10ccf",
   "metadata": {},
   "outputs": [],
   "source": [
    "hdul = fits.open('ptfccsne/out/results.fits')\n",
    "results = Table(hdul[1].data)"
   ]
  },
  {
   "cell_type": "code",
   "execution_count": 251,
   "id": "13e545c0",
   "metadata": {},
   "outputs": [
    {
     "data": {
      "text/html": [
       "<div><i>Table length=2</i>\n",
       "<table id=\"table4944740816\" class=\"table-striped table-bordered table-condensed\">\n",
       "<thead><tr><th>id</th><th>bayes.agn.fracAGN_dale2014</th><th>bayes.agn.fracAGN_dale2014_err</th><th>bayes.attenuation.E_BVs.nebular.emission_old</th><th>bayes.attenuation.E_BVs.nebular.emission_old_err</th><th>bayes.attenuation.E_BVs.nebular.emission_young</th><th>bayes.attenuation.E_BVs.nebular.emission_young_err</th><th>bayes.attenuation.E_BVs.stellar.old</th><th>bayes.attenuation.E_BVs.stellar.old_err</th><th>bayes.attenuation.E_BVs.stellar.young</th><th>bayes.attenuation.E_BVs.stellar.young_err</th><th>bayes.attenuation.ebvs_old_factor</th><th>bayes.attenuation.ebvs_old_factor_err</th><th>bayes.attenuation.galex.FUV</th><th>bayes.attenuation.galex.FUV_err</th><th>bayes.attenuation.generic.bessell.B</th><th>bayes.attenuation.generic.bessell.B_err</th><th>bayes.attenuation.generic.bessell.V</th><th>bayes.attenuation.generic.bessell.V_err</th><th>bayes.attenuation.powerlaw_slope</th><th>bayes.attenuation.powerlaw_slope_err</th><th>bayes.attenuation.uv_bump_amplitude</th><th>bayes.attenuation.uv_bump_amplitude_err</th><th>bayes.attenuation.uv_bump_wavelength</th><th>bayes.attenuation.uv_bump_wavelength_err</th><th>bayes.attenuation.uv_bump_width</th><th>bayes.attenuation.uv_bump_width_err</th><th>bayes.dust.alpha</th><th>bayes.dust.alpha_err</th><th>bayes.nebular.f_dust</th><th>bayes.nebular.f_dust_err</th><th>bayes.nebular.f_esc</th><th>bayes.nebular.f_esc_err</th><th>bayes.nebular.lines_width</th><th>bayes.nebular.lines_width_err</th><th>bayes.nebular.logU</th><th>bayes.nebular.logU_err</th><th>bayes.nebular.ne</th><th>bayes.nebular.ne_err</th><th>bayes.nebular.zgas</th><th>bayes.nebular.zgas_err</th><th>bayes.sfh.age</th><th>bayes.sfh.age_err</th><th>bayes.sfh.age_burst</th><th>bayes.sfh.age_burst_err</th><th>bayes.sfh.age_main</th><th>bayes.sfh.age_main_err</th><th>bayes.sfh.f_burst</th><th>bayes.sfh.f_burst_err</th><th>bayes.sfh.tau_burst</th><th>bayes.sfh.tau_burst_err</th><th>bayes.sfh.tau_main</th><th>bayes.sfh.tau_main_err</th><th>bayes.stellar.age_m_star</th><th>bayes.stellar.age_m_star_err</th><th>bayes.stellar.imf</th><th>bayes.stellar.imf_err</th><th>bayes.stellar.metallicity</th><th>bayes.stellar.metallicity_err</th><th>bayes.stellar.old_young_separation_age</th><th>bayes.stellar.old_young_separation_age_err</th><th>bayes.universe.age</th><th>bayes.universe.age_err</th><th>bayes.universe.luminosity_distance</th><th>bayes.universe.luminosity_distance_err</th><th>bayes.universe.redshift</th><th>bayes.universe.redshift_err</th><th>bayes.attenuation.nebular.emission_old</th><th>bayes.attenuation.nebular.emission_old_err</th><th>bayes.attenuation.nebular.emission_young</th><th>bayes.attenuation.nebular.emission_young_err</th><th>bayes.attenuation.stellar.old</th><th>bayes.attenuation.stellar.old_err</th><th>bayes.attenuation.stellar.young</th><th>bayes.attenuation.stellar.young_err</th><th>bayes.dust.luminosity</th><th>bayes.dust.luminosity_err</th><th>bayes.sfh.integrated</th><th>bayes.sfh.integrated_err</th><th>bayes.sfh.sfr</th><th>bayes.sfh.sfr_err</th><th>bayes.sfh.sfr100Myrs</th><th>bayes.sfh.sfr100Myrs_err</th><th>bayes.sfh.sfr10Myrs</th><th>bayes.sfh.sfr10Myrs_err</th><th>bayes.stellar.lum</th><th>bayes.stellar.lum_err</th><th>bayes.stellar.lum_ly</th><th>bayes.stellar.lum_ly_err</th><th>bayes.stellar.lum_ly_old</th><th>bayes.stellar.lum_ly_old_err</th><th>bayes.stellar.lum_ly_young</th><th>bayes.stellar.lum_ly_young_err</th><th>bayes.stellar.lum_old</th><th>bayes.stellar.lum_old_err</th><th>bayes.stellar.lum_young</th><th>bayes.stellar.lum_young_err</th><th>bayes.stellar.m_gas</th><th>bayes.stellar.m_gas_err</th><th>bayes.stellar.m_gas_old</th><th>bayes.stellar.m_gas_old_err</th><th>bayes.stellar.m_gas_young</th><th>bayes.stellar.m_gas_young_err</th><th>bayes.stellar.m_star</th><th>bayes.stellar.m_star_err</th><th>bayes.stellar.m_star_old</th><th>bayes.stellar.m_star_old_err</th><th>bayes.stellar.m_star_young</th><th>bayes.stellar.m_star_young_err</th><th>bayes.stellar.n_ly</th><th>bayes.stellar.n_ly_err</th><th>bayes.stellar.n_ly_old</th><th>bayes.stellar.n_ly_old_err</th><th>bayes.stellar.n_ly_young</th><th>bayes.stellar.n_ly_young_err</th><th>bayes.2mass.H</th><th>bayes.2mass.H_err</th><th>bayes.2mass.J</th><th>bayes.2mass.J_err</th><th>bayes.2mass.Ks</th><th>bayes.2mass.Ks_err</th><th>bayes.galex.FUV</th><th>bayes.galex.FUV_err</th><th>bayes.galex.NUV</th><th>bayes.galex.NUV_err</th><th>bayes.panstarrs.ps1.g</th><th>bayes.panstarrs.ps1.g_err</th><th>bayes.panstarrs.ps1.i</th><th>bayes.panstarrs.ps1.i_err</th><th>bayes.panstarrs.ps1.r</th><th>bayes.panstarrs.ps1.r_err</th><th>bayes.panstarrs.ps1.y</th><th>bayes.panstarrs.ps1.y_err</th><th>bayes.panstarrs.ps1.z</th><th>bayes.panstarrs.ps1.z_err</th><th>bayes.sloan.sdss.gprime</th><th>bayes.sloan.sdss.gprime_err</th><th>bayes.sloan.sdss.iprime</th><th>bayes.sloan.sdss.iprime_err</th><th>bayes.sloan.sdss.rprime</th><th>bayes.sloan.sdss.rprime_err</th><th>bayes.sloan.sdss.uprime</th><th>bayes.sloan.sdss.uprime_err</th><th>bayes.sloan.sdss.zprime</th><th>bayes.sloan.sdss.zprime_err</th><th>best.chi_square</th><th>best.reduced_chi_square</th><th>best.agn.fracAGN_dale2014</th><th>best.attenuation.E_BVs.nebular.emission_old</th><th>best.attenuation.E_BVs.nebular.emission_young</th><th>best.attenuation.E_BVs.stellar.old</th><th>best.attenuation.E_BVs.stellar.young</th><th>best.attenuation.ebvs_old_factor</th><th>best.attenuation.galex.FUV</th><th>best.attenuation.generic.bessell.B</th><th>best.attenuation.generic.bessell.V</th><th>best.attenuation.powerlaw_slope</th><th>best.attenuation.uv_bump_amplitude</th><th>best.attenuation.uv_bump_wavelength</th><th>best.attenuation.uv_bump_width</th><th>best.dust.alpha</th><th>best.nebular.f_dust</th><th>best.nebular.f_esc</th><th>best.nebular.lines_width</th><th>best.nebular.logU</th><th>best.nebular.ne</th><th>best.nebular.zgas</th><th>best.sfh.age</th><th>best.sfh.age_burst</th><th>best.sfh.age_main</th><th>best.sfh.f_burst</th><th>best.sfh.tau_burst</th><th>best.sfh.tau_main</th><th>best.stellar.age_m_star</th><th>best.stellar.imf</th><th>best.stellar.metallicity</th><th>best.stellar.old_young_separation_age</th><th>best.universe.age</th><th>best.universe.luminosity_distance</th><th>best.universe.redshift</th><th>best.attenuation.nebular.emission_old</th><th>best.attenuation.nebular.emission_young</th><th>best.attenuation.stellar.old</th><th>best.attenuation.stellar.young</th><th>best.dust.luminosity</th><th>best.sfh.integrated</th><th>best.sfh.sfr</th><th>best.sfh.sfr100Myrs</th><th>best.sfh.sfr10Myrs</th><th>best.stellar.lum</th><th>best.stellar.lum_ly</th><th>best.stellar.lum_ly_old</th><th>best.stellar.lum_ly_young</th><th>best.stellar.lum_old</th><th>best.stellar.lum_young</th><th>best.stellar.m_gas</th><th>best.stellar.m_gas_old</th><th>best.stellar.m_gas_young</th><th>best.stellar.m_star</th><th>best.stellar.m_star_old</th><th>best.stellar.m_star_young</th><th>best.stellar.n_ly</th><th>best.stellar.n_ly_old</th><th>best.stellar.n_ly_young</th><th>best.galex.FUV</th><th>best.galex.NUV</th><th>best.sloan.sdss.uprime</th><th>best.sloan.sdss.gprime</th><th>best.sloan.sdss.rprime</th><th>best.sloan.sdss.iprime</th><th>best.sloan.sdss.zprime</th><th>best.panstarrs.ps1.g</th><th>best.panstarrs.ps1.r</th><th>best.panstarrs.ps1.i</th><th>best.panstarrs.ps1.z</th><th>best.panstarrs.ps1.y</th><th>best.2mass.J</th><th>best.2mass.H</th><th>best.2mass.Ks</th></tr></thead>\n",
       "<thead><tr><th>str8</th><th>float64</th><th>float64</th><th>float64</th><th>float64</th><th>float64</th><th>float64</th><th>float64</th><th>float64</th><th>float64</th><th>float64</th><th>float64</th><th>float64</th><th>float64</th><th>float64</th><th>float64</th><th>float64</th><th>float64</th><th>float64</th><th>float64</th><th>float64</th><th>float64</th><th>float64</th><th>float64</th><th>float64</th><th>float64</th><th>float64</th><th>float64</th><th>float64</th><th>float64</th><th>float64</th><th>float64</th><th>float64</th><th>float64</th><th>float64</th><th>float64</th><th>float64</th><th>float64</th><th>float64</th><th>float64</th><th>float64</th><th>float64</th><th>float64</th><th>float64</th><th>float64</th><th>float64</th><th>float64</th><th>float64</th><th>float64</th><th>float64</th><th>float64</th><th>float64</th><th>float64</th><th>float64</th><th>float64</th><th>float64</th><th>float64</th><th>float64</th><th>float64</th><th>float64</th><th>float64</th><th>float64</th><th>float64</th><th>float64</th><th>float64</th><th>float64</th><th>float64</th><th>float64</th><th>float64</th><th>float64</th><th>float64</th><th>float64</th><th>float64</th><th>float64</th><th>float64</th><th>float64</th><th>float64</th><th>float64</th><th>float64</th><th>float64</th><th>float64</th><th>float64</th><th>float64</th><th>float64</th><th>float64</th><th>float64</th><th>float64</th><th>float64</th><th>float64</th><th>float64</th><th>float64</th><th>float64</th><th>float64</th><th>float64</th><th>float64</th><th>float64</th><th>float64</th><th>float64</th><th>float64</th><th>float64</th><th>float64</th><th>float64</th><th>float64</th><th>float64</th><th>float64</th><th>float64</th><th>float64</th><th>float64</th><th>float64</th><th>float64</th><th>float64</th><th>float64</th><th>float64</th><th>float64</th><th>float64</th><th>float64</th><th>float64</th><th>float64</th><th>float64</th><th>float64</th><th>float64</th><th>float64</th><th>float64</th><th>float64</th><th>float64</th><th>float64</th><th>float64</th><th>float64</th><th>float64</th><th>float64</th><th>float64</th><th>float64</th><th>float64</th><th>float64</th><th>float64</th><th>float64</th><th>float64</th><th>float64</th><th>float64</th><th>float64</th><th>float64</th><th>float64</th><th>float64</th><th>float64</th><th>float64</th><th>float64</th><th>float64</th><th>float64</th><th>float64</th><th>float64</th><th>float64</th><th>float64</th><th>float64</th><th>float64</th><th>float64</th><th>float64</th><th>float64</th><th>float64</th><th>float64</th><th>float64</th><th>float64</th><th>float64</th><th>float64</th><th>float64</th><th>float64</th><th>float64</th><th>float64</th><th>float64</th><th>float64</th><th>float64</th><th>float64</th><th>float64</th><th>float64</th><th>float64</th><th>float64</th><th>float64</th><th>float64</th><th>float64</th><th>float64</th><th>float64</th><th>float64</th><th>float64</th><th>float64</th><th>float64</th><th>float64</th><th>float64</th><th>float64</th><th>float64</th><th>float64</th><th>float64</th><th>float64</th><th>float64</th><th>float64</th><th>float64</th><th>float64</th><th>float64</th><th>float64</th><th>float64</th><th>float64</th><th>float64</th><th>float64</th><th>float64</th><th>float64</th><th>float64</th><th>float64</th><th>float64</th><th>float64</th><th>float64</th><th>float64</th><th>float64</th><th>float64</th><th>float64</th><th>float64</th><th>float64</th><th>float64</th><th>float64</th><th>float64</th><th>float64</th><th>float64</th></tr></thead>\n",
       "<tr><td>PTF09awk</td><td>0.0</td><td>0.0</td><td>0.15837963831514243</td><td>0.07338112303549017</td><td>0.3571041949007411</td><td>0.19968878069955642</td><td>0.15837963831514243</td><td>0.07338112303549017</td><td>0.3571041949007411</td><td>0.19968878069955642</td><td>0.498394959954445</td><td>0.2542278634423334</td><td>2.2448938435359476</td><td>0.7964666627096864</td><td>0.8106671989799382</td><td>0.39739571688592834</td><td>0.6181085602869468</td><td>0.3207551133116655</td><td>-0.23307695705397805</td><td>0.13862247574058875</td><td>1.549715451088498</td><td>1.0844571177049105</td><td>217.4999999999999</td><td>1.1368683772161602e-13</td><td>34.99999999999998</td><td>2.1316282072802977e-14</td><td>1.7267783901780034</td><td>0.5578789644962073</td><td>0.0</td><td>0.0</td><td>0.0</td><td>0.0</td><td>299.99999999999994</td><td>5.684341886080801e-14</td><td>-1.9999999999999987</td><td>1.1322097734007344e-15</td><td>99.99999999999999</td><td>1.4210854715202002e-14</td><td>0.02</td><td>0.0</td><td>4457.034284808673</td><td>3582.2828409279364</td><td>19.99999999999999</td><td>1.0658141036401489e-14</td><td>4457.034284808673</td><td>3582.2828409279364</td><td>0.0</td><td>0.0</td><td>49.99999999999999</td><td>7.105427357601001e-15</td><td>4432.035726184155</td><td>2750.6657273821606</td><td>1812.3220336671714</td><td>1538.5461713932614</td><td>0.9999999999999993</td><td>5.661048867003672e-16</td><td>0.005103113650578089</td><td>0.004203826614291783</td><td>9.999999999999995</td><td>5.329070518200744e-15</td><td>12956.61473406326</td><td>1.8189894035458563e-12</td><td>8.572424603754506e+24</td><td>4294967295.9999995</td><td>0.05999999999999999</td><td>6.9388939039072276e-18</td><td>8.134129808560318e+33</td><td>1.077011626797379e+34</td><td>7.06079474523664e+35</td><td>6.607729635133011e+35</td><td>2.8188095437519165e+36</td><td>2.2124770682064904e+36</td><td>2.810286101117048e+36</td><td>2.4649397337636764e+36</td><td>6.34330924920119e+36</td><td>5.222499733911207e+36</td><td>3403057185.5793386</td><td>1939542470.5445676</td><td>1.5725177673194133</td><td>1.3004228606830563</td><td>1.5219700963975218</td><td>1.1661517956285683</td><td>1.5682271377690966</td><td>1.2884649391028862</td><td>9.365941903213596e+36</td><td>5.479865388901973e+36</td><td>1.1460481740535557e+36</td><td>9.700885031842769e+35</td><td>1.3146453422865308e+34</td><td>1.350761614753869e+34</td><td>1.1329017206306897e+36</td><td>9.611880643386231e+35</td><td>5.206136035101069e+36</td><td>2.1558061638418352e+36</td><td>4.159805868112533e+36</td><td>3.423797249532953e+36</td><td>1441058693.8612921</td><td>986031625.3722789</td><td>1440281042.6656804</td><td>986446585.9889616</td><td>777651.1956122232</td><td>634837.572775063</td><td>1961998496.2478514</td><td>955870545.0491828</td><td>1947093871.535966</td><td>963814653.0507529</td><td>14904624.711883806</td><td>12251823.933672745</td><td>3.2309682377399995e+53</td><td>2.723089866404175e+53</td><td>4.465553197293149e+51</td><td>4.9802482370303956e+51</td><td>3.186312705767068e+53</td><td>2.6879818699359725e+53</td><td>0.4575231480510693</td><td>0.03368831761451265</td><td>0.42193730375242655</td><td>0.01838738301351502</td><td>0.4109423646776576</td><td>0.0394348391231346</td><td>0.025492692899258342</td><td>0.004588516449848398</td><td>0.035646751913138514</td><td>0.0036219570300045248</td><td>0.2064472023482175</td><td>0.006736594361131836</td><td>0.3482665714095497</td><td>0.012475362458779511</td><td>0.26780361612319303</td><td>0.008995418823165466</td><td>0.4077286887264502</td><td>0.009911101290287355</td><td>0.36205150874382</td><td>0.014173237844457906</td><td>0.19884577993386393</td><td>0.006848926764081475</td><td>0.3427136598183645</td><td>0.011557347875090001</td><td>0.27472221660900803</td><td>0.0076739907099527835</td><td>0.0731039194115182</td><td>0.004967939031577141</td><td>0.4105492704442693</td><td>0.011632170629209414</td><td>3.330632246134646</td><td>0.23790230329533185</td><td>0.0</td><td>0.1</td><td>0.2</td><td>0.1</td><td>0.2</td><td>0.5</td><td>1.511420871581211</td><td>0.4985011908879325</td><td>0.371737324029751</td><td>-0.2</td><td>3.0</td><td>217.5</td><td>35.0</td><td>1.0</td><td>0.0</td><td>0.0</td><td>300.0</td><td>-2.0</td><td>100.0</td><td>0.02</td><td>8000.0</td><td>20.0</td><td>8000.0</td><td>0.0</td><td>50.0</td><td>8000.0</td><td>2990.560666994263</td><td>1.0</td><td>0.004</td><td>10.0</td><td>12935.446202749758</td><td>8.810896902740423e+24</td><td>0.0616</td><td>2.9926633050401455e+33</td><td>2.804406741645285e+35</td><td>1.2294957532542556e+36</td><td>1.1820368040954736e+36</td><td>2.6949658948192977e+36</td><td>4263955818.0985565</td><td>0.7421054469087236</td><td>0.7420857125140264</td><td>0.7421052293492924</td><td>5.624674559159727e+36</td><td>5.4091672472612664e+35</td><td>7.459655358369279e+33</td><td>5.3345706936775735e+35</td><td>3.668971411764131e+36</td><td>1.9557031473955954e+36</td><td>1884466470.1384273</td><td>1884102194.7617822</td><td>364275.37664516526</td><td>2379489352.9160633</td><td>2372432571.043276</td><td>7056781.87278726</td><td>1.508168828677604e+53</td><td>2.198719330117815e+51</td><td>1.4861816353764258e+53</td><td>0.031142106196700152</td><td>0.0357077553175453</td><td>0.07143979830242225</td><td>0.19503786854878763</td><td>0.2746735061527283</td><td>0.3440770897068055</td><td>0.4135164963054147</td><td>0.20314203009616458</td><td>0.2688689705832139</td><td>0.3468022462408269</td><td>0.36736473156813587</td><td>0.40730523943724173</td><td>0.42843632450713076</td><td>0.4683808484068359</td><td>0.4050159859782073</td></tr>\n",
       "<tr><td>PTF09as</td><td>0.0</td><td>0.0</td><td>0.10733325375862007</td><td>0.057117582180506415</td><td>0.23215979318286686</td><td>0.10200916330852762</td><td>0.10733325375862007</td><td>0.057117582180506415</td><td>0.23215979318286686</td><td>0.10200916330852762</td><td>0.4961386775507432</td><td>0.2614097093348984</td><td>1.5893989908421997</td><td>0.5803695127208275</td><td>0.5950233792431765</td><td>0.2762000112383529</td><td>0.4597351728950898</td><td>0.2237840428295254</td><td>-0.1889080981092586</td><td>0.10041528082829028</td><td>1.362665824405275</td><td>1.108650813264841</td><td>217.49999999999963</td><td>3.6948222259525195e-13</td><td>34.999999999999936</td><td>6.394884621840884e-14</td><td>1.75</td><td>0.5590169943749472</td><td>0.0</td><td>0.0</td><td>0.0</td><td>0.0</td><td>299.99999999999983</td><td>1.7053025658242377e-13</td><td>-1.9999999999999978</td><td>2.220446049250313e-15</td><td>99.99999999999972</td><td>2.8421709430404007e-13</td><td>0.01999999999999998</td><td>2.081668171172165e-17</td><td>1660.2098590553085</td><td>1579.0753617318228</td><td>19.999999999999996</td><td>3.5527136788005005e-15</td><td>1660.2098590553085</td><td>1579.0753617318228</td><td>0.0</td><td>0.0</td><td>49.99999999999986</td><td>1.4210854715202004e-13</td><td>3773.590866030731</td><td>2773.4395871715537</td><td>646.1835309563521</td><td>741.9575012611829</td><td>0.9999999999999989</td><td>1.1102230246251565e-15</td><td>0.007431640962216098</td><td>0.010980967645292689</td><td>9.999999999999998</td><td>1.7763568394002503e-15</td><td>11384.309401091088</td><td>5.4569682106375605e-12</td><td>2.950271149463058e+25</td><td>4294967295.9999995</td><td>0.18999999999999934</td><td>6.661338147750928e-16</td><td>2.180181222831484e+33</td><td>3.0881018573534587e+33</td><td>1.8263005065661416e+35</td><td>1.3342192872301178e+35</td><td>5.6676716492385196e+35</td><td>3.892215565143241e+35</td><td>7.347078519092057e+35</td><td>4.401446815594025e+35</td><td>1.4862852487125033e+36</td><td>9.224804052363246e+35</td><td>379806626.02909803</td><td>288343562.13822407</td><td>0.4468017426775877</td><td>0.23994389084290293</td><td>0.4246847725574769</td><td>0.2010707850895907</td><td>0.44491059239050856</td><td>0.236426564830772</td><td>2.3576487352498354e+36</td><td>9.611812983283654e+35</td><td>3.2673760913355758e+35</td><td>2.0877946164794598e+35</td><td>3.9651215848030587e+33</td><td>4.3932378455440837e+33</td><td>3.2277248754875474e+35</td><td>2.0531700667733697e+35</td><td>1.1778888807984387e+36</td><td>3.553937794637285e+35</td><td>1.1797598544513996e+36</td><td>6.376019102039177e+35</td><td>142442183.56889632</td><td>136820517.47546512</td><td>142215814.90375572</td><td>136885928.48795876</td><td>226368.6651405746</td><td>121068.6856597694</td><td>237364442.78469232</td><td>152426668.076639</td><td>233141705.20143643</td><td>153657163.17744872</td><td>4222737.583255954</td><td>2248103.2442434793</td><td>9.275969704947731e+52</td><td>5.804742068424462e+52</td><td>1.4369333073462884e+51</td><td>1.6270000835272367e+51</td><td>9.132276374213107e+52</td><td>5.674949688164375e+52</td><td>0.00830616616908624</td><td>0.0024723632865635997</td><td>0.00855712584600859</td><td>0.0017938445772982922</td><td>0.008904741872436627</td><td>0.0030595374005870485</td><td>0.001476126035010864</td><td>0.00023216702192224516</td><td>0.0017801346776513804</td><td>0.00016548740980321984</td><td>0.004778721791492505</td><td>0.00022903840947467732</td><td>0.007815342525020835</td><td>0.0006302813205233151</td><td>0.006443084451766027</td><td>0.0004444877743794904</td><td>0.007579114422567619</td><td>0.001132471253134906</td><td>0.007304711281558359</td><td>0.0009549752088318203</td><td>0.004567776969369826</td><td>0.00020461883932193926</td><td>0.007740158206744543</td><td>0.0006607234465217964</td><td>0.006490313878845759</td><td>0.00044812116059153465</td><td>0.0024470079484170786</td><td>0.0001722933910442623</td><td>0.008123625783281893</td><td>0.0013498695466322263</td><td>2.0335278736816313</td><td>0.2541909842102039</td><td>0.0</td><td>0.06</td><td>0.2</td><td>0.06</td><td>0.2</td><td>0.3</td><td>1.146962951878015</td><td>0.3930442406084508</td><td>0.29649736967366275</td><td>-0.13</td><td>0.0</td><td>217.5</td><td>35.0</td><td>1.0</td><td>0.0</td><td>0.0</td><td>300.0</td><td>-2.0</td><td>100.0</td><td>0.02</td><td>2000.0</td><td>20.0</td><td>2000.0</td><td>0.0</td><td>50.0</td><td>4000.0</td><td>684.5482996637895</td><td>1.0</td><td>0.004</td><td>10.0</td><td>11421.88457949476</td><td>2.8917166545670486e+25</td><td>0.1866</td><td>5.754814481249712e+32</td><td>1.0536024440005222e+35</td><td>2.5936508933274148e+35</td><td>4.390516872640375e+35</td><td>8.043525024449561e+35</td><td>333504415.10137266</td><td>0.2803576771620948</td><td>0.27679751893880816</td><td>0.2800412088946566</td><td>1.6697971709734926e+36</td><td>2.0321441797868165e+35</td><td>1.7730766763535964e+33</td><td>2.0144134130232805e+35</td><td>9.315689534652543e+35</td><td>7.38228217508238e+35</td><td>122033165.66078812</td><td>121895785.2457817</td><td>137380.41500642363</td><td>211471251.3101805</td><td>208808217.76664442</td><td>2663033.543536094</td><td>5.672657895283553e+52</td><td>6.075124970055081e+50</td><td>5.611906645583001e+52</td><td>0.0016134096415513163</td><td>0.0019307925382700333</td><td>0.002347665002568819</td><td>0.004598333131070516</td><td>0.0066443787648662895</td><td>0.0077277475782358135</td><td>0.008290005881651977</td><td>0.004834327579871869</td><td>0.006602152062208657</td><td>0.00776463117147166</td><td>0.007555958852404596</td><td>0.007866701057096302</td><td>0.008713215399666789</td><td>0.00846286517837082</td><td>0.008690155630846854</td></tr>\n",
       "</table></div>"
      ],
      "text/plain": [
       "<Table length=2>\n",
       "   id    bayes.agn.fracAGN_dale2014 ...     best.2mass.H       best.2mass.Ks    \n",
       "  str8            float64           ...       float64             float64       \n",
       "-------- -------------------------- ... ------------------- --------------------\n",
       "PTF09awk                        0.0 ...  0.4683808484068359   0.4050159859782073\n",
       " PTF09as                        0.0 ... 0.00846286517837082 0.008690155630846854"
      ]
     },
     "execution_count": 251,
     "metadata": {},
     "output_type": "execute_result"
    }
   ],
   "source": [
    "results"
   ]
  },
  {
   "cell_type": "code",
   "execution_count": 252,
   "id": "c579bad6",
   "metadata": {},
   "outputs": [
    {
     "name": "stdout",
     "output_type": "stream",
     "text": [
      "8.375415662137648 0.6421630227695967\n"
     ]
    }
   ],
   "source": [
    "m_star, m_star_err = results['bayes.stellar.m_star'].value[1], results['bayes.stellar.m_star_err'].value[1]\n",
    "log_m_star, log_m_star_err = np.log10(m_star), m_star_err/m_star\n",
    "print(log_m_star, log_m_star_err)"
   ]
  },
  {
   "cell_type": "code",
   "execution_count": 253,
   "id": "1b00ed64",
   "metadata": {},
   "outputs": [
    {
     "name": "stdout",
     "output_type": "stream",
     "text": [
      "-0.34988514165807555 0.5370254140124214\n"
     ]
    }
   ],
   "source": [
    "sfh, sfh_err = results['bayes.sfh.sfr'].value[1], results['bayes.sfh.sfr_err'].value[1]\n",
    "log_sfh, log_sfh_err = np.log10(sfh), sfh_err/sfh\n",
    "print(log_sfh, log_sfh_err)"
   ]
  },
  {
   "cell_type": "code",
   "execution_count": 254,
   "id": "f34802f0",
   "metadata": {},
   "outputs": [
    {
     "name": "stdout",
     "output_type": "stream",
     "text": [
      "9.22016298856363 0.9511299749962616\n"
     ]
    }
   ],
   "source": [
    "age, age_err = results['bayes.sfh.age'].value[1]*1e6, results['bayes.sfh.age_err'].value[1]*1e6\n",
    "log_age, log_age_err = np.log10(age), age_err/age\n",
    "print(log_age, log_age_err)"
   ]
  },
  {
   "cell_type": "code",
   "execution_count": null,
   "id": "fae013b5",
   "metadata": {},
   "outputs": [],
   "source": []
  }
 ],
 "metadata": {
  "kernelspec": {
   "display_name": "hosts",
   "language": "python",
   "name": "python3"
  },
  "language_info": {
   "codemirror_mode": {
    "name": "ipython",
    "version": 3
   },
   "file_extension": ".py",
   "mimetype": "text/x-python",
   "name": "python",
   "nbconvert_exporter": "python",
   "pygments_lexer": "ipython3",
   "version": "3.12.0"
  }
 },
 "nbformat": 4,
 "nbformat_minor": 5
}
