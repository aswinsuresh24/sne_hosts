{
 "cells": [
  {
   "cell_type": "code",
   "execution_count": 154,
   "id": "a70321ad",
   "metadata": {},
   "outputs": [],
   "source": [
    "import numpy as np\n",
    "import matplotlib.pyplot as plt\n",
    "import subprocess\n",
    "from configobj import ConfigObj\n",
    "from itertools import chain\n",
    "import os, glob\n",
    "import shutil\n",
    "import pandas as pd\n",
    "from astropy.io import fits\n",
    "from astropy.table import Table"
   ]
  },
  {
   "cell_type": "code",
   "execution_count": 242,
   "id": "bccb2a0e",
   "metadata": {},
   "outputs": [],
   "source": [
    "#define paramters to be modified in default config file\n",
    "#for any section that requires paramters to be edited, include it in 'sed_modules_params'\n",
    "CIGALE_PARAMS = {'data_file': 'ptf_ccsne_cigale.txt',\n",
    "                 'sed_modules': ['sfhdelayed', 'bc03', 'nebular', 'dustatt_calzleit', 'dale2014', 'redshifting'],\n",
    "                 'analysis_method': \"pdf_analysis\",\n",
    "                 'sed_modules_params': {\n",
    "                     'sfhdelayed': {\n",
    "                        'tau_main': ['250', '500', '1000', '2000', '4000', '6000', '8000'],\n",
    "                        'age_main': ['250', '500', '1000', '2000', '4000', '8000', '12000'],\n",
    "                     },\n",
    "                     'bc03': {\n",
    "                         'imf': 1,\n",
    "                         'metallicity': ['0.0001', '0.0004', '0.004', '0.008', '0.02', '0.05'],\n",
    "                     },\n",
    "                     'dustatt_calzleit': {\n",
    "                         'E_BVs_young': ['0.0', '0.2', '0.3', '0.5', '0.8', '1.0', '1.5', '2.0', '3.0'],\n",
    "                         'E_BVs_old_factor': ['0.3', '0.5', '1.0'],\n",
    "                         'uv_bump_amplitude': ['0.0', '1.0', '2.0', '3.0'],\n",
    "                         'powerlaw_slope': ['-0.13', '-0.2', '-0.5']\n",
    "                     },\n",
    "                     'dale2014': {\n",
    "                         'alpha': ['1.0', '1.5', '2.0', '2.5'],\n",
    "                     }\n",
    "                 },\n",
    "                 'analysis_params': {\n",
    "                     'save_best_sed': True,\n",
    "                 }}"
   ]
  },
  {
   "cell_type": "code",
   "execution_count": 308,
   "id": "4da52ca9",
   "metadata": {},
   "outputs": [],
   "source": [
    "CIGALE_PTF_FILTERS = ['GALEX_FUV', 'GALEX_NUV', 'SDSS_u', 'SDSS_g', 'SDSS_r', 'SDSS_i', 'SDSS_z',\n",
    "                      'PANSTARRS_g', 'PANSTARRS_r', 'PANSTARRS_i', 'PANSTARRS_z', 'PANSTARRS_y',\n",
    "                      'CFHT_u', 'CFHT_g', 'CFHT_r', 'CFHT_i', 'CFHT_z', 'LS_g', 'LS_r', 'LS_z',\n",
    "                      '2MASS_J', '2MASS_H', '2MASS_Ks', 'WISE_W1', 'WISE_W2']"
   ]
  },
  {
   "cell_type": "code",
   "execution_count": null,
   "id": "ae8f3659",
   "metadata": {},
   "outputs": [],
   "source": [
    "'galex.FUV galex.FUV_err galex.NUV galex.NUV_err sloan.sdss.uprime sloan.sdss.uprime_err sloan.sdss.gprime sloan.sdss.gprime_err sloan.sdss.rprime sloan.sdss.rprime_err sloan.sdss.iprime sloan.sdss.iprime_err sloan.sdss.zprime sloan.sdss.zprime_err panstarrs.ps1.g panstarrs.ps1.g_err panstarrs.ps1.r panstarrs.ps1.r_err panstarrs.ps1.i panstarrs.ps1.i_err panstarrs.ps1.z panstarrs.ps1.z_err panstarrs.ps1.y panstarrs.ps1.y_err cfht.megaprime.u cfht.megaprime.u_err cfht.megaprime.g cfht.megaprime.g_err cfht.megaprime.r cfht.megaprime.r_err cfht.megaprime.i cfht.megaprime.i_err cfht.megaprime.z cfht.megaprime.z_err ctio.ls.g ctio.ls.g_err ctio.ls.r ctio.ls.r_err ctio.ls.z ctio.ls.z_err 2mass.J  2mass.J_err  2mass.H  2mass.H_err  2mass.Ks  2mass.Ks_err wise.W1 wise.W1_err wise.W2 wise.W2_err'"
   ]
  },
  {
   "cell_type": "code",
   "execution_count": 243,
   "id": "0d656957",
   "metadata": {},
   "outputs": [],
   "source": [
    "def prep_cigale(params):\n",
    "\n",
    "    subprocess.run([\"pcigale\", \"init\"])\n",
    "    configfile = 'pcigale.ini'\n",
    "\n",
    "    #read in configfile\n",
    "    config = ConfigObj(configfile, encoding = 'utf-8')\n",
    "    config.filename = configfile\n",
    "\n",
    "    #edit params\n",
    "    config['data_file'] = params['data_file']\n",
    "    config['sed_modules'] = params['sed_modules']\n",
    "    config['analysis_method'] = params['analysis_method']\n",
    "    config.write()\n",
    "    \n",
    "    #generate config file to run cigale\n",
    "    try:\n",
    "        subprocess.run([\"pcigale\", \"genconf\"])\n",
    "    except:\n",
    "        raise ValueError(\"Could not create config file - check defaults\")\n",
    "    \n",
    "    #read configfile again as it has been modified by genconf\n",
    "    config = ConfigObj(configfile, encoding = 'utf-8')\n",
    "    config.filename = configfile\n",
    "    \n",
    "    #genconf will overwrite any edits, so modify paramters at the end\n",
    "    for module_ in params['sed_modules']:\n",
    "        if module_ in params['sed_modules_params'].keys():\n",
    "            mod = params['sed_modules_params'][module_]\n",
    "            for key, value in mod.items():\n",
    "                config['sed_modules_params'][module_][key] = value\n",
    "\n",
    "    if 'analysis_params' in params.keys():\n",
    "        for key, value in params['analysis_params'].items():\n",
    "            config['analysis_params'][key] = value\n",
    "    config.write()\n",
    "\n",
    "    #verify if config file is ok\n",
    "    try:\n",
    "        subprocess.run([\"pcigale\", \"check\"])\n",
    "    except:\n",
    "        raise ValueError(\"Config file in incorrect\")\n",
    "    \n",
    "    return config"
   ]
  },
  {
   "cell_type": "code",
   "execution_count": 244,
   "id": "747dd325",
   "metadata": {},
   "outputs": [],
   "source": [
    "def run_cigale(configfile, params, outdir, plot=False):\n",
    "    if not os.path.exists(outdir):\n",
    "        os.makedirs(outdir)\n",
    "\n",
    "    #copy everything to outdir\n",
    "    shutil.copy(configfile, os.path.join(outdir, configfile))\n",
    "    shutil.copy(configfile + '.spec', os.path.join(outdir, configfile + '.spec'))\n",
    "    shutil.copy(params['data_file'], os.path.join(outdir, params['data_file']))\n",
    "\n",
    "    cwd = os.getcwd()\n",
    "    os.chdir(outdir)\n",
    "\n",
    "    #run cigale\n",
    "    subprocess.run([\"pcigale\", \"run\"])\n",
    "    if plot:\n",
    "        subprocess.run([\"pcigale-plots\", \"sed\"])\n",
    "    os.chdir(cwd)"
   ]
  },
  {
   "cell_type": "code",
   "execution_count": 274,
   "id": "a60694f0",
   "metadata": {},
   "outputs": [],
   "source": [
    "def read_ptf_sample(filename):\n",
    "    try:\n",
    "        ptf_sne = pd.read_csv(filename, header = None, names=['SN', 'telescope', 'instrument', 'filter', 'mag', 'magerr', 'ref'])\n",
    "        ptf_sne['SN'] = ptf_sne['SN'].str.strip()\n",
    "        ptf_sne['telescope'] = ptf_sne['telescope'].str.strip()\n",
    "        ptf_sne['instrument'] = ptf_sne['instrument'].str.strip()\n",
    "        ptf_sne['filter'] = ptf_sne['filter'].str.strip()\n",
    "        ptf_sne['ref'] = ptf_sne['ref'].str.strip()\n",
    "        \n",
    "        return ptf_sne\n",
    "    except:\n",
    "        raise ValueError('Reformat input file with correct whitespaces and delimiters')"
   ]
  },
  {
   "cell_type": "code",
   "execution_count": 282,
   "id": "c47bfb3a",
   "metadata": {},
   "outputs": [],
   "source": [
    "def read_ptf_redshifts(filename):\n",
    "    try:\n",
    "        redshifts = pd.read_csv(filename, sep = r'\\s+', header = None, usecols=[0, 1, 2], names = ['SN', 'Type', 'z'])\n",
    "        redshifts['SN'] = redshifts['SN'].str.strip()\n",
    "        redshifts['Type'] = redshifts['Type'].str.strip()\n",
    "\n",
    "        return redshifts\n",
    "    \n",
    "    except:\n",
    "        raise ValueError('Reformat input file with correct whitespaces and delimiters')"
   ]
  },
  {
   "cell_type": "code",
   "execution_count": 322,
   "id": "3a90c6f5",
   "metadata": {},
   "outputs": [],
   "source": [
    "def get_sn_data(sn, ptf_sne, redshifts):\n",
    "    dat = ptf_sne[ptf_sne['SN'].str.lower() == sn.lower()]\n",
    "    z = redshifts[redshifts['SN'].str.lower() == sn.lower()]['z'].iloc[0]\n",
    "    filters = dat['telescope'] + '_' + dat['filter']\n",
    "    mag, err = np.array(dat['mag']), np.array(dat['magerr'])\n",
    "\n",
    "    maglist, errlist = [], []\n",
    "    for f in CIGALE_PTF_FILTERS:\n",
    "        if f in list(filters):\n",
    "            idx = list(filters).index(f)\n",
    "            maglist.append(mag[idx]); errlist.append(err[idx])\n",
    "        else:\n",
    "            maglist.append(np.nan); errlist.append(np.nan)\n",
    "\n",
    "    maglist, errlist = np.array(maglist), np.array(errlist)\n",
    "\n",
    "    flux = 10**((maglist - 8.90)/-2.5)*1000\n",
    "    fluxerr = errlist * flux * np.log(10)/2.5\n",
    "\n",
    "    line = [f'{i} {j}' for i, j in zip(flux, fluxerr)]\n",
    "    line = ' '.join(line)\n",
    "    row = f'{sn} {z} ' + line\n",
    "\n",
    "    return row"
   ]
  },
  {
   "cell_type": "code",
   "execution_count": 336,
   "id": "9e2f1f1a",
   "metadata": {},
   "outputs": [
    {
     "name": "stdout",
     "output_type": "stream",
     "text": [
      "\u001b[33m╭──────────────────────────────────────────────────────────────────────────────╮\u001b[0m\n",
      "\u001b[33m│\u001b[0m\u001b[33m \u001b[0m\u001b[33m                     \u001b[0m\u001b[1;33mCode Investigating GALaxy Emission\u001b[0m\u001b[33m                     \u001b[0m\u001b[33m \u001b[0m\u001b[33m│\u001b[0m\n",
      "\u001b[33m│\u001b[0m\u001b[33m \u001b[0m\u001b[33m               Boquien et al. (2019) (\u001b[0m\u001b]8;id=77250;https://cigale.lam.fr\u001b\\\u001b[33mhttps://cigale.lam.fr\u001b[0m\u001b]8;;\u001b\\\u001b[33m)                \u001b[0m\u001b[33m \u001b[0m\u001b[33m│\u001b[0m\n",
      "\u001b[33m│\u001b[0m\u001b[33m \u001b[0m\u001b[33m        CIGALE version: \u001b[0m\u001b[92m2025.0\u001b[0m\u001b[33m — Python version: \u001b[0m\u001b[92m3.12.0\u001b[0m\u001b[33m — Platform:         \u001b[0m\u001b[33m \u001b[0m\u001b[33m│\u001b[0m\n",
      "\u001b[33m│\u001b[0m\u001b[33m \u001b[0m\u001b[33m                             \u001b[0m\u001b[92mmacosx-11.1-arm64\u001b[0m\u001b[33m                              \u001b[0m\u001b[33m \u001b[0m\u001b[33m│\u001b[0m\n",
      "\u001b[33m╰───────────────────────────��──────────────────────────────────────────────────╯\u001b[0m\n",
      "\n",
      "\n",
      "\u001b[1;33m                                  SED modules                                   \u001b[0m\n",
      "\u001b[33m╭──────────────────────┬───────────────────────────────────────────────────────╮\u001b[0m\n",
      "\u001b[33m│\u001b[0m SFH                  \u001b[33m│\u001b[0m\u001b[92m \u001b[0m\u001b[31mNone\u001b[0m\u001b[92m. Options are: \u001b[0m\u001b[92msfh2exp, sfh_buat08, sfhdelayed, \u001b[0m\u001b[92m \u001b[0m\u001b[92m \u001b[0m\u001b[33m│\u001b[0m\n",
      "\u001b[33m│\u001b[0m                      \u001b[33m│\u001b[0m\u001b[92m \u001b[0m\u001b[92msfhdelayedbq, sfhfromfile, sfhperiodic.\u001b[0m\u001b[92m              \u001b[0m\u001b[92m \u001b[0m\u001b[33m│\u001b[0m\n",
      "\u001b[33m│\u001b[0m SSP                  \u001b[33m│\u001b[0m\u001b[92m \u001b[0m\u001b[31mNone\u001b[0m\u001b[92m. Options are: \u001b[0m\u001b[92mbc03, bpassv2, cb19, m2005.\u001b[0m\u001b[92m       \u001b[0m\u001b[92m \u001b[0m\u001b[33m│\u001b[0m\n",
      "\u001b[33m│\u001b[0m nebular              \u001b[33m│\u001b[0m\u001b[92m \u001b[0m\u001b[31mNone\u001b[0m\u001b[92m. Options are: \u001b[0m\u001b[92mnebular.\u001b[0m\u001b[92m                          \u001b[0m\u001b[92m \u001b[0m\u001b[33m│\u001b[0m\n",
      "\u001b[33m│\u001b[0m dust attenuation     \u001b[33m│\u001b[0m\u001b[92m \u001b[0m\u001b[31mNone\u001b[0m\u001b[92m. Options are: \u001b[0m\u001b[92mdustatt_2powerlaws, \u001b[0m\u001b[92m              \u001b[0m\u001b[92m \u001b[0m\u001b[33m│\u001b[0m\n",
      "\u001b[33m│\u001b[0m                      \u001b[33m│\u001b[0m\u001b[92m \u001b[0m\u001b[92mdustatt_calzleit, dustatt_modified_CF00, \u001b[0m\u001b[92m            \u001b[0m\u001b[92m \u001b[0m\u001b[33m│\u001b[0m\n",
      "\u001b[33m│\u001b[0m                      \u001b[33m│\u001b[0m\u001b[92m \u001b[0m\u001b[92mdustatt_modified_starburst, dustatt_powerlaw.\u001b[0m\u001b[92m        \u001b[0m\u001b[92m \u001b[0m\u001b[33m│\u001b[0m\n",
      "\u001b[33m│\u001b[0m dust emission        \u001b[33m│\u001b[0m\u001b[92m \u001b[0m\u001b[31mNone\u001b[0m\u001b[92m. Options are: \u001b[0m\u001b[92mcasey2012, dale2014, dl2007, \u001b[0m\u001b[92m     \u001b[0m\u001b[92m \u001b[0m\u001b[33m│\u001b[0m\n",
      "\u001b[33m│\u001b[0m                      \u001b[33m│\u001b[0m\u001b[92m \u001b[0m\u001b[92mdl2014, mbb, schreiber2016, themis.\u001b[0m\u001b[92m                  \u001b[0m\u001b[92m \u001b[0m\u001b[33m│\u001b[0m\n",
      "\u001b[33m│\u001b[0m AGN                  \u001b[33m│\u001b[0m\u001b[92m \u001b[0m\u001b[31mNone\u001b[0m\u001b[92m. Options are: \u001b[0m\u001b[92mfritz2006, skirtor2016.\u001b[0m\u001b[92m           \u001b[0m\u001b[92m \u001b[0m\u001b[33m│\u001b[0m\n",
      "\u001b[33m│\u001b[0m X-ray                \u001b[33m│\u001b[0m\u001b[92m \u001b[0m\u001b[31mNone\u001b[0m\u001b[92m. Options are: \u001b[0m\u001b[92mlopez24, yang20.\u001b[0m\u001b[92m                  \u001b[0m\u001b[92m \u001b[0m\u001b[33m│\u001b[0m\n",
      "\u001b[33m│\u001b[0m radio                \u001b[33m│\u001b[0m\u001b[92m \u001b[0m\u001b[31mNone\u001b[0m\u001b[92m. Options are: \u001b[0m\u001b[92mradio.\u001b[0m\u001b[92m                            \u001b[0m\u001b[92m \u001b[0m\u001b[33m│\u001b[0m\n",
      "\u001b[33m│\u001b[0m restframe_parameters \u001b[33m│\u001b[0m\u001b[92m \u001b[0m\u001b[31mNone\u001b[0m\u001b[92m. Options are: \u001b[0m\u001b[92mrestframe_parameters.\u001b[0m\u001b[92m             \u001b[0m\u001b[92m \u001b[0m\u001b[33m│\u001b[0m\n",
      "\u001b[33m│\u001b[0m redshifting          \u001b[33m│\u001b[0m\u001b[92m \u001b[0m\u001b[31mNone\u001b[0m\u001b[92m. Options are: \u001b[0m\u001b[92mredshifting.\u001b[0m\u001b[92m                      \u001b[0m\u001b[92m \u001b[0m\u001b[33m│\u001b[0m\n",
      "\u001b[33m╰──────────────────────┴───────────────────────────────────────────────────────╯\u001b[0m\n",
      "\u001b[1m[\u001b[0m\u001b[33mINFO\u001b[0m\u001b[1m]\u001b[0m The initial \u001b[1mpcigale.ini\u001b[0m configuration file has been created. Please edit \n",
      "it to provide the data file \u001b[1m(\u001b[0mif fitting observations\u001b[1m)\u001b[0m, the list of physical \n",
      "modules to use \u001b[1m(\u001b[0msee table above for the available modules\u001b[1m)\u001b[0m, and the analysis \n",
      "module to adopt \u001b[1m(\u001b[0m\u001b[1mpdf_analysis\u001b[0m to fit observations or \u001b[1msavefluxes\u001b[0m to save \n",
      "theoretical models\u001b[1m)\u001b[0m. Once done, \u001b[1;32m'pcigale genconf'\u001b[0m will add the configuraiton \n",
      "sections of the modules.\n",
      "\u001b[33m╭──────────────────────────────────────────────────────────────────────────────╮\u001b[0m\n",
      "\u001b[33m│\u001b[0m\u001b[33m \u001b[0m\u001b[33m                     \u001b[0m\u001b[1;33mCode Investigating GALaxy Emission\u001b[0m\u001b[33m                     \u001b[0m\u001b[33m \u001b[0m\u001b[33m│\u001b[0m\n",
      "\u001b[33m│\u001b[0m\u001b[33m \u001b[0m\u001b[33m               Boquien et al. (2019) (\u001b[0m\u001b]8;id=528036;https://cigale.lam.fr\u001b\\\u001b[33mhttps://cigale.lam.fr\u001b[0m\u001b]8;;\u001b\\\u001b[33m)                \u001b[0m\u001b[33m \u001b[0m\u001b[33m│\u001b[0m\n",
      "\u001b[33m│\u001b[0m\u001b[33m \u001b[0m\u001b[33m        CIGALE version: \u001b[0m\u001b[92m2025.0\u001b[0m\u001b[33m — Python version: \u001b[0m\u001b[92m3.12.0\u001b[0m\u001b[33m — Platform:         \u001b[0m\u001b[33m \u001b[0m\u001b[33m│\u001b[0m\n",
      "\u001b[33m│\u001b[0m\u001b[33m \u001b[0m\u001b[33m                             \u001b[0m\u001b[92mmacosx-11.1-arm64\u001b[0m\u001b[33m                              \u001b[0m\u001b[33m \u001b[0m\u001b[33m│\u001b[0m\n",
      "\u001b[33m╰───────────────────────────���──────────────────────────────────────────────────╯\u001b[0m\n",
      "\n",
      "\n",
      "\u001b[1;33m                              General information                               \u001b[0m\n",
      "\u001b[33m╭───────────────────┬──────────────────────────────────────────────────────────╮\u001b[0m\n",
      "\u001b[33m│\u001b[0m Data file         \u001b[33m│\u001b[0m\u001b[92m \u001b[0m\u001b[92mptf_ccsne_cigale.txt                                    \u001b[0m\u001b[92m \u001b[0m\u001b[33m│\u001b[0m\n",
      "\u001b[33m│\u001b[0m Parameters file   \u001b[33m│\u001b[0m\u001b[92m \u001b[0m\u001b[31mNone\u001b[0m\u001b[92m                                                    \u001b[0m\u001b[92m \u001b[0m\u001b[33m│\u001b[0m\n",
      "\u001b[33m│\u001b[0m Number of objects \u001b[33m│\u001b[0m\u001b[92m \u001b[0m\u001b[92m8                                                       \u001b[0m\u001b[92m \u001b[0m\u001b[33m│\u001b[0m\n",
      "\u001b[33m│\u001b[0m Redshift          \u001b[33m│\u001b[0m\u001b[92m \u001b[0m\u001b[92m0.02 to 0.17                                            \u001b[0m\u001b[92m \u001b[0m\u001b[33m│\u001b[0m\n",
      "\u001b[33m│\u001b[0m Bands fitted      \u001b[33m│\u001b[0m\u001b[92m \u001b[0m\u001b[92mgalex (2) — sloan (5) — panstarrs (5) — cfht (5) — ctio \u001b[0m\u001b[92m \u001b[0m\u001b[33m│\u001b[0m\n",
      "\u001b[33m│\u001b[0m                   \u001b[33m│\u001b[0m\u001b[92m \u001b[0m\u001b[92m(3) — 2mass (3) — wise (2)                              \u001b[0m\u001b[92m \u001b[0m\u001b[33m│\u001b[0m\n",
      "\u001b[33m│\u001b[0m Properties fitted \u001b[33m│\u001b[0m\u001b[92m \u001b[0m\u001b[31mNone\u001b[0m\u001b[92m                                                    \u001b[0m\u001b[92m \u001b[0m\u001b[33m│\u001b[0m\n",
      "\u001b[33m│\u001b[0m Number of models  \u001b[33m│\u001b[0m\u001b[92m \u001b[0m\u001b[92m7 (1 per redshift)                                      \u001b[0m\u001b[92m \u001b[0m\u001b[33m│\u001b[0m\n",
      "\u001b[33m│\u001b[0m Cores used        \u001b[33m│\u001b[0m\u001b[92m \u001b[0m\u001b[92m11/11                                                   \u001b[0m\u001b[92m \u001b[0m\u001b[33m│\u001b[0m\n",
      "\u001b[33m│\u001b[0m Analysis module   \u001b[33m│\u001b[0m\u001b[92m \u001b[0m\u001b[92mpdf_analysis                                            \u001b[0m\u001b[92m \u001b[0m\u001b[33m│\u001b[0m\n",
      "\u001b[33m╰───────────────────┴──────────────────────────────────────────────────────────╯\u001b[0m\n",
      "\n",
      "\n",
      "     \u001b[1;33m                             SED modules                             \u001b[0m      \n",
      "     \u001b[33m╭──────────────────────┬────────────────────────────────────────────╮\u001b[0m      \n",
      "     \u001b[33m│\u001b[0m SFH                  \u001b[33m│\u001b[0m\u001b[92m \u001b[0m\u001b[92msfhdelayed                                \u001b[0m\u001b[92m \u001b[0m\u001b[33m│\u001b[0m      \n",
      "     \u001b[33m│\u001b[0m SSP                  \u001b[33m│\u001b[0m\u001b[92m \u001b[0m\u001b[92mbc03                                      \u001b[0m\u001b[92m \u001b[0m\u001b[33m│\u001b[0m      \n",
      "     \u001b[33m│\u001b[0m nebular              \u001b[33m│\u001b[0m\u001b[92m \u001b[0m\u001b[92mnebular                                   \u001b[0m\u001b[92m \u001b[0m\u001b[33m│\u001b[0m      \n",
      "     \u001b[33m│\u001b[0m dust attenuation     \u001b[33m│\u001b[0m\u001b[92m \u001b[0m\u001b[92mdustatt_calzleit                          \u001b[0m\u001b[92m \u001b[0m\u001b[33m│\u001b[0m      \n",
      "     \u001b[33m│\u001b[0m dust emission        \u001b[33m│\u001b[0m\u001b[92m \u001b[0m\u001b[92mdale2014                                  \u001b[0m\u001b[92m \u001b[0m\u001b[33m│\u001b[0m      \n",
      "     \u001b[33m│\u001b[0m AGN                  \u001b[33m│\u001b[0m\u001b[92m \u001b[0m\u001b[31mNone\u001b[0m\u001b[92m. Options are: \u001b[0m\u001b[92mfritz2006, skirtor2016.\u001b[0m\u001b[92m \u001b[0m\u001b[33m│\u001b[0m      \n",
      "     \u001b[33m│\u001b[0m X-ray                \u001b[33m│\u001b[0m\u001b[92m \u001b[0m\u001b[31mNone\u001b[0m\u001b[92m. Options are: \u001b[0m\u001b[92mlopez24, yang20.\u001b[0m\u001b[92m       \u001b[0m\u001b[92m \u001b[0m\u001b[33m│\u001b[0m      \n",
      "     \u001b[33m│\u001b[0m radio                \u001b[33m│\u001b[0m\u001b[92m \u001b[0m\u001b[31mNone\u001b[0m\u001b[92m. Options are: \u001b[0m\u001b[92mradio.\u001b[0m\u001b[92m                 \u001b[0m\u001b[92m \u001b[0m\u001b[33m│\u001b[0m      \n",
      "     \u001b[33m│\u001b[0m restframe_parameters \u001b[33m│\u001b[0m\u001b[92m \u001b[0m\u001b[31mNone\u001b[0m\u001b[92m. Options are: \u001b[0m\u001b[92mrestframe_parameters.\u001b[0m\u001b[92m  \u001b[0m\u001b[92m \u001b[0m\u001b[33m│\u001b[0m      \n",
      "     \u001b[33m│\u001b[0m redshifting          \u001b[33m│\u001b[0m\u001b[92m \u001b[0m\u001b[92mredshifting                               \u001b[0m\u001b[92m \u001b[0m\u001b[33m│\u001b[0m      \n",
      "     \u001b[33m╰──────────────────────┴─────────────────────────────��──────────────╯\u001b[0m      \n",
      "\u001b[1m[\u001b[0m\u001b[33mINFO\u001b[0m\u001b[1m]\u001b[0m The \u001b[1mpcigale.ini\u001b[0m configuration file has been updated and the configuration\n",
      "sections of the physical and the analysis modules have been added. Please edit \n",
      "it to provide the different values each of the physical properties should take \n",
      "for each physical module \u001b[1m(\u001b[0mnote, this is not necessary if you use a parameters \n",
      "file\u001b[1m)\u001b[0m. Once done, an optional sanity check can be done with \u001b[1;32m'pcigale check'\u001b[0m. If \n",
      "everything is satisfactory, the code can be launched with \u001b[1;32m'pcigale run'\u001b[0m.\n",
      "\u001b[33m╭──────────────────────────────────────────────────────────────────────────────╮\u001b[0m\n",
      "\u001b[33m│\u001b[0m\u001b[33m \u001b[0m\u001b[33m                     \u001b[0m\u001b[1;33mCode Investigating GALaxy Emission\u001b[0m\u001b[33m                     \u001b[0m\u001b[33m \u001b[0m\u001b[33m│\u001b[0m\n",
      "\u001b[33m│\u001b[0m\u001b[33m \u001b[0m\u001b[33m               Boquien et al. (2019) (\u001b[0m\u001b]8;id=212712;https://cigale.lam.fr\u001b\\\u001b[33mhttps://cigale.lam.fr\u001b[0m\u001b]8;;\u001b\\\u001b[33m)                \u001b[0m\u001b[33m \u001b[0m\u001b[33m│\u001b[0m\n",
      "\u001b[33m│\u001b[0m\u001b[33m \u001b[0m\u001b[33m        CIGALE version: \u001b[0m\u001b[92m2025.0\u001b[0m\u001b[33m — Python version: \u001b[0m\u001b[92m3.12.0\u001b[0m\u001b[33m — Platform:         \u001b[0m\u001b[33m \u001b[0m\u001b[33m│\u001b[0m\n",
      "\u001b[33m│\u001b[0m\u001b[33m \u001b[0m\u001b[33m                             \u001b[0m\u001b[92mmacosx-11.1-arm64\u001b[0m\u001b[33m                              \u001b[0m\u001b[33m \u001b[0m\u001b[33m│\u001b[0m\n",
      "\u001b[33m╰───────────────────────────���──────────────────────────────────────────────────╯\u001b[0m\n",
      "\u001b[1m[\u001b[0m\u001b[31mWARNING\u001b[0m\u001b[1m]\u001b[0m \u001b[1m[\u001b[0m\u001b[32m'cfht.megaprime.u'\u001b[0m, \u001b[32m'cfht.megaprime.g'\u001b[0m, \u001b[32m'cfht.megaprime.r'\u001b[0m, \n",
      "\u001b[32m'cfht.megaprime.i'\u001b[0m, \u001b[32m'cfht.megaprime.z'\u001b[0m, \u001b[32m'ctio.ls.g'\u001b[0m, \u001b[32m'ctio.ls.r'\u001b[0m, \u001b[32m'ctio.ls.z'\u001b[0m\u001b[1m]\u001b[0m \n",
      "removed as no valid data was found.\n",
      "\u001b[1m[\u001b[0m\u001b[31mWARNING\u001b[0m\u001b[1m]\u001b[0m \u001b[1m[\u001b[0m\u001b[32m'cfht.megaprime.u'\u001b[0m, \u001b[32m'cfht.megaprime.g'\u001b[0m, \u001b[32m'cfht.megaprime.r'\u001b[0m, \n",
      "\u001b[32m'cfht.megaprime.i'\u001b[0m, \u001b[32m'cfht.megaprime.z'\u001b[0m, \u001b[32m'ctio.ls.g'\u001b[0m, \u001b[32m'ctio.ls.r'\u001b[0m, \u001b[32m'ctio.ls.z'\u001b[0m\u001b[1m]\u001b[0m \n",
      "removed as no valid data was found.\n",
      "\u001b[1m[\u001b[0m\u001b[31mWARNING\u001b[0m\u001b[1m]\u001b[0m \u001b[1m[\u001b[0m\u001b[32m'cfht.megaprime.u'\u001b[0m, \u001b[32m'cfht.megaprime.g'\u001b[0m, \u001b[32m'cfht.megaprime.r'\u001b[0m, \n",
      "\u001b[32m'cfht.megaprime.i'\u001b[0m, \u001b[32m'cfht.megaprime.z'\u001b[0m, \u001b[32m'ctio.ls.g'\u001b[0m, \u001b[32m'ctio.ls.r'\u001b[0m, \u001b[32m'ctio.ls.z'\u001b[0m\u001b[1m]\u001b[0m \n",
      "removed as no valid data was found.\n",
      "\u001b[1m[\u001b[0m\u001b[31mWARNING\u001b[0m\u001b[1m]\u001b[0m \u001b[1m[\u001b[0m\u001b[32m'cfht.megaprime.u'\u001b[0m, \u001b[32m'cfht.megaprime.g'\u001b[0m, \u001b[32m'cfht.megaprime.r'\u001b[0m, \n",
      "\u001b[32m'cfht.megaprime.i'\u001b[0m, \u001b[32m'cfht.megaprime.z'\u001b[0m, \u001b[32m'ctio.ls.g'\u001b[0m, \u001b[32m'ctio.ls.r'\u001b[0m, \u001b[32m'ctio.ls.z'\u001b[0m\u001b[1m]\u001b[0m \n",
      "removed as no valid data was found.\n",
      "\u001b[1m[\u001b[0m\u001b[31mWARNING\u001b[0m\u001b[1m]\u001b[0m \u001b[1m[\u001b[0m\u001b[32m'cfht.megaprime.u'\u001b[0m, \u001b[32m'cfht.megaprime.g'\u001b[0m, \u001b[32m'cfht.megaprime.r'\u001b[0m, \n",
      "\u001b[32m'cfht.megaprime.i'\u001b[0m, \u001b[32m'cfht.megaprime.z'\u001b[0m, \u001b[32m'ctio.ls.g'\u001b[0m, \u001b[32m'ctio.ls.r'\u001b[0m, \u001b[32m'ctio.ls.z'\u001b[0m\u001b[1m]\u001b[0m \n",
      "removed as no valid data was found.\n",
      "\u001b[1m[\u001b[0m\u001b[31mWARNING\u001b[0m\u001b[1m]\u001b[0m \u001b[1m[\u001b[0m\u001b[32m'cfht.megaprime.u'\u001b[0m, \u001b[32m'cfht.megaprime.g'\u001b[0m, \u001b[32m'cfht.megaprime.r'\u001b[0m, \n",
      "\u001b[32m'cfht.megaprime.i'\u001b[0m, \u001b[32m'cfht.megaprime.z'\u001b[0m, \u001b[32m'ctio.ls.g'\u001b[0m, \u001b[32m'ctio.ls.r'\u001b[0m, \u001b[32m'ctio.ls.z'\u001b[0m\u001b[1m]\u001b[0m \n",
      "removed as no valid data was found.\n",
      "\u001b[1m[\u001b[0m\u001b[31mWARNING\u001b[0m\u001b[1m]\u001b[0m \u001b[1m[\u001b[0m\u001b[32m'cfht.megaprime.u'\u001b[0m, \u001b[32m'cfht.megaprime.g'\u001b[0m, \u001b[32m'cfht.megaprime.r'\u001b[0m, \n",
      "\u001b[32m'cfht.megaprime.i'\u001b[0m, \u001b[32m'cfht.megaprime.z'\u001b[0m, \u001b[32m'ctio.ls.g'\u001b[0m, \u001b[32m'ctio.ls.r'\u001b[0m, \u001b[32m'ctio.ls.z'\u001b[0m\u001b[1m]\u001b[0m \n",
      "removed as no valid data was found.\n",
      "\u001b[1m[\u001b[0m\u001b[31mWARNING\u001b[0m\u001b[1m]\u001b[0m \u001b[1m[\u001b[0m\u001b[32m'cfht.megaprime.u'\u001b[0m, \u001b[32m'cfht.megaprime.g'\u001b[0m, \u001b[32m'cfht.megaprime.r'\u001b[0m, \n",
      "\u001b[32m'cfht.megaprime.i'\u001b[0m, \u001b[32m'cfht.megaprime.z'\u001b[0m, \u001b[32m'ctio.ls.g'\u001b[0m, \u001b[32m'ctio.ls.r'\u001b[0m, \u001b[32m'ctio.ls.z'\u001b[0m\u001b[1m]\u001b[0m \n",
      "removed as no valid data was found.\n",
      "\n",
      "\n",
      "\u001b[1;33m                              General information                               \u001b[0m\n",
      "\u001b[33m╭───────────────────┬──────────────────────────────────────────────────────────╮\u001b[0m\n",
      "\u001b[33m│\u001b[0m Data file         \u001b[33m│\u001b[0m\u001b[92m \u001b[0m\u001b[92mptf_ccsne_cigale.txt                                    \u001b[0m\u001b[92m \u001b[0m\u001b[33m│\u001b[0m\n",
      "\u001b[33m│\u001b[0m Parameters file   \u001b[33m│\u001b[0m\u001b[92m \u001b[0m\u001b[31mNone\u001b[0m\u001b[92m                                                    \u001b[0m\u001b[92m \u001b[0m\u001b[33m│\u001b[0m\n",
      "\u001b[33m│\u001b[0m Number of objects \u001b[33m│\u001b[0m\u001b[92m \u001b[0m\u001b[92m8                                                       \u001b[0m\u001b[92m \u001b[0m\u001b[33m│\u001b[0m\n",
      "\u001b[33m│\u001b[0m Redshift          \u001b[33m│\u001b[0m\u001b[92m \u001b[0m\u001b[92m0.02 to 0.17                                            \u001b[0m\u001b[92m \u001b[0m\u001b[33m│\u001b[0m\n",
      "\u001b[33m│\u001b[0m Bands fitted      \u001b[33m│\u001b[0m\u001b[92m \u001b[0m\u001b[92mgalex (2) — sloan (5) — panstarrs (5) — cfht (5) — ctio \u001b[0m\u001b[92m \u001b[0m\u001b[33m│\u001b[0m\n",
      "\u001b[33m│\u001b[0m                   \u001b[33m│\u001b[0m\u001b[92m \u001b[0m\u001b[92m(3) — 2mass (3) — wise (2)                              \u001b[0m\u001b[92m \u001b[0m\u001b[33m│\u001b[0m\n",
      "\u001b[33m│\u001b[0m Properties fitted \u001b[33m│\u001b[0m\u001b[92m \u001b[0m\u001b[31mNone\u001b[0m\u001b[92m                                                    \u001b[0m\u001b[92m \u001b[0m\u001b[33m│\u001b[0m\n",
      "\u001b[33m│\u001b[0m Number of models  \u001b[33m│\u001b[0m\u001b[92m \u001b[0m\u001b[92m2667168 (381024 per redshift)                           \u001b[0m\u001b[92m \u001b[0m\u001b[33m│\u001b[0m\n",
      "\u001b[33m│\u001b[0m Cores used        \u001b[33m│\u001b[0m\u001b[92m \u001b[0m\u001b[92m11/11                                                   \u001b[0m\u001b[92m \u001b[0m\u001b[33m│\u001b[0m\n",
      "\u001b[33m│\u001b[0m Analysis module   \u001b[33m│\u001b[0m\u001b[92m \u001b[0m\u001b[92mpdf_analysis                                            \u001b[0m\u001b[92m \u001b[0m\u001b[33m│\u001b[0m\n",
      "\u001b[33m╰───────────────────┴──────────────────────────────────────────────────────────╯\u001b[0m\n",
      "\n",
      "\n",
      "     \u001b[1;33m                             SED modules                             \u001b[0m      \n",
      "     \u001b[33m╭──────────────────────┬────────────────────────────────────────────╮\u001b[0m      \n",
      "     \u001b[33m│\u001b[0m SFH                  \u001b[33m│\u001b[0m\u001b[92m \u001b[0m\u001b[92msfhdelayed                                \u001b[0m\u001b[92m \u001b[0m\u001b[33m│\u001b[0m      \n",
      "     \u001b[33m│\u001b[0m SSP                  \u001b[33m│\u001b[0m\u001b[92m \u001b[0m\u001b[92mbc03                                      \u001b[0m\u001b[92m \u001b[0m\u001b[33m│\u001b[0m      \n",
      "     \u001b[33m│\u001b[0m nebular              \u001b[33m│\u001b[0m\u001b[92m \u001b[0m\u001b[92mnebular                                   \u001b[0m\u001b[92m \u001b[0m\u001b[33m│\u001b[0m      \n",
      "     \u001b[33m│\u001b[0m dust attenuation     \u001b[33m│\u001b[0m\u001b[92m \u001b[0m\u001b[92mdustatt_calzleit                          \u001b[0m\u001b[92m \u001b[0m\u001b[33m│\u001b[0m      \n",
      "     \u001b[33m│\u001b[0m dust emission        \u001b[33m│\u001b[0m\u001b[92m \u001b[0m\u001b[92mdale2014                                  \u001b[0m\u001b[92m \u001b[0m\u001b[33m│\u001b[0m      \n",
      "     \u001b[33m│\u001b[0m AGN                  \u001b[33m│\u001b[0m\u001b[92m \u001b[0m\u001b[31mNone\u001b[0m\u001b[92m. Options are: \u001b[0m\u001b[92mfritz2006, skirtor2016.\u001b[0m\u001b[92m \u001b[0m\u001b[33m│\u001b[0m      \n",
      "     \u001b[33m│\u001b[0m X-ray                \u001b[33m│\u001b[0m\u001b[92m \u001b[0m\u001b[31mNone\u001b[0m\u001b[92m. Options are: \u001b[0m\u001b[92mlopez24, yang20.\u001b[0m\u001b[92m       \u001b[0m\u001b[92m \u001b[0m\u001b[33m│\u001b[0m      \n",
      "     \u001b[33m│\u001b[0m radio                \u001b[33m│\u001b[0m\u001b[92m \u001b[0m\u001b[31mNone\u001b[0m\u001b[92m. Options are: \u001b[0m\u001b[92mradio.\u001b[0m\u001b[92m                 \u001b[0m\u001b[92m \u001b[0m\u001b[33m│\u001b[0m      \n",
      "     \u001b[33m│\u001b[0m restframe_parameters \u001b[33m│\u001b[0m\u001b[92m \u001b[0m\u001b[31mNone\u001b[0m\u001b[92m. Options are: \u001b[0m\u001b[92mrestframe_parameters.\u001b[0m\u001b[92m  \u001b[0m\u001b[92m \u001b[0m\u001b[33m│\u001b[0m      \n",
      "     \u001b[33m│\u001b[0m redshifting          \u001b[33m│\u001b[0m\u001b[92m \u001b[0m\u001b[92mredshifting                               \u001b[0m\u001b[92m \u001b[0m\u001b[33m│\u001b[0m      \n",
      "     \u001b[33m╰──────────────────────┴─────────────────────────────��──────────────╯\u001b[0m      \n",
      "\u001b[1m[\u001b[0m\u001b[33mINFO\u001b[0m\u001b[1m]\u001b[0m No critical error has been found. Consider the \u001b[1m[\u001b[0m\u001b[31mWARNING\u001b[0m\u001b[1m]\u001b[0m messages \u001b[1m(\u001b[0mif \n",
      "any\u001b[1m)\u001b[0m. If everything is satisfactory, the code can be launched with \u001b[1;32m'pcigale \u001b[0m\n",
      "\u001b[1;32mrun'\u001b[0m.\n"
     ]
    }
   ],
   "source": [
    "config = prep_cigale(CIGALE_PARAMS)"
   ]
  },
  {
   "cell_type": "code",
   "execution_count": 337,
   "id": "8f068385",
   "metadata": {},
   "outputs": [
    {
     "name": "stdout",
     "output_type": "stream",
     "text": [
      "\u001b[33m╭──────────────────────────────────────────────────────────────────────────────╮\u001b[0m\n",
      "\u001b[33m│\u001b[0m\u001b[33m \u001b[0m\u001b[33m                     \u001b[0m\u001b[1;33mCode Investigating GALaxy Emission\u001b[0m\u001b[33m                     \u001b[0m\u001b[33m \u001b[0m\u001b[33m│\u001b[0m\n",
      "\u001b[33m│\u001b[0m\u001b[33m \u001b[0m\u001b[33m               Boquien et al. (2019) (\u001b[0m\u001b]8;id=125948;https://cigale.lam.fr\u001b\\\u001b[33mhttps://cigale.lam.fr\u001b[0m\u001b]8;;\u001b\\\u001b[33m)                \u001b[0m\u001b[33m \u001b[0m\u001b[33m│\u001b[0m\n",
      "\u001b[33m│\u001b[0m\u001b[33m \u001b[0m\u001b[33m        CIGALE version: \u001b[0m\u001b[92m2025.0\u001b[0m\u001b[33m — Python version: \u001b[0m\u001b[92m3.12.0\u001b[0m\u001b[33m — Platform:         \u001b[0m\u001b[33m \u001b[0m\u001b[33m│\u001b[0m\n",
      "\u001b[33m│\u001b[0m\u001b[33m \u001b[0m\u001b[33m                             \u001b[0m\u001b[92mmacosx-11.1-arm64\u001b[0m\u001b[33m                              \u001b[0m\u001b[33m \u001b[0m\u001b[33m│\u001b[0m\n",
      "\u001b[33m╰───────────────────────────���──────────────────────────────────────────────────╯\u001b[0m\n",
      "\n",
      "\n",
      "\u001b[1;33m                              General information                               \u001b[0m\n",
      "\u001b[33m╭───────────────────┬──────────────────────────────────────────────────────────╮\u001b[0m\n",
      "\u001b[33m│\u001b[0m Data file         \u001b[33m│\u001b[0m\u001b[92m \u001b[0m\u001b[92mptf_ccsne_cigale.txt                                    \u001b[0m\u001b[92m \u001b[0m\u001b[33m│\u001b[0m\n",
      "\u001b[33m│\u001b[0m Parameters file   \u001b[33m│\u001b[0m\u001b[92m \u001b[0m\u001b[31mNone\u001b[0m\u001b[92m                                                    \u001b[0m\u001b[92m \u001b[0m\u001b[33m│\u001b[0m\n",
      "\u001b[33m│\u001b[0m Number of objects \u001b[33m│\u001b[0m\u001b[92m \u001b[0m\u001b[92m8                                                       \u001b[0m\u001b[92m \u001b[0m\u001b[33m│\u001b[0m\n",
      "\u001b[33m│\u001b[0m Redshift          \u001b[33m│\u001b[0m\u001b[92m \u001b[0m\u001b[92m0.02 to 0.17                                            \u001b[0m\u001b[92m \u001b[0m\u001b[33m│\u001b[0m\n",
      "\u001b[33m│\u001b[0m Bands fitted      \u001b[33m│\u001b[0m\u001b[92m \u001b[0m\u001b[92mgalex (2) — sloan (5) — panstarrs (5) — cfht (5) — ctio \u001b[0m\u001b[92m \u001b[0m\u001b[33m│\u001b[0m\n",
      "\u001b[33m│\u001b[0m                   \u001b[33m│\u001b[0m\u001b[92m \u001b[0m\u001b[92m(3) — 2mass (3) — wise (2)                              \u001b[0m\u001b[92m \u001b[0m\u001b[33m│\u001b[0m\n",
      "\u001b[33m│\u001b[0m Properties fitted \u001b[33m│\u001b[0m\u001b[92m \u001b[0m\u001b[31mNone\u001b[0m\u001b[92m                                                    \u001b[0m\u001b[92m \u001b[0m\u001b[33m│\u001b[0m\n",
      "\u001b[33m│\u001b[0m Number of models  \u001b[33m│\u001b[0m\u001b[92m \u001b[0m\u001b[92m2667168 (381024 per redshift)                           \u001b[0m\u001b[92m \u001b[0m\u001b[33m│\u001b[0m\n",
      "\u001b[33m│\u001b[0m Cores used        \u001b[33m│\u001b[0m\u001b[92m \u001b[0m\u001b[92m11/11                                                   \u001b[0m\u001b[92m \u001b[0m\u001b[33m│\u001b[0m\n",
      "\u001b[33m│\u001b[0m Analysis module   \u001b[33m│\u001b[0m\u001b[92m \u001b[0m\u001b[92mpdf_analysis                                            \u001b[0m\u001b[92m \u001b[0m\u001b[33m│\u001b[0m\n",
      "\u001b[33m╰───────────────────┴──────────────────────────────────────────────────────────╯\u001b[0m\n",
      "\n",
      "\n",
      "     \u001b[1;33m                             SED modules                             \u001b[0m      \n",
      "     \u001b[33m╭──────────────────────┬────────────────────────────────────────────╮\u001b[0m      \n",
      "     \u001b[33m│\u001b[0m SFH                  \u001b[33m│\u001b[0m\u001b[92m \u001b[0m\u001b[92msfhdelayed                                \u001b[0m\u001b[92m \u001b[0m\u001b[33m│\u001b[0m      \n",
      "     \u001b[33m│\u001b[0m SSP                  \u001b[33m│\u001b[0m\u001b[92m \u001b[0m\u001b[92mbc03                                      \u001b[0m\u001b[92m \u001b[0m\u001b[33m│\u001b[0m      \n",
      "     \u001b[33m│\u001b[0m nebular              \u001b[33m│\u001b[0m\u001b[92m \u001b[0m\u001b[92mnebular                                   \u001b[0m\u001b[92m \u001b[0m\u001b[33m│\u001b[0m      \n",
      "     \u001b[33m│\u001b[0m dust attenuation     \u001b[33m│\u001b[0m\u001b[92m \u001b[0m\u001b[92mdustatt_calzleit                          \u001b[0m\u001b[92m \u001b[0m\u001b[33m│\u001b[0m      \n",
      "     \u001b[33m│\u001b[0m dust emission        \u001b[33m│\u001b[0m\u001b[92m \u001b[0m\u001b[92mdale2014                                  \u001b[0m\u001b[92m \u001b[0m\u001b[33m│\u001b[0m      \n",
      "     \u001b[33m│\u001b[0m AGN                  \u001b[33m│\u001b[0m\u001b[92m \u001b[0m\u001b[31mNone\u001b[0m\u001b[92m. Options are: \u001b[0m\u001b[92mfritz2006, skirtor2016.\u001b[0m\u001b[92m \u001b[0m\u001b[33m│\u001b[0m      \n",
      "     \u001b[33m│\u001b[0m X-ray                \u001b[33m│\u001b[0m\u001b[92m \u001b[0m\u001b[31mNone\u001b[0m\u001b[92m. Options are: \u001b[0m\u001b[92mlopez24, yang20.\u001b[0m\u001b[92m       \u001b[0m\u001b[92m \u001b[0m\u001b[33m│\u001b[0m      \n",
      "     \u001b[33m│\u001b[0m radio                \u001b[33m│\u001b[0m\u001b[92m \u001b[0m\u001b[31mNone\u001b[0m\u001b[92m. Options are: \u001b[0m\u001b[92mradio.\u001b[0m\u001b[92m                 \u001b[0m\u001b[92m \u001b[0m\u001b[33m│\u001b[0m      \n",
      "     \u001b[33m│\u001b[0m restframe_parameters \u001b[33m│\u001b[0m\u001b[92m \u001b[0m\u001b[31mNone\u001b[0m\u001b[92m. Options are: \u001b[0m\u001b[92mrestframe_parameters.\u001b[0m\u001b[92m  \u001b[0m\u001b[92m \u001b[0m\u001b[33m│\u001b[0m      \n",
      "     \u001b[33m│\u001b[0m redshifting          \u001b[33m│\u001b[0m\u001b[92m \u001b[0m\u001b[92mredshifting                               \u001b[0m\u001b[92m \u001b[0m\u001b[33m│\u001b[0m      \n",
      "     \u001b[33m╰──────────────────────┴─────────────────────────────��──────────────╯\u001b[0m      \n",
      "\u001b[1m[\u001b[0m\u001b[33mINFO\u001b[0m\u001b[1m]\u001b[0m Start: \u001b[1;94m2025\u001b[0m-\u001b[1;94m06\u001b[0m-\u001b[1;94m08\u001b[0m/\u001b[1;92m02:06:20\u001b[0m\n",
      "\u001b[1m[\u001b[0m\u001b[33mINFO\u001b[0m\u001b[1m]\u001b[0m Initialising the analysis module.\n",
      "\u001b[1m[\u001b[0m\u001b[31mWARNING\u001b[0m\u001b[1m]\u001b[0m \u001b[1m[\u001b[0m\u001b[32m'cfht.megaprime.u'\u001b[0m, \u001b[32m'cfht.megaprime.g'\u001b[0m, \u001b[32m'cfht.megaprime.r'\u001b[0m, \n",
      "\u001b[32m'cfht.megaprime.i'\u001b[0m, \u001b[32m'cfht.megaprime.z'\u001b[0m, \u001b[32m'ctio.ls.g'\u001b[0m, \u001b[32m'ctio.ls.r'\u001b[0m, \u001b[32m'ctio.ls.z'\u001b[0m\u001b[1m]\u001b[0m \n",
      "removed as no valid data was found.\n",
      "\u001b[1m[\u001b[0m\u001b[31mWARNING\u001b[0m\u001b[1m]\u001b[0m \u001b[1m[\u001b[0m\u001b[32m'cfht.megaprime.u'\u001b[0m, \u001b[32m'cfht.megaprime.g'\u001b[0m, \u001b[32m'cfht.megaprime.r'\u001b[0m, \n",
      "\u001b[32m'cfht.megaprime.i'\u001b[0m, \u001b[32m'cfht.megaprime.z'\u001b[0m, \u001b[32m'ctio.ls.g'\u001b[0m, \u001b[32m'ctio.ls.r'\u001b[0m, \u001b[32m'ctio.ls.z'\u001b[0m\u001b[1m]\u001b[0m \n",
      "removed as no valid data was found.\n",
      "\u001b[1m[\u001b[0m\u001b[31mWARNING\u001b[0m\u001b[1m]\u001b[0m \u001b[1m[\u001b[0m\u001b[32m'cfht.megaprime.u'\u001b[0m, \u001b[32m'cfht.megaprime.g'\u001b[0m, \u001b[32m'cfht.megaprime.r'\u001b[0m, \n",
      "\u001b[32m'cfht.megaprime.i'\u001b[0m, \u001b[32m'cfht.megaprime.z'\u001b[0m, \u001b[32m'ctio.ls.g'\u001b[0m, \u001b[32m'ctio.ls.r'\u001b[0m, \u001b[32m'ctio.ls.z'\u001b[0m\u001b[1m]\u001b[0m \n",
      "removed as no valid data was found.\n",
      "\u001b[1m[\u001b[0m\u001b[31mWARNING\u001b[0m\u001b[1m]\u001b[0m \u001b[1m[\u001b[0m\u001b[32m'cfht.megaprime.u'\u001b[0m, \u001b[32m'cfht.megaprime.g'\u001b[0m, \u001b[32m'cfht.megaprime.r'\u001b[0m, \n",
      "\u001b[32m'cfht.megaprime.i'\u001b[0m, \u001b[32m'cfht.megaprime.z'\u001b[0m, \u001b[32m'ctio.ls.g'\u001b[0m, \u001b[32m'ctio.ls.r'\u001b[0m, \u001b[32m'ctio.ls.z'\u001b[0m\u001b[1m]\u001b[0m \n",
      "removed as no valid data was found.\n",
      "\u001b[1m[\u001b[0m\u001b[31mWARNING\u001b[0m\u001b[1m]\u001b[0m \u001b[1m[\u001b[0m\u001b[32m'cfht.megaprime.u'\u001b[0m, \u001b[32m'cfht.megaprime.g'\u001b[0m, \u001b[32m'cfht.megaprime.r'\u001b[0m, \n",
      "\u001b[32m'cfht.megaprime.i'\u001b[0m, \u001b[32m'cfht.megaprime.z'\u001b[0m, \u001b[32m'ctio.ls.g'\u001b[0m, \u001b[32m'ctio.ls.r'\u001b[0m, \u001b[32m'ctio.ls.z'\u001b[0m\u001b[1m]\u001b[0m \n",
      "removed as no valid data was found.\n",
      "\u001b[1m[\u001b[0m\u001b[31mWARNING\u001b[0m\u001b[1m]\u001b[0m \u001b[1m[\u001b[0m\u001b[32m'cfht.megaprime.u'\u001b[0m, \u001b[32m'cfht.megaprime.g'\u001b[0m, \u001b[32m'cfht.megaprime.r'\u001b[0m, \n",
      "\u001b[32m'cfht.megaprime.i'\u001b[0m, \u001b[32m'cfht.megaprime.z'\u001b[0m, \u001b[32m'ctio.ls.g'\u001b[0m, \u001b[32m'ctio.ls.r'\u001b[0m, \u001b[32m'ctio.ls.z'\u001b[0m\u001b[1m]\u001b[0m \n",
      "removed as no valid data was found.\n",
      "\u001b[1m[\u001b[0m\u001b[31mWARNING\u001b[0m\u001b[1m]\u001b[0m \u001b[1m[\u001b[0m\u001b[32m'cfht.megaprime.u'\u001b[0m, \u001b[32m'cfht.megaprime.g'\u001b[0m, \u001b[32m'cfht.megaprime.r'\u001b[0m, \n",
      "\u001b[32m'cfht.megaprime.i'\u001b[0m, \u001b[32m'cfht.megaprime.z'\u001b[0m, \u001b[32m'ctio.ls.g'\u001b[0m, \u001b[32m'ctio.ls.r'\u001b[0m, \u001b[32m'ctio.ls.z'\u001b[0m\u001b[1m]\u001b[0m \n",
      "removed as no valid data was found.\n",
      "\u001b[1m[\u001b[0m\u001b[31mWARNING\u001b[0m\u001b[1m]\u001b[0m \u001b[1m[\u001b[0m\u001b[32m'cfht.megaprime.u'\u001b[0m, \u001b[32m'cfht.megaprime.g'\u001b[0m, \u001b[32m'cfht.megaprime.r'\u001b[0m, \n",
      "\u001b[32m'cfht.megaprime.i'\u001b[0m, \u001b[32m'cfht.megaprime.z'\u001b[0m, \u001b[32m'ctio.ls.g'\u001b[0m, \u001b[32m'ctio.ls.r'\u001b[0m, \u001b[32m'ctio.ls.z'\u001b[0m\u001b[1m]\u001b[0m \n",
      "removed as no valid data was found.\n",
      "\u001b[93m────────────────────────────────── \u001b[0mBlock \u001b[1;94m1\u001b[0m/\u001b[1;94m1\u001b[0m\u001b[93m ───────────────────────────────────\u001b[0m\n",
      "\u001b[1m[\u001b[0m\u001b[33mINFO\u001b[0m\u001b[1m]\u001b[0m Computing models.\n",
      "\u001b[2K👍 Model 2667168/2667168 \u001b[90m━━━━━━━━━━━━━━━━━━━━━━━\u001b[0m \u001b[35m100% \u001b[0m \u001b[33m0:03:00\u001b[0m \u001b[36m0:00:00\u001b[0m \u001b[31m16088.7/s\u001b[0m\u001b[31m16605.2/s\u001b[0m0.4/s\u001b[0m\n",
      "\u001b[?25h\u001b[1m[\u001b[0m\u001b[33mINFO\u001b[0m\u001b[1m]\u001b[0m Done.\n",
      "\u001b[1m[\u001b[0m\u001b[33mINFO\u001b[0m\u001b[1m]\u001b[0m Estimating the physical properties.\n",
      "\u001b[2K👍 Object 8/8 \u001b[90m━━━━━━━━━━━━━━━━━━━━━━━━━━━━━━━━━━━━━\u001b[0m \u001b[35m100% \u001b[0m \u001b[33m0:00:18\u001b[0m \u001b[36m0:00:00\u001b[0m \u001b[31m19.0/s\u001b[0mm-:--:--\u001b[0m \u001b[31m0.0/s\u001b[0m\n",
      "\u001b[?25h\u001b[1m[\u001b[0m\u001b[33mINFO\u001b[0m\u001b[1m]\u001b[0m Done.\n",
      "\u001b[1m[\u001b[0m\u001b[33mINFO\u001b[0m\u001b[1m]\u001b[0m Block processed.\n",
      "\u001b[93m─────────────────────────────── \u001b[0mGlobal analysis\u001b[93m ────────────────────────────────\u001b[0m\n",
      "\u001b[1m[\u001b[0m\u001b[33mINFO\u001b[0m\u001b[1m]\u001b[0m Estimating the physical properties.\n",
      "\u001b[1m[\u001b[0m\u001b[33mINFO\u001b[0m\u001b[1m]\u001b[0m Computing the best fit spectra.\n",
      "\u001b[2K👍 Object 8/8 \u001b[90m━━━━━━━━━━━━━━━━━━━━━━━━━━━━━━━━━━━━━\u001b[0m \u001b[35m100% \u001b[0m \u001b[33m0:00:00\u001b[0m \u001b[36m0:00:00\u001b[0m \u001b[31m29.7/s\u001b[0m0:00:01\u001b[0m \u001b[31m29.6/s\u001b[0m\n",
      "\u001b[?25h\u001b[1m[\u001b[0m\u001b[33mINFO\u001b[0m\u001b[1m]\u001b[0m Done.\n",
      "\u001b[1m[\u001b[0m\u001b[33mINFO\u001b[0m\u001b[1m]\u001b[0m Sanity check of the analysis results.\n",
      "\u001b[1m[\u001b[0m\u001b[33mINFO\u001b[0m\u001b[1m]\u001b[0m \u001b[1;94m0.0\u001b[0m% of the objects have χ²_red~\u001b[1;94m0\u001b[0m and \u001b[1;94m50.0\u001b[0m% χ²_red<\u001b[1;94m0.5\u001b[0m.\n",
      "\u001b[1m[\u001b[0m\u001b[33mINFO\u001b[0m\u001b[1m]\u001b[0m Saving the analysis results.\n",
      "\u001b[1m[\u001b[0m\u001b[33mINFO\u001b[0m\u001b[1m]\u001b[0m Run completed! 👍\n",
      "\u001b[1m[\u001b[0m\u001b[33mINFO\u001b[0m\u001b[1m]\u001b[0m End: \u001b[1;94m2025\u001b[0m-\u001b[1;94m06\u001b[0m-\u001b[1;94m08\u001b[0m/\u001b[1;92m02:09:45\u001b[0m\n",
      "\u001b[1m[\u001b[0m\u001b[33mINFO\u001b[0m\u001b[1m]\u001b[0m Total duration: \u001b[1;92m0:03:24\u001b[0m\n",
      "\u001b[2K👍 Object 8/8 \u001b[90m━━━━━━━━━━━━━━━━━━━━━━━━━━━━━━━━━━━━━━\u001b[0m \u001b[35m100% \u001b[0m \u001b[33m0:00:00\u001b[0m \u001b[36m0:00:00\u001b[0m \u001b[31m0.0/s\u001b[0m0.0/s\u001b[0m\n",
      "\u001b[?25h\u001b[1m[\u001b[0m\u001b[33mINFO\u001b[0m\u001b[1m]\u001b[0m Done.\n"
     ]
    }
   ],
   "source": [
    "run_cigale('pcigale.ini', CIGALE_PARAMS, 'ptfccsne', plot=True)"
   ]
  },
  {
   "cell_type": "code",
   "execution_count": 283,
   "id": "d76e10c8",
   "metadata": {},
   "outputs": [],
   "source": [
    "ptf_sne = read_ptf_sample('ptf_ccsne.csv')\n",
    "ptf_sne = ptf_sne[ptf_sne['ref'] == 'This paper']\n",
    "\n",
    "redshifts = read_ptf_redshifts('ptf_ccsne_redshifts.txt')"
   ]
  },
  {
   "cell_type": "code",
   "execution_count": null,
   "id": "7f3477bb",
   "metadata": {},
   "outputs": [],
   "source": [
    "rows = []\n",
    "sne = ['PTF09awk', 'PTF10ad', 'PTF10acsq', 'PTF11kaa', 'iPTF13aqj', 'iPTF15dtg', 'iPTF16hfb', 'iPTF17zg']\n",
    "for sn in sne:\n",
    "    rows.append(get_sn_data(sn, ptf_sne, redshifts))"
   ]
  },
  {
   "cell_type": "code",
   "execution_count": 335,
   "id": "bf5f0755",
   "metadata": {},
   "outputs": [],
   "source": [
    "with open('ptf_ccsne_cigale.txt', 'a') as f:\n",
    "    f.write('\\n'.join(rows))"
   ]
  },
  {
   "cell_type": "code",
   "execution_count": null,
   "id": "9a05944d",
   "metadata": {},
   "outputs": [],
   "source": [
    "awkmag = np.array([20.00, 19.90, 19.55, 18.53, 18.24, 17.96, 17.93, 18.75, 19.52])\n",
    "awkerr = np.array([0.17, 0.06, 0.11, 0.03, 0.06, 0.09, 0.09, 0.14, 0.12])\n",
    "awkflux = 10**((awkmag - 8.90)/-2.5)*1000\n",
    "awkfluxerr = awkerr * awkflux * np.log(10)/2.5"
   ]
  },
  {
   "cell_type": "code",
   "execution_count": 241,
   "id": "0b7e64c1",
   "metadata": {},
   "outputs": [
    {
     "data": {
      "text/plain": [
       "array([ 1.4e-01,  1.7e-01,  8.0e-02,  1.1e-01,  1.0e-01,  1.5e-01,\n",
       "        3.6e-01, -9.9e+01, -9.9e+01])"
      ]
     },
     "execution_count": 241,
     "metadata": {},
     "output_type": "execute_result"
    }
   ],
   "source": [
    "awkerr"
   ]
  },
  {
   "cell_type": "code",
   "execution_count": 338,
   "id": "41a10ccf",
   "metadata": {},
   "outputs": [],
   "source": [
    "hdul = fits.open('ptfccsne/out/results.fits')\n",
    "results = Table(hdul[1].data)"
   ]
  },
  {
   "cell_type": "code",
   "execution_count": 339,
   "id": "13e545c0",
   "metadata": {},
   "outputs": [
    {
     "data": {
      "text/html": [
       "<div><i>Table length=8</i>\n",
       "<table id=\"table4943041872\" class=\"table-striped table-bordered table-condensed\">\n",
       "<thead><tr><th>id</th><th>bayes.agn.fracAGN_dale2014</th><th>bayes.agn.fracAGN_dale2014_err</th><th>bayes.attenuation.E_BVs.nebular.emission_old</th><th>bayes.attenuation.E_BVs.nebular.emission_old_err</th><th>bayes.attenuation.E_BVs.nebular.emission_young</th><th>bayes.attenuation.E_BVs.nebular.emission_young_err</th><th>bayes.attenuation.E_BVs.stellar.old</th><th>bayes.attenuation.E_BVs.stellar.old_err</th><th>bayes.attenuation.E_BVs.stellar.young</th><th>bayes.attenuation.E_BVs.stellar.young_err</th><th>bayes.attenuation.ebvs_old_factor</th><th>bayes.attenuation.ebvs_old_factor_err</th><th>bayes.attenuation.galex.FUV</th><th>bayes.attenuation.galex.FUV_err</th><th>bayes.attenuation.generic.bessell.B</th><th>bayes.attenuation.generic.bessell.B_err</th><th>bayes.attenuation.generic.bessell.V</th><th>bayes.attenuation.generic.bessell.V_err</th><th>bayes.attenuation.powerlaw_slope</th><th>bayes.attenuation.powerlaw_slope_err</th><th>bayes.attenuation.uv_bump_amplitude</th><th>bayes.attenuation.uv_bump_amplitude_err</th><th>bayes.attenuation.uv_bump_wavelength</th><th>bayes.attenuation.uv_bump_wavelength_err</th><th>bayes.attenuation.uv_bump_width</th><th>bayes.attenuation.uv_bump_width_err</th><th>bayes.dust.alpha</th><th>bayes.dust.alpha_err</th><th>bayes.nebular.f_dust</th><th>bayes.nebular.f_dust_err</th><th>bayes.nebular.f_esc</th><th>bayes.nebular.f_esc_err</th><th>bayes.nebular.lines_width</th><th>bayes.nebular.lines_width_err</th><th>bayes.nebular.logU</th><th>bayes.nebular.logU_err</th><th>bayes.nebular.ne</th><th>bayes.nebular.ne_err</th><th>bayes.nebular.zgas</th><th>bayes.nebular.zgas_err</th><th>bayes.sfh.age</th><th>bayes.sfh.age_err</th><th>bayes.sfh.age_burst</th><th>bayes.sfh.age_burst_err</th><th>bayes.sfh.age_main</th><th>bayes.sfh.age_main_err</th><th>bayes.sfh.f_burst</th><th>bayes.sfh.f_burst_err</th><th>bayes.sfh.tau_burst</th><th>bayes.sfh.tau_burst_err</th><th>bayes.sfh.tau_main</th><th>bayes.sfh.tau_main_err</th><th>bayes.stellar.age_m_star</th><th>bayes.stellar.age_m_star_err</th><th>bayes.stellar.imf</th><th>bayes.stellar.imf_err</th><th>bayes.stellar.metallicity</th><th>bayes.stellar.metallicity_err</th><th>bayes.stellar.old_young_separation_age</th><th>bayes.stellar.old_young_separation_age_err</th><th>bayes.universe.age</th><th>bayes.universe.age_err</th><th>bayes.universe.luminosity_distance</th><th>bayes.universe.luminosity_distance_err</th><th>bayes.universe.redshift</th><th>bayes.universe.redshift_err</th><th>bayes.attenuation.nebular.emission_old</th><th>bayes.attenuation.nebular.emission_old_err</th><th>bayes.attenuation.nebular.emission_young</th><th>bayes.attenuation.nebular.emission_young_err</th><th>bayes.attenuation.stellar.old</th><th>bayes.attenuation.stellar.old_err</th><th>bayes.attenuation.stellar.young</th><th>bayes.attenuation.stellar.young_err</th><th>bayes.dust.luminosity</th><th>bayes.dust.luminosity_err</th><th>bayes.sfh.integrated</th><th>bayes.sfh.integrated_err</th><th>bayes.sfh.sfr</th><th>bayes.sfh.sfr_err</th><th>bayes.sfh.sfr100Myrs</th><th>bayes.sfh.sfr100Myrs_err</th><th>bayes.sfh.sfr10Myrs</th><th>bayes.sfh.sfr10Myrs_err</th><th>bayes.stellar.lum</th><th>bayes.stellar.lum_err</th><th>bayes.stellar.lum_ly</th><th>bayes.stellar.lum_ly_err</th><th>bayes.stellar.lum_ly_old</th><th>bayes.stellar.lum_ly_old_err</th><th>bayes.stellar.lum_ly_young</th><th>bayes.stellar.lum_ly_young_err</th><th>bayes.stellar.lum_old</th><th>bayes.stellar.lum_old_err</th><th>bayes.stellar.lum_young</th><th>bayes.stellar.lum_young_err</th><th>bayes.stellar.m_gas</th><th>bayes.stellar.m_gas_err</th><th>bayes.stellar.m_gas_old</th><th>bayes.stellar.m_gas_old_err</th><th>bayes.stellar.m_gas_young</th><th>bayes.stellar.m_gas_young_err</th><th>bayes.stellar.m_star</th><th>bayes.stellar.m_star_err</th><th>bayes.stellar.m_star_old</th><th>bayes.stellar.m_star_old_err</th><th>bayes.stellar.m_star_young</th><th>bayes.stellar.m_star_young_err</th><th>bayes.stellar.n_ly</th><th>bayes.stellar.n_ly_err</th><th>bayes.stellar.n_ly_old</th><th>bayes.stellar.n_ly_old_err</th><th>bayes.stellar.n_ly_young</th><th>bayes.stellar.n_ly_young_err</th><th>bayes.2mass.H</th><th>bayes.2mass.H_err</th><th>bayes.2mass.J</th><th>bayes.2mass.J_err</th><th>bayes.2mass.Ks</th><th>bayes.2mass.Ks_err</th><th>bayes.cfht.megaprime.g</th><th>bayes.cfht.megaprime.g_err</th><th>bayes.cfht.megaprime.i</th><th>bayes.cfht.megaprime.i_err</th><th>bayes.cfht.megaprime.r</th><th>bayes.cfht.megaprime.r_err</th><th>bayes.cfht.megaprime.u</th><th>bayes.cfht.megaprime.u_err</th><th>bayes.cfht.megaprime.z</th><th>bayes.cfht.megaprime.z_err</th><th>bayes.ctio.ls.g</th><th>bayes.ctio.ls.g_err</th><th>bayes.ctio.ls.r</th><th>bayes.ctio.ls.r_err</th><th>bayes.ctio.ls.z</th><th>bayes.ctio.ls.z_err</th><th>bayes.galex.FUV</th><th>bayes.galex.FUV_err</th><th>bayes.galex.NUV</th><th>bayes.galex.NUV_err</th><th>bayes.panstarrs.ps1.g</th><th>bayes.panstarrs.ps1.g_err</th><th>bayes.panstarrs.ps1.i</th><th>bayes.panstarrs.ps1.i_err</th><th>bayes.panstarrs.ps1.r</th><th>bayes.panstarrs.ps1.r_err</th><th>bayes.panstarrs.ps1.y</th><th>bayes.panstarrs.ps1.y_err</th><th>bayes.panstarrs.ps1.z</th><th>bayes.panstarrs.ps1.z_err</th><th>bayes.sloan.sdss.gprime</th><th>bayes.sloan.sdss.gprime_err</th><th>bayes.sloan.sdss.iprime</th><th>bayes.sloan.sdss.iprime_err</th><th>bayes.sloan.sdss.rprime</th><th>bayes.sloan.sdss.rprime_err</th><th>bayes.sloan.sdss.uprime</th><th>bayes.sloan.sdss.uprime_err</th><th>bayes.sloan.sdss.zprime</th><th>bayes.sloan.sdss.zprime_err</th><th>bayes.wise.W1</th><th>bayes.wise.W1_err</th><th>bayes.wise.W2</th><th>bayes.wise.W2_err</th><th>best.chi_square</th><th>best.reduced_chi_square</th><th>best.agn.fracAGN_dale2014</th><th>best.attenuation.E_BVs.nebular.emission_old</th><th>best.attenuation.E_BVs.nebular.emission_young</th><th>best.attenuation.E_BVs.stellar.old</th><th>best.attenuation.E_BVs.stellar.young</th><th>best.attenuation.ebvs_old_factor</th><th>best.attenuation.galex.FUV</th><th>best.attenuation.generic.bessell.B</th><th>best.attenuation.generic.bessell.V</th><th>best.attenuation.powerlaw_slope</th><th>best.attenuation.uv_bump_amplitude</th><th>best.attenuation.uv_bump_wavelength</th><th>best.attenuation.uv_bump_width</th><th>best.dust.alpha</th><th>best.nebular.f_dust</th><th>best.nebular.f_esc</th><th>best.nebular.lines_width</th><th>best.nebular.logU</th><th>best.nebular.ne</th><th>best.nebular.zgas</th><th>best.sfh.age</th><th>best.sfh.age_burst</th><th>best.sfh.age_main</th><th>best.sfh.f_burst</th><th>best.sfh.tau_burst</th><th>best.sfh.tau_main</th><th>best.stellar.age_m_star</th><th>best.stellar.imf</th><th>best.stellar.metallicity</th><th>best.stellar.old_young_separation_age</th><th>best.universe.age</th><th>best.universe.luminosity_distance</th><th>best.universe.redshift</th><th>best.attenuation.nebular.emission_old</th><th>best.attenuation.nebular.emission_young</th><th>best.attenuation.stellar.old</th><th>best.attenuation.stellar.young</th><th>best.dust.luminosity</th><th>best.sfh.integrated</th><th>best.sfh.sfr</th><th>best.sfh.sfr100Myrs</th><th>best.sfh.sfr10Myrs</th><th>best.stellar.lum</th><th>best.stellar.lum_ly</th><th>best.stellar.lum_ly_old</th><th>best.stellar.lum_ly_young</th><th>best.stellar.lum_old</th><th>best.stellar.lum_young</th><th>best.stellar.m_gas</th><th>best.stellar.m_gas_old</th><th>best.stellar.m_gas_young</th><th>best.stellar.m_star</th><th>best.stellar.m_star_old</th><th>best.stellar.m_star_young</th><th>best.stellar.n_ly</th><th>best.stellar.n_ly_old</th><th>best.stellar.n_ly_young</th><th>best.galex.FUV</th><th>best.galex.NUV</th><th>best.sloan.sdss.uprime</th><th>best.sloan.sdss.gprime</th><th>best.sloan.sdss.rprime</th><th>best.sloan.sdss.iprime</th><th>best.sloan.sdss.zprime</th><th>best.panstarrs.ps1.g</th><th>best.panstarrs.ps1.r</th><th>best.panstarrs.ps1.i</th><th>best.panstarrs.ps1.z</th><th>best.panstarrs.ps1.y</th><th>best.2mass.J</th><th>best.2mass.H</th><th>best.2mass.Ks</th><th>best.wise.W1</th><th>best.wise.W2</th><th>best.cfht.megaprime.u</th><th>best.cfht.megaprime.g</th><th>best.cfht.megaprime.r</th><th>best.cfht.megaprime.i</th><th>best.cfht.megaprime.z</th><th>best.ctio.ls.g</th><th>best.ctio.ls.r</th><th>best.ctio.ls.z</th></tr></thead>\n",
       "<thead><tr><th>str9</th><th>float64</th><th>float64</th><th>float64</th><th>float64</th><th>float64</th><th>float64</th><th>float64</th><th>float64</th><th>float64</th><th>float64</th><th>float64</th><th>float64</th><th>float64</th><th>float64</th><th>float64</th><th>float64</th><th>float64</th><th>float64</th><th>float64</th><th>float64</th><th>float64</th><th>float64</th><th>float64</th><th>float64</th><th>float64</th><th>float64</th><th>float64</th><th>float64</th><th>float64</th><th>float64</th><th>float64</th><th>float64</th><th>float64</th><th>float64</th><th>float64</th><th>float64</th><th>float64</th><th>float64</th><th>float64</th><th>float64</th><th>float64</th><th>float64</th><th>float64</th><th>float64</th><th>float64</th><th>float64</th><th>float64</th><th>float64</th><th>float64</th><th>float64</th><th>float64</th><th>float64</th><th>float64</th><th>float64</th><th>float64</th><th>float64</th><th>float64</th><th>float64</th><th>float64</th><th>float64</th><th>float64</th><th>float64</th><th>float64</th><th>float64</th><th>float64</th><th>float64</th><th>float64</th><th>float64</th><th>float64</th><th>float64</th><th>float64</th><th>float64</th><th>float64</th><th>float64</th><th>float64</th><th>float64</th><th>float64</th><th>float64</th><th>float64</th><th>float64</th><th>float64</th><th>float64</th><th>float64</th><th>float64</th><th>float64</th><th>float64</th><th>float64</th><th>float64</th><th>float64</th><th>float64</th><th>float64</th><th>float64</th><th>float64</th><th>float64</th><th>float64</th><th>float64</th><th>float64</th><th>float64</th><th>float64</th><th>float64</th><th>float64</th><th>float64</th><th>float64</th><th>float64</th><th>float64</th><th>float64</th><th>float64</th><th>float64</th><th>float64</th><th>float64</th><th>float64</th><th>float64</th><th>float64</th><th>float64</th><th>float64</th><th>float64</th><th>float64</th><th>float64</th><th>float64</th><th>float64</th><th>float64</th><th>float64</th><th>float64</th><th>float64</th><th>float64</th><th>float64</th><th>float64</th><th>float64</th><th>float64</th><th>float64</th><th>float64</th><th>float64</th><th>float64</th><th>float64</th><th>float64</th><th>float64</th><th>float64</th><th>float64</th><th>float64</th><th>float64</th><th>float64</th><th>float64</th><th>float64</th><th>float64</th><th>float64</th><th>float64</th><th>float64</th><th>float64</th><th>float64</th><th>float64</th><th>float64</th><th>float64</th><th>float64</th><th>float64</th><th>float64</th><th>float64</th><th>float64</th><th>float64</th><th>float64</th><th>float64</th><th>float64</th><th>float64</th><th>float64</th><th>float64</th><th>float64</th><th>float64</th><th>float64</th><th>float64</th><th>float64</th><th>float64</th><th>float64</th><th>float64</th><th>float64</th><th>float64</th><th>float64</th><th>float64</th><th>float64</th><th>float64</th><th>float64</th><th>float64</th><th>float64</th><th>float64</th><th>float64</th><th>float64</th><th>float64</th><th>float64</th><th>float64</th><th>float64</th><th>float64</th><th>float64</th><th>float64</th><th>float64</th><th>float64</th><th>float64</th><th>float64</th><th>float64</th><th>float64</th><th>float64</th><th>float64</th><th>float64</th><th>float64</th><th>float64</th><th>float64</th><th>float64</th><th>float64</th><th>float64</th><th>float64</th><th>float64</th><th>float64</th><th>float64</th><th>float64</th><th>float64</th><th>float64</th><th>float64</th><th>float64</th><th>float64</th><th>float64</th><th>float64</th><th>float64</th><th>float64</th><th>float64</th><th>float64</th><th>float64</th><th>float64</th><th>float64</th><th>float64</th><th>float64</th><th>float64</th><th>float64</th><th>float64</th><th>float64</th><th>float64</th><th>float64</th><th>float64</th><th>float64</th><th>float64</th><th>float64</th><th>float64</th><th>float64</th><th>float64</th><th>float64</th><th>float64</th><th>float64</th><th>float64</th><th>float64</th><th>float64</th><th>float64</th><th>float64</th></tr></thead>\n",
       "<tr><td>PTF09awk</td><td>0.0</td><td>0.0</td><td>0.15837963831514243</td><td>0.07338112303549017</td><td>0.3571041949007411</td><td>0.19968878069955642</td><td>0.15837963831514243</td><td>0.07338112303549017</td><td>0.3571041949007411</td><td>0.19968878069955642</td><td>0.498394959954445</td><td>0.2542278634423334</td><td>2.2448938435359476</td><td>0.7964666627096864</td><td>0.8106671989799382</td><td>0.39739571688592834</td><td>0.6181085602869468</td><td>0.3207551133116655</td><td>-0.23307695705397805</td><td>0.13862247574058875</td><td>1.549715451088498</td><td>1.0844571177049105</td><td>217.4999999999999</td><td>1.1368683772161602e-13</td><td>34.99999999999998</td><td>2.1316282072802977e-14</td><td>1.7267783901780034</td><td>0.5578789644962073</td><td>0.0</td><td>0.0</td><td>0.0</td><td>0.0</td><td>299.99999999999994</td><td>5.684341886080801e-14</td><td>-1.9999999999999987</td><td>1.1322097734007344e-15</td><td>99.99999999999999</td><td>1.4210854715202002e-14</td><td>0.02</td><td>0.0</td><td>4457.034284808673</td><td>3582.2828409279364</td><td>19.99999999999999</td><td>1.0658141036401489e-14</td><td>4457.034284808673</td><td>3582.2828409279364</td><td>0.0</td><td>0.0</td><td>49.99999999999999</td><td>7.105427357601001e-15</td><td>4432.035726184155</td><td>2750.6657273821606</td><td>1812.3220336671714</td><td>1538.5461713932614</td><td>0.9999999999999993</td><td>5.661048867003672e-16</td><td>0.005103113650578089</td><td>0.004203826614291783</td><td>9.999999999999995</td><td>5.329070518200744e-15</td><td>12956.61473406326</td><td>1.8189894035458563e-12</td><td>8.572424603754506e+24</td><td>4294967295.9999995</td><td>0.05999999999999999</td><td>6.9388939039072276e-18</td><td>8.134129808560318e+33</td><td>1.077011626797379e+34</td><td>7.06079474523664e+35</td><td>6.607729635133011e+35</td><td>2.8188095437519165e+36</td><td>2.2124770682064904e+36</td><td>2.810286101117048e+36</td><td>2.4649397337636764e+36</td><td>6.34330924920119e+36</td><td>5.222499733911207e+36</td><td>3403057185.5793386</td><td>1939542470.5445676</td><td>1.5725177673194133</td><td>1.3004228606830563</td><td>1.5219700963975218</td><td>1.1661517956285683</td><td>1.5682271377690966</td><td>1.2884649391028862</td><td>9.365941903213596e+36</td><td>5.479865388901973e+36</td><td>1.1460481740535557e+36</td><td>9.700885031842769e+35</td><td>1.3146453422865308e+34</td><td>1.350761614753869e+34</td><td>1.1329017206306897e+36</td><td>9.611880643386231e+35</td><td>5.206136035101069e+36</td><td>2.1558061638418352e+36</td><td>4.159805868112533e+36</td><td>3.423797249532953e+36</td><td>1441058693.8612921</td><td>986031625.3722789</td><td>1440281042.6656804</td><td>986446585.9889616</td><td>777651.1956122232</td><td>634837.572775063</td><td>1961998496.2478514</td><td>955870545.0491828</td><td>1947093871.535966</td><td>963814653.0507529</td><td>14904624.711883806</td><td>12251823.933672745</td><td>3.2309682377399995e+53</td><td>2.723089866404175e+53</td><td>4.465553197293149e+51</td><td>4.9802482370303956e+51</td><td>3.186312705767068e+53</td><td>2.6879818699359725e+53</td><td>0.4575231480510693</td><td>0.03368831761451265</td><td>0.42193730375242655</td><td>0.01838738301351502</td><td>0.4109423646776576</td><td>0.0394348391231346</td><td>0.19607383710480797</td><td>0.006902502393897429</td><td>0.33329367685548156</td><td>0.012619919421675181</td><td>0.2907515570076341</td><td>0.007140249736738891</td><td>0.07918220172233496</td><td>0.0049680056018910485</td><td>0.37486878292555126</td><td>0.012962162332742395</td><td>0.20348275648893765</td><td>0.006808715532411858</td><td>0.29473522115772044</td><td>0.007562916889775487</td><td>0.38137137045026315</td><td>0.012130496725840616</td><td>0.025492692899258342</td><td>0.004588516449848398</td><td>0.035646751913138514</td><td>0.0036219570300045248</td><td>0.2064472023482175</td><td>0.006736594361131836</td><td>0.3482665714095497</td><td>0.012475362458779511</td><td>0.26780361612319303</td><td>0.008995418823165466</td><td>0.4077286887264502</td><td>0.009911101290287355</td><td>0.36205150874382</td><td>0.014173237844457906</td><td>0.19884577993386393</td><td>0.006848926764081475</td><td>0.3427136598183645</td><td>0.011557347875090001</td><td>0.27472221660900803</td><td>0.0076739907099527835</td><td>0.0731039194115182</td><td>0.004967939031577141</td><td>0.4105492704442693</td><td>0.011632170629209414</td><td>0.27924897947204447</td><td>0.07934411359530175</td><td>0.20157267053668093</td><td>0.08160929479756963</td><td>3.330632246134646</td><td>0.23790230329533185</td><td>0.0</td><td>0.1</td><td>0.2</td><td>0.1</td><td>0.2</td><td>0.5</td><td>1.511420871581211</td><td>0.4985011908879325</td><td>0.371737324029751</td><td>-0.2</td><td>3.0</td><td>217.5</td><td>35.0</td><td>1.0</td><td>0.0</td><td>0.0</td><td>300.0</td><td>-2.0</td><td>100.0</td><td>0.02</td><td>8000.0</td><td>20.0</td><td>8000.0</td><td>0.0</td><td>50.0</td><td>8000.0</td><td>2990.560666994263</td><td>1.0</td><td>0.004</td><td>10.0</td><td>12935.446202749758</td><td>8.810896902740423e+24</td><td>0.0616</td><td>2.9926633050401455e+33</td><td>2.804406741645285e+35</td><td>1.2294957532542556e+36</td><td>1.1820368040954736e+36</td><td>2.6949658948192977e+36</td><td>4263955818.0985565</td><td>0.7421054469087236</td><td>0.7420857125140264</td><td>0.7421052293492924</td><td>5.624674559159727e+36</td><td>5.4091672472612664e+35</td><td>7.459655358369279e+33</td><td>5.3345706936775735e+35</td><td>3.668971411764131e+36</td><td>1.9557031473955954e+36</td><td>1884466470.1384273</td><td>1884102194.7617822</td><td>364275.37664516526</td><td>2379489352.9160633</td><td>2372432571.043276</td><td>7056781.87278726</td><td>1.508168828677604e+53</td><td>2.198719330117815e+51</td><td>1.4861816353764258e+53</td><td>0.031142106196700152</td><td>0.0357077553175453</td><td>0.07143979830242225</td><td>0.19503786854878763</td><td>0.2746735061527283</td><td>0.3440770897068055</td><td>0.4135164963054147</td><td>0.20314203009616458</td><td>0.2688689705832139</td><td>0.3468022462408269</td><td>0.36736473156813587</td><td>0.40730523943724173</td><td>0.42843632450713076</td><td>0.4683808484068359</td><td>0.4050159859782073</td><td>0.21839979660037742</td><td>0.13600948116357503</td><td>0.07747900159545522</td><td>0.192067168640382</td><td>0.28963694905265297</td><td>0.33730159148897165</td><td>0.37969062074877724</td><td>0.19997402604769685</td><td>0.29334136466614924</td><td>0.38546667449913424</td></tr>\n",
       "<tr><td>PTF10ad</td><td>0.0</td><td>0.0</td><td>0.17469926006543338</td><td>0.08225877473978731</td><td>0.4325387116964608</td><td>0.27726738198806417</td><td>0.17469926006543338</td><td>0.08225877473978731</td><td>0.4325387116964608</td><td>0.27726738198806417</td><td>0.4796446060584108</td><td>0.25733379093341774</td><td>2.5733055016027055</td><td>0.9107482956791676</td><td>0.9454565476503564</td><td>0.4778000196194026</td><td>0.7226810120445549</td><td>0.3914777705804484</td><td>-0.21804396394963188</td><td>0.1297130642285576</td><td>1.1552667122731</td><td>1.0783756280908816</td><td>217.49999999999977</td><td>2.2737367544323166e-13</td><td>34.99999999999996</td><td>4.263256414560597e-14</td><td>1.7733796187174973</td><td>0.5516564127739322</td><td>0.0</td><td>0.0</td><td>0.0</td><td>0.0</td><td>299.9999999999997</td><td>2.8421709430403997e-13</td><td>-1.9999999999999978</td><td>2.2204460492503123e-15</td><td>99.99999999999991</td><td>8.526512829121193e-14</td><td>0.02</td><td>0.0</td><td>3607.6463128671635</td><td>3220.3530852500835</td><td>19.999999999999982</td><td>1.7763568394002498e-14</td><td>3607.6463128671635</td><td>3220.3530852500835</td><td>0.0</td><td>0.0</td><td>49.99999999999996</td><td>4.263256414560597e-14</td><td>4320.949801672024</td><td>2741.6948743791613</td><td>1431.7026562276142</td><td>1346.4110196681147</td><td>0.9999999999999989</td><td>1.1102230246251561e-15</td><td>0.023742689273610996</td><td>0.018160704428931692</td><td>9.999999999999991</td><td>8.881784197001249e-15</td><td>12567.6743403215</td><td>1.0913936421275128e-11</td><td>1.312625156382203e+25</td><td>8589934591.999985</td><td>0.08999999999999984</td><td>1.526556658859587e-16</td><td>1.9652470131084032e+33</td><td>3.3537521645338766e+33</td><td>2.545905522710696e+35</td><td>2.679402360386401e+35</td><td>9.391415997229484e+35</td><td>8.119414865491633e+35</td><td>1.2370114411444338e+36</td><td>1.0480429018207139e+36</td><td>2.4327088401515603e+36</td><td>2.0806101861049112e+36</td><td>1034282142.5182028</td><td>620960959.2944026</td><td>0.6686211393259313</td><td>0.5404872979942178</td><td>0.6326878620295301</td><td>0.45882659156209515</td><td>0.6655553621992689</td><td>0.5332450209023296</td><td>3.4001819888084844e+36</td><td>2.1552256921447388e+36</td><td>3.8286902091977675e+35</td><td>3.828756309629085e+35</td><td>2.95950051319841e+33</td><td>4.094681449344091e+33</td><td>3.799095204065786e+35</td><td>3.8002803392485215e+35</td><td>1.6922758010214374e+36</td><td>7.909274718490738e+35</td><td>1.7079061877870462e+36</td><td>1.3988458509814657e+36</td><td>415845328.3877916</td><td>297742368.5931085</td><td>415463999.81349325</td><td>297929824.7646243</td><td>381328.5742987531</td><td>269804.6225174546</td><td>618436814.5407685</td><td>323802412.0450496</td><td>612162589.0827154</td><td>327362841.832084</td><td>6274225.458052123</td><td>5068346.080396883</td><td>1.1166953899733243e+53</td><td>1.079882405165106e+53</td><td>1.0149337145075757e+51</td><td>1.5473346972773196e+51</td><td>1.106546052828249e+53</td><td>1.0686607244902554e+53</td><td>0.0806657964882713</td><td>0.012950918471460699</td><td>0.07087046360329881</td><td>0.008838177166355465</td><td>0.08335032069516865</td><td>0.01494527798694049</td><td>0.02417702024205744</td><td>0.0012007483030916386</td><td>0.04641839545369858</td><td>0.0017803715107538338</td><td>0.03603440153725145</td><td>0.0010161276432071383</td><td>0.010086271088090034</td><td>0.0010238475431544134</td><td>0.05184345862515967</td><td>0.002563235488054896</td><td>0.02528828604230611</td><td>0.0011935733805789363</td><td>0.0368130756182823</td><td>0.0009815768774788507</td><td>0.05334419992447788</td><td>0.002667758344952906</td><td>0.00303178616049877</td><td>0.0008563705273125557</td><td>0.004854087591730967</td><td>0.0008458955664219913</td><td>0.025834542036825763</td><td>0.0011933544090653445</td><td>0.045479598999147844</td><td>0.001771358938916477</td><td>0.034328655268437994</td><td>0.0010527999048142932</td><td>0.056810176539644694</td><td>0.003086106864916325</td><td>0.049906498801930876</td><td>0.002358541064047625</td><td>0.024513691308916476</td><td>0.001192489461456407</td><td>0.04612867506990269</td><td>0.001705664322935876</td><td>0.0345964274707007</td><td>0.0010801296473193168</td><td>0.009450286270265808</td><td>0.0010218830999754495</td><td>0.06318171138361096</td><td>0.005371319365922586</td><td>0.05281832962989286</td><td>0.006335830121610844</td><td>0.03887935327442352</td><td>0.006067302699618933</td><td>2.046251188317215</td><td>0.17052093235976792</td><td>0.0</td><td>0.3</td><td>1.0</td><td>0.3</td><td>1.0</td><td>0.3</td><td>4.02307827246133</td><td>1.8890773007168544</td><td>1.5205168638741329</td><td>-0.13</td><td>0.0</td><td>217.5</td><td>35.0</td><td>1.0</td><td>0.0</td><td>0.0</td><td>300.0</td><td>-2.0</td><td>100.0</td><td>0.02</td><td>250.0</td><td>20.0</td><td>250.0</td><td>0.0</td><td>50.0</td><td>250.0</td><td>93.41048862399406</td><td>1.0</td><td>0.004</td><td>10.0</td><td>12567.674340321511</td><td>1.3126251563822038e+25</td><td>0.09</td><td>7.392604410845853e+33</td><td>9.174469707889282e+35</td><td>2.9629698663505733e+36</td><td>3.505367143223187e+36</td><td>7.393176584773533e+36</td><td>332379699.3383219</td><td>1.8561337273898424</td><td>1.7944730214957427</td><td>1.8555647922371485</td><td>8.643140783549306e+36</td><td>1.343147225306509e+36</td><td>8.982752354433045e+33</td><td>1.3341644729520758e+36</td><td>3.752534687911924e+36</td><td>4.890606095637382e+36</td><td>83535633.28251404</td><td>82624996.31868505</td><td>910636.9638289757</td><td>248844078.44667506</td><td>231199055.09726542</td><td>17645023.349409636</td><td>3.7516938331893352e+53</td><td>3.4810738522922606e+51</td><td>3.7168830946664124e+53</td><td>0.0028880939769154097</td><td>0.005456736646926237</td><td>0.009667188869809067</td><td>0.024319598663218638</td><td>0.03422275703145586</td><td>0.0466114281886885</td><td>0.06327836503769953</td><td>0.025428431488948817</td><td>0.0339337730825732</td><td>0.04592684039197583</td><td>0.05069354975257487</td><td>0.05804393868051286</td><td>0.07000939851068078</td><td>0.07853647313145679</td><td>0.08249144555984117</td><td>0.053188296179036</td><td>0.039440062661703905</td><td>0.010208802820813937</td><td>0.023992886466184242</td><td>0.035650902269347515</td><td>0.04688710689776083</td><td>0.052877724093478504</td><td>0.024914496247853586</td><td>0.03642626514310812</td><td>0.054412590024584595</td></tr>\n",
       "<tr><td>PTF10acsq</td><td>0.0</td><td>0.0</td><td>0.6126512971217448</td><td>0.28223355172649045</td><td>1.3412751191576346</td><td>0.8214877455848304</td><td>0.6126512971217448</td><td>0.28223355172649045</td><td>1.3412751191576346</td><td>0.8214877455848304</td><td>0.5494381968371004</td><td>0.2740559426955034</td><td>7.413753988535897</td><td>3.289288777712974</td><td>2.7412607889276868</td><td>1.2919311833415787</td><td>2.0973061993162</td><td>1.0135532135515057</td><td>-0.26795260220792916</td><td>0.15754443103366605</td><td>1.4964093445741982</td><td>1.1180398741874906</td><td>217.49999999999991</td><td>1.1718571004216938e-13</td><td>34.99999999999997</td><td>2.842170943040403e-14</td><td>1.7500000000000007</td><td>0.5590169943749475</td><td>0.0</td><td>0.0</td><td>0.0</td><td>0.0</td><td>299.9999999999994</td><td>6.252776074688878e-13</td><td>-1.9999999999999993</td><td>6.66133814775093e-16</td><td>100.00000000000011</td><td>1.1368683772161613e-13</td><td>0.020000000000000004</td><td>3.469446951953617e-18</td><td>3368.8282051196284</td><td>2944.229838386561</td><td>20.000000000000007</td><td>7.105427357601008e-15</td><td>3368.8282051196284</td><td>2944.229838386561</td><td>0.0</td><td>0.0</td><td>50.00000000000006</td><td>5.684341886080807e-14</td><td>2784.9434777374263</td><td>2715.8796478999834</td><td>2036.697966750964</td><td>2244.943376419752</td><td>0.9999999999999997</td><td>3.330669073875465e-16</td><td>0.020174301745330834</td><td>0.019664560963358692</td><td>10.000000000000004</td><td>3.552713678800504e-15</td><td>11607.908309243729</td><td>3.637978807091716e-12</td><td>2.6086448530525845e+25</td><td>38654705664.00003</td><td>0.17000000000000007</td><td>5.551115123125788e-17</td><td>9.242888971497244e+33</td><td>2.643428093714567e+34</td><td>6.825657081632834e+35</td><td>1.1604471888772645e+36</td><td>3.1021848497691895e+36</td><td>3.7561061230606464e+36</td><td>3.065444763049332e+36</td><td>4.2284536188455587e+36</td><td>6.859438209953299e+36</td><td>8.893634285929062e+36</td><td>2597656893.071196</td><td>2399446794.3939743</td><td>1.5692509860220811</td><td>2.194218329708565</td><td>1.4491968807448792</td><td>1.9101014925214936</td><td>1.5589682340846502</td><td>2.1689821333198753</td><td>7.828166752154636e+36</td><td>9.435949021148725e+36</td><td>9.547392037783561e+35</td><td>1.661084221389969e+36</td><td>1.0962912401738282e+34</td><td>2.878090288153931e+34</td><td>9.437762913766197e+35</td><td>1.6359615442315574e+36</td><td>3.7760318302092744e+36</td><td>3.849522344231448e+36</td><td>4.052134921945383e+36</td><td>5.754829753645e+36</td><td>1108409902.22703</td><td>1178090579.5663881</td><td>1107503047.3618197</td><td>1178549769.5909045</td><td>906854.8652089956</td><td>1239705.855423111</td><td>1489246990.6423523</td><td>1232615188.9945526</td><td>1474564163.3685336</td><td>1237789172.9688776</td><td>14682827.27381441</td><td>20496218.524459302</td><td>2.7710594452150956e+53</td><td>4.6909835432816235e+53</td><td>3.832675256637774e+51</td><td>1.0716134826157705e+52</td><td>2.7327326926487176e+53</td><td>4.597798036627131e+53</td><td>0.02808362254152591</td><td>0.011809914800773601</td><td>0.020036707848020856</td><td>0.005968967374154148</td><td>0.03736731625446976</td><td>0.019936804403750397</td><td>0.0012879684563941742</td><td>0.0003759386855298027</td><td>0.006796920530325396</td><td>0.00042065920934663436</td><td>0.0039387661882631505</td><td>0.00035452998729140555</td><td>0.00028669091823025836</td><td>0.00018038663664703472</td><td>0.009982429073422679</td><td>0.0013667568165280036</td><td>0.0013868219555703742</td><td>0.0003941540125641072</td><td>0.0040132862527472125</td><td>0.00035405788089358774</td><td>0.010390430961903872</td><td>0.0015113886808245088</td><td>1.5509216186052617e-05</td><td>4.865839071892888e-05</td><td>4.216094999294331e-05</td><td>7.098073943585135e-05</td><td>0.0014448807236729952</td><td>0.0004023388602226412</td><td>0.0065219093640380525</td><td>0.000373609607267041</td><td>0.003615813327231779</td><td>0.00038236426428447663</td><td>0.011617889785688172</td><td>0.001953853959078948</td><td>0.009049938323133005</td><td>0.0010855857268826448</td><td>0.001318745960509764</td><td>0.00038350643943902356</td><td>0.006869656508084435</td><td>0.0004360459122517745</td><td>0.0036993822997946338</td><td>0.00037499153978789643</td><td>0.0002370483035559048</td><td>0.0001655561720240545</td><td>0.015235285980733709</td><td>0.0035500459446344786</td><td>0.026439167146705092</td><td>0.017837780354487368</td><td>0.024127244548342894</td><td>0.019489344226316613</td><td>2.662136477883463</td><td>0.6655341194708657</td><td>0.0</td><td>0.8999999999999999</td><td>3.0</td><td>0.8999999999999999</td><td>3.0</td><td>0.3</td><td>12.065091181525611</td><td>3.857235513215481</td><td>2.8900190635080962</td><td>-0.5</td><td>0.0</td><td>217.5</td><td>35.0</td><td>1.0</td><td>0.0</td><td>0.0</td><td>300.0</td><td>-2.0</td><td>100.0</td><td>0.02</td><td>250.0</td><td>20.0</td><td>250.0</td><td>0.0</td><td>50.0</td><td>250.0</td><td>94.04056840606363</td><td>1.0</td><td>0.05</td><td>10.0</td><td>11562.689926113118</td><td>2.6764252571011175e+25</td><td>0.174</td><td>1.9565578671002803e+33</td><td>1.0210693971888513e+36</td><td>4.139226987888803e+36</td><td>8.277906543873404e+36</td><td>1.344015948681816e+37</td><td>702406282.0633203</td><td>3.9225018647759327</td><td>3.7921964722904877</td><td>3.921299554207224</td><td>1.4826532519978198e+37</td><td>1.2841549227841161e+36</td><td>2.192586160849709e+33</td><td>1.2819623366232666e+36</td><td>5.0867160461719866e+36</td><td>9.739816473806211e+36</td><td>186704216.21373853</td><td>183680023.48104683</td><td>3024192.7326917085</td><td>515702071.9280965</td><td>479513263.04020125</td><td>36188808.887895234</td><td>4.070179556214298e+53</td><td>8.199288809820897e+50</td><td>4.0619802674044766e+53</td><td>1.3835946896663244e-07</td><td>1.0334332605980482e-05</td><td>0.00016593580734419465</td><td>0.0012764790207318646</td><td>0.003558653848620049</td><td>0.006429887244212416</td><td>0.02015195077888041</td><td>0.0014062822116254405</td><td>0.0034822576721715163</td><td>0.006064735670703946</td><td>0.009274364563845226</td><td>0.013223772645585451</td><td>0.02931809841648368</td><td>0.04703691854720795</td><td>0.0719679942744426</td><td>0.04821752427913277</td><td>0.0372186649475382</td><td>0.00021144360089797595</td><td>0.0012438330314289894</td><td>0.003781592365232626</td><td>0.006349977343199048</td><td>0.010699796006670426</td><td>0.0013464988193642314</td><td>0.003862379082143505</td><td>0.011335981464379353</td></tr>\n",
       "<tr><td>PTF11kaa</td><td>0.0</td><td>0.0</td><td>0.1012011770203184</td><td>0.08418334493375201</td><td>0.2298721619709146</td><td>0.19091668750214527</td><td>0.1012011770203184</td><td>0.08418334493375201</td><td>0.2298721619709146</td><td>0.19091668750214527</td><td>0.5070654180551062</td><td>0.2607633516459427</td><td>1.497126987751266</td><td>1.1121284617196956</td><td>0.49019122226986517</td><td>0.38233345743821123</td><td>0.3677549661362714</td><td>0.29157973209982363</td><td>-0.2950882394017933</td><td>0.16490179764473767</td><td>1.495543131743416</td><td>1.1180592618689518</td><td>217.49999999999977</td><td>2.2737367544323196e-13</td><td>34.99999999999988</td><td>1.2079226507921703e-13</td><td>1.5466822793184292</td><td>0.5285145915657704</td><td>0.0</td><td>0.0</td><td>0.0</td><td>0.0</td><td>299.99999999999994</td><td>5.684341886080799e-14</td><td>-1.9999999999999996</td><td>3.14018491736755e-16</td><td>99.99999999999986</td><td>1.4210854715201978e-13</td><td>0.019999999999999976</td><td>2.4286128663675272e-17</td><td>3945.853961492723</td><td>3655.374802260308</td><td>19.999999999999993</td><td>7.105427357600999e-15</td><td>3945.853961492723</td><td>3655.374802260308</td><td>0.0</td><td>0.0</td><td>49.99999999999993</td><td>7.105427357600989e-14</td><td>3616.5570910417778</td><td>2817.6948245340845</td><td>1822.5328586865717</td><td>1936.3612513739179</td><td>0.9999999999999998</td><td>1.570092458683775e-16</td><td>0.005768455626883515</td><td>0.008186380108049562</td><td>9.999999999999996</td><td>3.5527136788004994e-15</td><td>13225.381462244117</td><td>1.6370904631912695e-11</td><td>5.634147239142469e+24</td><td>2147483647.999999</td><td>0.03999999999999995</td><td>4.8572257327350543e-17</td><td>1.3150850135509307e+33</td><td>1.932424810932677e+33</td><td>8.562731742941498e+34</td><td>9.0781937788982e+34</td><td>3.1993637940320886e+35</td><td>3.1669017075717354e+35</td><td>3.2498859209043016e+35</td><td>3.278352435503508e+35</td><td>7.318673739366051e+35</td><td>7.088019906552552e+35</td><td>559461410.426579</td><td>465577840.1702774</td><td>0.21399774604022137</td><td>0.1693437952368604</td><td>0.20813630015912402</td><td>0.1523487122582747</td><td>0.21350183287658056</td><td>0.16780479703559575</td><td>1.311536799107662e+36</td><td>7.077204088597081e+35</td><td>1.6126333675250879e+35</td><td>1.375700399607714e+35</td><td>2.4894047385648913e+33</td><td>2.587984438471179e+33</td><td>1.5877393201394372e+35</td><td>1.3557766850716195e+35</td><td>7.443067436677248e+35</td><td>2.8916818005902734e+35</td><td>5.672300554399377e+35</td><td>4.479941807474929e+35</td><td>243570533.39781368</td><td>238358880.9610333</td><td>243463408.50864246</td><td>238410024.11768115</td><td>107124.88917094968</td><td>84182.530744346</td><td>315890877.03846174</td><td>227824227.1626057</td><td>313862983.58917147</td><td>228807876.63145122</td><td>2027893.4492907429</td><td>1595062.5653382675</td><td>4.5775103280141477e+52</td><td>3.8667531410658133e+52</td><td>8.514530093101318e+50</td><td>9.603595800977433e+50</td><td>4.4923650270831337e+52</td><td>3.790358155123364e+52</td><td>0.16209101318413913</td><td>0.03361971086666627</td><td>0.15892787907059308</td><td>0.02263221205043003</td><td>0.13482369698361857</td><td>0.029563834048139254</td><td>0.09854164867915147</td><td>0.009667537995497752</td><td>0.14056089724098647</td><td>0.012962685999209973</td><td>0.13171793039408894</td><td>0.004681600321841441</td><td>0.04714275231265583</td><td>0.010785129759283653</td><td>0.1528459173982458</td><td>0.016491124692709476</td><td>0.10101683516447647</td><td>0.00955208405188407</td><td>0.13343642901115568</td><td>0.0048627936984275075</td><td>0.15716982866128784</td><td>0.015376811782089803</td><td>0.02257187775242549</td><td>0.016268834255670096</td><td>0.026546324201849533</td><td>0.014298179705929837</td><td>0.10190875422905032</td><td>0.009244652347683879</td><td>0.13994698731949853</td><td>0.012118852058643666</td><td>0.12852624854565653</td><td>0.004250698110294224</td><td>0.16549337884312604</td><td>0.014786733839100787</td><td>0.14770045505621665</td><td>0.016899626102394608</td><td>0.09942448413674827</td><td>0.009613376911375928</td><td>0.14198746033774412</td><td>0.012524409887953034</td><td>0.13013104571273518</td><td>0.004414134375634654</td><td>0.04304721785292708</td><td>0.011174209119882454</td><td>0.15950804260907922</td><td>0.018455459523084302</td><td>0.08146470938749802</td><td>0.013693055901045092</td><td>0.05742346504967747</td><td>0.011759919141841416</td><td>1.5214175253047981</td><td>0.25356958755079967</td><td>0.0</td><td>0.15</td><td>0.3</td><td>0.15</td><td>0.3</td><td>0.5</td><td>2.4517497521683316</td><td>0.654499757324451</td><td>0.4628433090458349</td><td>-0.5</td><td>3.0</td><td>217.5</td><td>35.0</td><td>1.0</td><td>0.0</td><td>0.0</td><td>300.0</td><td>-2.0</td><td>100.0</td><td>0.02</td><td>2000.0</td><td>20.0</td><td>2000.0</td><td>0.0</td><td>50.0</td><td>6000.0</td><td>665.1906205108443</td><td>1.0</td><td>0.004</td><td>10.0</td><td>13241.755742584737</td><td>5.460382687459294e+24</td><td>0.0388</td><td>8.757650545972458e+32</td><td>9.952886886723189e+34</td><td>3.9442828375988005e+35</td><td>4.172610753830659e+35</td><td>9.12093993064775e+35</td><td>268530306.8892725</td><td>0.2395672639684655</td><td>0.23555641465713562</td><td>0.23920716869658754</td><td>1.4088945147553025e+36</td><td>1.7359644333377875e+35</td><td>1.4896939511823222e+33</td><td>1.7210674938259645e+35</td><td>7.78247429120127e+35</td><td>6.306470856351759e+35</td><td>97694282.77133316</td><td>97576957.83008891</td><td>117324.94124423848</td><td>170836025.71475676</td><td>168561277.37221774</td><td>2274748.3425389994</td><td>4.846013008270013e+52</td><td>5.137058865250352e+50</td><td>4.79464241961751e+52</td><td>0.010294165650677155</td><td>0.01581117080378126</td><td>0.038145816671550814</td><td>0.09957289804224147</td><td>0.13329483881283086</td><td>0.14443526010845018</td><td>0.16682361208291174</td><td>0.10245615191626885</td><td>0.13160311152718504</td><td>0.14216127643947069</td><td>0.15157300210796665</td><td>0.17317851833818915</td><td>0.16799535829487916</td><td>0.17278176035312148</td><td>0.14429786700204555</td><td>0.08161004505566798</td><td>0.05485010682478624</td><td>0.04267157783266887</td><td>0.09851614777960015</td><td>0.13479184697667637</td><td>0.14287514392354594</td><td>0.15775943218486277</td><td>0.10139162261410782</td><td>0.13664625621621979</td><td>0.16303110414651714</td></tr>\n",
       "<tr><td>iPTF13aqj</td><td>0.0</td><td>0.0</td><td>0.15183449708636976</td><td>0.06742364340815965</td><td>0.3333258335881478</td><td>0.19645881394849105</td><td>0.15183449708636976</td><td>0.06742364340815965</td><td>0.3333258335881478</td><td>0.19645881394849105</td><td>0.523943630396923</td><td>0.2745184379545719</td><td>2.1077569959327507</td><td>0.6872430606003672</td><td>0.7934765958355036</td><td>0.3669158044474754</td><td>0.6116290012096223</td><td>0.304465218344345</td><td>-0.19389763619007963</td><td>0.10513819477992584</td><td>1.271307448224792</td><td>1.0733843351923533</td><td>217.50000000000003</td><td>2.8421709430403998e-14</td><td>34.999999999999986</td><td>1.4210854715201999e-14</td><td>1.8290165225697996</td><td>0.5505229034806254</td><td>0.0</td><td>0.0</td><td>0.0</td><td>0.0</td><td>300.0</td><td>0.0</td><td>-1.9999999999999984</td><td>1.554312234475219e-15</td><td>99.99999999999997</td><td>2.8421709430403998e-14</td><td>0.019999999999999993</td><td>6.938893903907226e-18</td><td>3429.1838273483363</td><td>2682.7839485347376</td><td>19.999999999999993</td><td>7.1054273576009995e-15</td><td>3429.1838273483363</td><td>2682.7839485347376</td><td>0.0</td><td>0.0</td><td>49.999999999999986</td><td>1.4210854715201999e-14</td><td>4547.237282261097</td><td>2647.537741247308</td><td>1312.5842358345024</td><td>1097.2824217893426</td><td>0.9999999999999992</td><td>7.771561172376095e-16</td><td>0.005194261695660658</td><td>0.004927465198702212</td><td>9.999999999999996</td><td>3.5527136788004997e-15</td><td>13090.028569987975</td><td>3.6379788070917117e-12</td><td>7.093375016731582e+24</td><td>0.0</td><td>0.04999999999999999</td><td>1.3877787807814452e-17</td><td>3.0525568064889863e+34</td><td>5.304652894683052e+34</td><td>2.1566472971615266e+36</td><td>2.4156815529794682e+36</td><td>8.073501826674553e+36</td><td>7.186655808035138e+36</td><td>8.102216024110711e+36</td><td>7.481768673106824e+36</td><td>1.836289071601168e+37</td><td>1.6776642057852749e+37</td><td>7353949314.285341</td><td>4006212928.2880707</td><td>4.640578086752756</td><td>4.062033856720164</td><td>4.449768036657792</td><td>3.516188754657823</td><td>4.624331680716127</td><td>4.013800971038505</td><td>2.686061002958149e+37</td><td>1.7704573083876697e+37</td><td>3.5458772681198435e+36</td><td>3.5347755255235826e+36</td><td>4.676581531884985e+34</td><td>6.676485889025462e+34</td><td>3.499111452800992e+36</td><td>3.476838192993619e+36</td><td>1.451246418369044e+37</td><td>7.097357649160297e+36</td><td>1.2348145845891055e+37</td><td>1.0874899956589062e+37</td><td>2995929403.9812684</td><td>2017364766.1845798</td><td>2993656988.980875</td><td>2018362445.463691</td><td>2272415.0003931103</td><td>1902765.348789688</td><td>4358019916.050888</td><td>1995728138.1910303</td><td>4314049008.49731</td><td>2013666824.8317246</td><td>43970907.55358125</td><td>38244005.58532898</td><td>1.0002250825969483e+54</td><td>9.90411675036014e+53</td><td>1.6440298948016358e+52</td><td>2.480420371052221e+52</td><td>9.837847836489328e+53</td><td>9.685812766043547e+53</td><td>1.874228702568479</td><td>0.17882209013386322</td><td>1.780491472686873</td><td>0.09513347980649678</td><td>1.647475295988146</td><td>0.17787616786754293</td><td>0.9393349597517331</td><td>0.030213872331528578</td><td>1.449885836623584</td><td>0.06074214908893057</td><td>1.3173409345364395</td><td>0.03570315321300869</td><td>0.4080926099714764</td><td>0.02297711673362263</td><td>1.6170448237481407</td><td>0.056729666786928784</td><td>0.9685351488063721</td><td>0.02921230412953647</td><td>1.3225033133492325</td><td>0.03639673018445994</td><td>1.6433539246087878</td><td>0.054089295058582926</td><td>0.1511343107881711</td><td>0.019687330045706292</td><td>0.20375450992095281</td><td>0.020107328387651082</td><td>0.9786477897895774</td><td>0.028794601712710633</td><td>1.4835091930271813</td><td>0.054710686407054274</td><td>1.2474543736515349</td><td>0.032830008613762944</td><td>1.7648638203983875</td><td>0.0490801387182436</td><td>1.556454914608413</td><td>0.06381591715990853</td><td>0.9497814686011211</td><td>0.02969616671880342</td><td>1.4822568491417523</td><td>0.05647132473289963</td><td>1.2799152112630088</td><td>0.03232942809707001</td><td>0.3761077641364611</td><td>0.0228165000068147</td><td>1.7462556678913619</td><td>0.05997505607254031</td><td>1.1399830463134537</td><td>0.14231631963836658</td><td>0.8479363070277929</td><td>0.1691163421843802</td><td>3.1055696639252623</td><td>0.2070379775950175</td><td>0.0</td><td>0.2</td><td>0.2</td><td>0.2</td><td>0.2</td><td>1.0</td><td>2.106764793593109</td><td>0.9142496901092405</td><td>0.7134689930221694</td><td>-0.13</td><td>0.0</td><td>217.5</td><td>35.0</td><td>2.5</td><td>0.0</td><td>0.0</td><td>300.0</td><td>-2.0</td><td>100.0</td><td>0.02</td><td>8000.0</td><td>20.0</td><td>8000.0</td><td>0.0</td><td>50.0</td><td>8000.0</td><td>2990.340578000026</td><td>1.0</td><td>0.0001</td><td>10.0</td><td>13120.177880654255</td><td>6.764777216848652e+24</td><td>0.04776</td><td>5.162487523119352e+34</td><td>1.5171524922471293e+36</td><td>8.997480027050675e+36</td><td>4.219317580823949e+36</td><td>1.4785574975352947e+37</td><td>16079777710.568943</td><td>2.7985493126933902</td><td>2.798474892438228</td><td>2.7985484922563493</td><td>2.306869700831572e+37</td><td>3.010469825876825e+36</td><td>8.179384723613952e+34</td><td>2.928675978640686e+36</td><td>1.5020453696294059e+37</td><td>8.048243312021662e+36</td><td>7386563287.071652</td><td>7385323677.208909</td><td>1239609.862743617</td><td>8693214393.345173</td><td>8666468548.43746</td><td>26745844.907714184</td><td>8.355933667507174e+53</td><td>2.749746662387057e+52</td><td>8.080959001268467e+53</td><td>0.14121710321404535</td><td>0.2003284176441358</td><td>0.36836938251282003</td><td>0.9185115390233284</td><td>1.3124087262930906</td><td>1.554345309459232</td><td>1.7538824565862332</td><td>0.9468239408631707</td><td>1.2681622272329995</td><td>1.543539346186197</td><td>1.6245738922136042</td><td>1.815927571769938</td><td>1.7331859433422674</td><td>1.7477269465949352</td><td>1.487310999507873</td><td>1.2678161182956988</td><td>1.0288709510269225</td><td>0.40478843423084626</td><td>0.9090255967688894</td><td>1.3529165318664456</td><td>1.5192300891132742</td><td>1.6809158659184968</td><td>0.93892310037433</td><td>1.349628891326735</td><td>1.7113641575789407</td></tr>\n",
       "<tr><td>iPTF15dtg</td><td>0.0</td><td>0.0</td><td>0.025109403601334807</td><td>0.039730986658192184</td><td>0.07154288403766726</td><td>0.10938192088171568</td><td>0.025109403601334807</td><td>0.039730986658192184</td><td>0.07154288403766726</td><td>0.10938192088171568</td><td>0.5227245030329504</td><td>0.27563984699251254</td><td>0.42081559006449276</td><td>0.6434960899288527</td><td>0.12236097112200324</td><td>0.19188820115582442</td><td>0.09045915621159384</td><td>0.14295369518863896</td><td>-0.28621036206875</td><td>0.16291228937420146</td><td>1.4315453996112781</td><td>1.1179569595513106</td><td>217.4999999999998</td><td>1.9895196601282815e-13</td><td>34.99999999999999</td><td>7.105427357601005e-15</td><td>1.5633798618108496</td><td>0.5585989419749716</td><td>0.0</td><td>0.0</td><td>0.0</td><td>0.0</td><td>300.00000000000045</td><td>4.547473508864643e-13</td><td>-1.9999999999999984</td><td>1.55431223447522e-15</td><td>99.99999999999986</td><td>1.4210854715201984e-13</td><td>0.019999999999999993</td><td>6.938893903907231e-18</td><td>6928.919614440936</td><td>3615.13757283674</td><td>19.99999999999997</td><td>2.842170943040402e-14</td><td>6928.919614440936</td><td>3615.13757283674</td><td>0.0</td><td>0.0</td><td>49.99999999999993</td><td>7.105427357600992e-14</td><td>2758.9382169679047</td><td>2207.634669199203</td><td>3611.0632387097967</td><td>1863.720860162735</td><td>0.9999999999999992</td><td>7.7715611723761e-16</td><td>0.0009805985894823718</td><td>0.0018388109103845208</td><td>9.999999999999986</td><td>1.421085471520201e-14</td><td>13090.028569987933</td><td>4.5474735088646464e-11</td><td>7.093375016731569e+24</td><td>12884901887.99999</td><td>0.050000000000000024</td><td>2.081668171172167e-17</td><td>2.673815935651403e+32</td><td>4.6892979327482615e+32</td><td>1.5375672237574124e+34</td><td>2.5313079005764123e+34</td><td>5.776722353838653e+34</td><td>9.638500281782043e+34</td><td>5.271077447717096e+34</td><td>8.877167362145318e+34</td><td>1.261210518466967e+35</td><td>2.078891875792403e+35</td><td>716701098.8888379</td><td>275927280.1959489</td><td>0.05630542296553367</td><td>0.04226690169211239</td><td>0.05743728050147079</td><td>0.04217134481621995</td><td>0.05640463385340918</td><td>0.04225216237593266</td><td>5.7651313068602434e+35</td><td>1.978676927665742e+35</td><td>4.933730770364439e+34</td><td>3.5679805322339385e+34</td><td>1.516766756234926e+33</td><td>6.664997375661081e+32</td><td>4.782054094740949e+34</td><td>3.5183221531550344e+34</td><td>4.244221917569263e+35</td><td>9.195390551874053e+34</td><td>1.5209093892909572e+35</td><td>1.1317867384117053e+35</td><td>335364727.4762253</td><td>144552878.30728838</td><td>335338047.7026414</td><td>144564082.6257099</td><td>26679.773583050053</td><td>20367.711965925115</td><td>381336371.41764736</td><td>131508630.95518394</td><td>380799004.84766364</td><td>131732461.96163017</td><td>537366.5699834483</td><td>402217.52278305194</td><td>1.385323495145337e+52</td><td>1.0047294485364516e+52</td><td>4.556233973955718e+50</td><td>2.4576180636186487e+50</td><td>1.339761155405782e+52</td><td>9.84699881036206e+51</td><td>0.06683382080358702</td><td>0.006929261785330978</td><td>0.06782706373769552</td><td>0.0049916953583373684</td><td>0.052536919183308904</td><td>0.005781997401762765</td><td>0.04388966272359642</td><td>0.0032265843365567246</td><td>0.0670285535873793</td><td>0.00504991025943864</td><td>0.06043068703178883</td><td>0.00360024515097446</td><td>0.020043872915937972</td><td>0.0019171668828488143</td><td>0.0706015088566242</td><td>0.005091284882181594</td><td>0.04497614748129126</td><td>0.0031310911490911872</td><td>0.06072196966975558</td><td>0.003652200131824359</td><td>0.07098636135781126</td><td>0.004997755387052775</td><td>0.009818867244674215</td><td>0.0027776410765928505</td><td>0.01088046428823063</td><td>0.0019329613859420378</td><td>0.04544076088112684</td><td>0.0031006077413866973</td><td>0.06765637131287516</td><td>0.004616638184198718</td><td>0.05807422755574129</td><td>0.0036406066838912503</td><td>0.0729816645555528</td><td>0.004423817345426272</td><td>0.0696315376310647</td><td>0.005305651795154494</td><td>0.04425989834442358</td><td>0.0031790276554237826</td><td>0.06777836336794273</td><td>0.004831686268712446</td><td>0.059025622723956346</td><td>0.003551911657487422</td><td>0.018358272937122173</td><td>0.0018338802026615813</td><td>0.07021181321608097</td><td>0.004583647169188167</td><td>0.027740363211805546</td><td>0.002549139537329759</td><td>0.01738393865984932</td><td>0.001620978787597104</td><td>10.208264646085025</td><td>1.2760330807606282</td><td>0.0</td><td>0.0</td><td>0.0</td><td>0.0</td><td>0.0</td><td>0.3</td><td>-0.0</td><td>-0.0</td><td>-0.0</td><td>-0.13</td><td>0.0</td><td>217.5</td><td>35.0</td><td>1.0</td><td>0.0</td><td>0.0</td><td>300.0</td><td>-2.0</td><td>100.0</td><td>0.02</td><td>8000.0</td><td>20.0</td><td>8000.0</td><td>0.0</td><td>50.0</td><td>2000.0</td><td>4551.844006747304</td><td>1.0</td><td>0.0004</td><td>10.0</td><td>13057.833690258783</td><td>7.446547695167898e+24</td><td>0.0524</td><td>-0.0</td><td>-0.0</td><td>-0.0</td><td>-0.0</td><td>0.0</td><td>878034142.4077945</td><td>0.03541991750563043</td><td>0.03608468542922953</td><td>0.035479749246830374</td><td>4.6797870567125625e+35</td><td>2.9883791839956646e+34</td><td>1.3267095495185227e+33</td><td>2.8557082290438125e+34</td><td>3.745805679870872e+35</td><td>9.339813768416905e+34</td><td>417200530.49933326</td><td>417183556.1767461</td><td>16974.32258714404</td><td>460833612.0360212</td><td>460495788.7385799</td><td>337823.29744118825</td><td>8.43977510618328e+51</td><td>3.661286736453299e+50</td><td>8.07364643253795e+51</td><td>0.010513433882602152</td><td>0.010787834134814092</td><td>0.018244270848396478</td><td>0.04419271208427563</td><td>0.061234494976365114</td><td>0.07201327464364374</td><td>0.07382139086514955</td><td>0.045520268946070176</td><td>0.060317541295924065</td><td>0.07188309466430402</td><td>0.07421966197781762</td><td>0.07671445560809699</td><td>0.07085145975291125</td><td>0.06984675746774245</td><td>0.053934947163490794</td><td>0.027508659464641812</td><td>0.016571747296491638</td><td>0.019956096710539658</td><td>0.043783241481328096</td><td>0.06290405366487148</td><td>0.07128881400762566</td><td>0.07491190717317954</td><td>0.04497828266438136</td><td>0.06335097842101085</td><td>0.07518259531868725</td></tr>\n",
       "<tr><td>iPTF16hfb</td><td>0.0</td><td>0.0</td><td>0.20735065842527736</td><td>0.09118647091137086</td><td>0.4137681983606991</td><td>0.25442977620008606</td><td>0.20735065842527736</td><td>0.09118647091137086</td><td>0.4137681983606991</td><td>0.25442977620008606</td><td>0.5994641311227333</td><td>0.29691793423218044</td><td>2.824510945157335</td><td>1.068906593429077</td><td>0.9686957539083039</td><td>0.4109874198464128</td><td>0.7268762375682873</td><td>0.31922701362685796</td><td>-0.24934698957870155</td><td>0.14908247485477596</td><td>1.4740972641856513</td><td>1.117879287687143</td><td>217.4999999999997</td><td>2.8563464471519827e-13</td><td>34.99999999999998</td><td>2.1316282072803002e-14</td><td>1.6678134063125616</td><td>0.5490981384056447</td><td>0.0</td><td>0.0</td><td>0.0</td><td>0.0</td><td>299.9999999999995</td><td>5.115907697472715e-13</td><td>-2.000000000000001</td><td>8.881784197001249e-16</td><td>100.00000000000003</td><td>2.8421709430403998e-14</td><td>0.019999999999999997</td><td>3.469446951953613e-18</td><td>7012.719629604758</td><td>3983.462847867507</td><td>19.99999999999999</td><td>1.0658141036401501e-14</td><td>7012.719629604758</td><td>3983.462847867507</td><td>0.0</td><td>0.0</td><td>50.000000000000014</td><td>1.4210854715201999e-14</td><td>4610.347684011596</td><td>2535.9605375132155</td><td>3082.870061281968</td><td>1839.0615467372775</td><td>1.0000000000000004</td><td>4.4408920985006247e-16</td><td>0.01477001978321315</td><td>0.007931706064285417</td><td>9.999999999999995</td><td>5.3290705182007506e-15</td><td>13362.707882441158</td><td>5.456968210637569e-12</td><td>4.1949679613814513e+24</td><td>5368709119.999989</td><td>0.02999999999999995</td><td>4.857225732735059e-17</td><td>1.3349920140644585e+34</td><td>1.2687485369781098e+34</td><td>1.4917546240855818e+36</td><td>1.4734251236455817e+36</td><td>7.790284255548303e+36</td><td>5.839658017429801e+36</td><td>7.426602002877408e+36</td><td>6.697487687831733e+36</td><td>1.672199080265194e+37</td><td>1.3697354292005758e+37</td><td>21299920782.12196</td><td>8700503637.785492</td><td>4.035310520182467</td><td>3.4358399272213327</td><td>4.001291821561421</td><td>3.1865365482333634</td><td>4.0325671898562705</td><td>3.4138080255301295</td><td>2.597286006329959e+37</td><td>1.405773064934495e+37</td><td>2.3046763650186978e+36</td><td>2.0955913045110628e+36</td><td>2.420414735984868e+34</td><td>1.4323227180743775e+34</td><td>2.28047221765885e+36</td><td>2.0866832898330276e+36</td><td>1.5687549728073884e+37</td><td>5.579325809764959e+36</td><td>1.0285310335225692e+37</td><td>8.76921174752525e+36</td><td>9319603876.217445</td><td>4352205903.485098</td><td>9317366899.025795</td><td>4353540041.833449</td><td>2236977.191643335</td><td>1870359.832021727</td><td>11980316903.983494</td><td>4355123520.215712</td><td>11942228211.197596</td><td>4378765922.523828</td><td>38088692.785891</td><td>32284756.930459242</td><td>6.746872920644877e+53</td><td>6.025704702478596e+53</td><td>6.989959296801049e+51</td><td>5.394183032345265e+51</td><td>6.676973327676869e+53</td><td>5.987333194606415e+53</td><td>12.092298356201749</td><td>0.6539948568045899</td><td>10.057618248387573</td><td>0.3791856258845814</td><td>10.624636192666415</td><td>0.6386627514155669</td><td>2.9352555584909257</td><td>0.13428272266717034</td><td>6.281956825110274</td><td>0.20453771039338273</td><td>5.033598178065833</td><td>0.12554175463591877</td><td>1.063212114054725</td><td>0.09736226623097133</td><td>7.797444985542535</td><td>0.24234708851331568</td><td>3.043631861657664</td><td>0.13289185011841673</td><td>5.096270324469313</td><td>0.12867567061789714</td><td>8.059947809927927</td><td>0.22782548859379123</td><td>0.22326349461570263</td><td>0.09932425988765235</td><td>0.35916252588221254</td><td>0.10474726514851386</td><td>3.101903752754878</td><td>0.1321493552801798</td><td>6.1284645703408</td><td>0.19653814731768865</td><td>4.840201192541393</td><td>0.12115841483741556</td><td>8.763199728397666</td><td>0.2231419652022519</td><td>7.349772812441703</td><td>0.2638840660050447</td><td>2.9754188849764454</td><td>0.1338573481151746</td><td>6.334736460994721</td><td>0.20422921911813993</td><td>4.90196974065866</td><td>0.12320806146622652</td><td>0.9225294444431854</td><td>0.09798629914353955</td><td>9.160474975637287</td><td>0.2639158077808585</td><td>6.3962108703378835</td><td>0.4076824050041684</td><td>4.288897842358433</td><td>0.4288834780089525</td><td>7.3268105207396195</td><td>0.5233436086242585</td><td>0.0</td><td>0.2</td><td>0.2</td><td>0.2</td><td>0.2</td><td>1.0</td><td>2.4362977814945266</td><td>0.71234647583412</td><td>0.514144410113838</td><td>-0.5</td><td>0.0</td><td>217.5</td><td>35.0</td><td>2.0</td><td>0.0</td><td>0.0</td><td>300.0</td><td>-2.0</td><td>100.0</td><td>0.02</td><td>12000.0</td><td>20.0</td><td>12000.0</td><td>0.0</td><td>50.0</td><td>8000.0</td><td>4888.218412891193</td><td>1.0</td><td>0.02</td><td>10.0</td><td>13412.148617709228</td><td>3.6867913884634516e+24</td><td>0.026435</td><td>8.450885407237294e+33</td><td>7.10103601517111e+35</td><td>4.5117724861673925e+36</td><td>4.294742142758961e+36</td><td>9.525069115850703e+36</td><td>27620370060.864048</td><td>2.613568532819539</td><td>2.618935554564891</td><td>2.6140583010257887</td><td>1.8608105308094084e+37</td><td>1.2757534797757124e+36</td><td>1.8082008823339712e+34</td><td>1.2576714709523728e+36</td><td>1.213548814309447e+37</td><td>6.472617164999615e+36</td><td>12421906652.773691</td><td>12420356788.790184</td><td>1549863.9835074747</td><td>15198463400.261797</td><td>15173872689.063622</td><td>24590711.198173754</td><td>3.854801835101089e+53</td><td>4.533614244827211e+51</td><td>3.809465692652817e+53</td><td>0.213912902181777</td><td>0.4545104019030602</td><td>0.9905162284823646</td><td>2.924391108897677</td><td>4.859193649011828</td><td>6.251255036735218</td><td>9.348172079586869</td><td>3.0494939860293515</td><td>4.798502168692662</td><td>6.033100969225075</td><td>7.305416516726647</td><td>8.89207752512352</td><td>10.37169629329769</td><td>12.602373741417212</td><td>10.894983324682608</td><td>6.4716229536274605</td><td>4.3853001164472625</td><td>1.1193401786836696</td><td>2.882583734070754</td><td>4.98707175090112</td><td>6.199911256626755</td><td>7.7843227248173195</td><td>2.9927787515884368</td><td>5.052257855313697</td><td>8.082531429339891</td></tr>\n",
       "<tr><td>iPTF17zg</td><td>0.0</td><td>0.0</td><td>0.2968940589167285</td><td>0.13972810536041053</td><td>0.5159947333976624</td><td>0.3849680819380233</td><td>0.2968940589167285</td><td>0.13972810536041053</td><td>0.5159947333976624</td><td>0.3849680819380233</td><td>0.7045223498519018</td><td>0.2994791410995702</td><td>3.5632592263350356</td><td>1.5288021331496429</td><td>1.364689155858797</td><td>0.6648912165052606</td><td>1.05659218245692</td><td>0.5127846798656217</td><td>-0.15770908897004715</td><td>0.055013394797234494</td><td>2.530794401531995</td><td>0.7641072072290727</td><td>217.49999999999972</td><td>2.8421709430403977e-13</td><td>34.99999999999995</td><td>4.9737991503206944e-14</td><td>1.7146790028625392</td><td>0.5613828597462197</td><td>0.0</td><td>0.0</td><td>0.0</td><td>0.0</td><td>299.99999999999955</td><td>4.5474735088646356e-13</td><td>-1.9999999999999976</td><td>2.67377111091533e-15</td><td>99.99999999999986</td><td>1.4210854715201989e-13</td><td>0.019999999999999962</td><td>3.8163916471489676e-17</td><td>7302.151811698362</td><td>3971.179881744394</td><td>19.99999999999997</td><td>2.8421709430403973e-14</td><td>7302.151811698362</td><td>3971.179881744394</td><td>0.0</td><td>0.0</td><td>49.99999999999993</td><td>7.105427357600994e-14</td><td>2082.881956080282</td><td>2121.9841521566836</td><td>4477.67067780782</td><td>2465.5498303188224</td><td>0.9999999999999988</td><td>1.336885555457665e-15</td><td>0.015712195311386366</td><td>0.016357552586756932</td><td>9.999999999999986</td><td>1.4210854715201986e-14</td><td>13502.043108177715</td><td>1.4551915228366834e-11</td><td>2.776064706841228e+24</td><td>3758096383.9999948</td><td>0.019999999999999962</td><td>3.8163916471489676e-17</td><td>1.3122566157482526e+34</td><td>9.756368657201052e+33</td><td>4.898228126682308e+35</td><td>6.306849479068909e+35</td><td>5.2095285927280295e+36</td><td>4.304256488604786e+36</td><td>1.9800369462367657e+36</td><td>2.4025400254795257e+36</td><td>7.692510917790508e+36</td><td>7.258868410869791e+36</td><td>28736093553.11065</td><td>11780303029.6485</td><td>1.051632160463494</td><td>1.259945357998969</td><td>1.0767985032843221</td><td>1.273851818826592</td><td>1.0538363577528607</td><td>1.2611072723987038</td><td>1.3094146231151514e+37</td><td>7.490748207108932e+36</td><td>7.52221652417579e+35</td><td>9.243609849196422e+35</td><td>2.462319461628189e+34</td><td>1.194660298293325e+34</td><td>7.275984578012973e+35</td><td>9.16236069923519e+35</td><td>1.032331210114475e+37</td><td>4.2323795380632915e+36</td><td>2.7708341300067664e+36</td><td>3.335216712533641e+36</td><td>13352505858.032425</td><td>6137041196.0979395</td><td>13351973607.416801</td><td>6137266424.271759</td><td>532250.6156202898</td><td>619450.0040790724</td><td>15383587699.72276</td><td>5647062108.07326</td><td>15373581582.116308</td><td>5651256698.247305</td><td>10006117.606456088</td><td>11992413.567003991</td><td>2.1104094456479354e+53</td><td>2.592724319489294e+53</td><td>6.182347608155534e+51</td><td>3.89832108065562e+51</td><td>2.048585969566381e+53</td><td>2.563088332381451e+53</td><td>14.57785483079526</td><td>0.7151846060766527</td><td>11.16993419488793</td><td>0.44317092300104294</td><td>12.927775254379497</td><td>0.842552876869685</td><td>1.6356318364881903</td><td>0.06800723762844485</td><td>5.666301996705991</td><td>0.22662936298360414</td><td>3.8585427143365534</td><td>0.11542156440603049</td><td>0.3884331861928161</td><td>0.03128340274705553</td><td>7.7001233810076775</td><td>0.33749206490725453</td><td>1.7227902925647947</td><td>0.07063227503016817</td><td>3.9178652482226846</td><td>0.11470472401422682</td><td>7.988065518093288</td><td>0.3127494063341639</td><td>0.02305888905677513</td><td>0.0032183004631796907</td><td>0.04148946120498162</td><td>0.004288071536514223</td><td>1.7772108426879762</td><td>0.07359368663644782</td><td>5.434719129248747</td><td>0.211662650500172</td><td>3.6206101801740638</td><td>0.11314840993955232</td><td>8.793421469077952</td><td>0.24503079082669582</td><td>7.193397730521756</td><td>0.3552556598899951</td><td>1.6663003665978944</td><td>0.06927921088311724</td><td>5.7270529401423875</td><td>0.231597636412472</td><td>3.684610963147758</td><td>0.11317390391164331</td><td>0.3129862869973226</td><td>0.01920465198096862</td><td>9.681136862937235</td><td>0.2543020426529724</td><td>7.619877558527376</td><td>0.6123737737649951</td><td>4.880129843005586</td><td>0.5554323312210578</td><td>15.084302691626712</td><td>0.9427689182266695</td><td>0.0</td><td>0.3</td><td>0.3</td><td>0.3</td><td>0.3</td><td>1.0</td><td>3.2130115163494026</td><td>1.359041940788739</td><td>1.065974046068087</td><td>-0.13</td><td>3.0</td><td>217.5</td><td>35.0</td><td>2.5</td><td>0.0</td><td>0.0</td><td>300.0</td><td>-2.0</td><td>100.0</td><td>0.02</td><td>12000.0</td><td>20.0</td><td>12000.0</td><td>0.0</td><td>50.0</td><td>2000.0</td><td>8107.4505951535075</td><td>1.0</td><td>0.004</td><td>10.0</td><td>13473.593816510873</td><td>3.0624507775156117e+24</td><td>0.02203</td><td>1.5097078753548832e+34</td><td>1.4857024573340057e+35</td><td>3.898279949706313e+36</td><td>6.074713876927157e+35</td><td>4.6694186618859777e+36</td><td>45878299532.688995</td><td>0.34733294896469497</td><td>0.3545924989922376</td><td>0.34798501300338086</td><td>9.857756323103236e+36</td><td>2.8052440413607834e+35</td><td>3.0657515032715924e+34</td><td>2.498668891033624e+35</td><td>8.941155483148121e+36</td><td>9.166008399551154e+35</td><td>22470115980.081177</td><td>22469944995.064117</td><td>170985.01705748332</td><td>23408183554.93295</td><td>23404874687.494858</td><td>3308867.4380910606</td><td>7.668825431074367e+52</td><td>7.073914224667346e+51</td><td>6.961434008607634e+52</td><td>0.02577019086807769</td><td>0.0393724781410675</td><td>0.3110437003224099</td><td>1.636694645145994</td><td>3.7591731474554226</td><td>6.026872827350848</td><td>9.648157716827551</td><td>1.7509012566519104</td><td>3.6891926199164216</td><td>5.719378252042281</td><td>7.568460816536521</td><td>8.893336533497248</td><td>10.91433853028448</td><td>13.981048501097803</td><td>11.938064252200808</td><td>7.306103411181182</td><td>4.571793058471772</td><td>0.3856875961555235</td><td>1.6055637295473517</td><td>3.949328880491805</td><td>5.960626974720617</td><td>8.02626215826087</td><td>1.6957838256390052</td><td>4.014075186295761</td><td>8.258079507540522</td></tr>\n",
       "</table></div>"
      ],
      "text/plain": [
       "<Table length=8>\n",
       "    id    bayes.agn.fracAGN_dale2014 ...    best.ctio.ls.z   \n",
       "   str9            float64           ...       float64       \n",
       "--------- -------------------------- ... --------------------\n",
       " PTF09awk                        0.0 ...  0.38546667449913424\n",
       "  PTF10ad                        0.0 ... 0.054412590024584595\n",
       "PTF10acsq                        0.0 ... 0.011335981464379353\n",
       " PTF11kaa                        0.0 ...  0.16303110414651714\n",
       "iPTF13aqj                        0.0 ...   1.7113641575789407\n",
       "iPTF15dtg                        0.0 ...  0.07518259531868725\n",
       "iPTF16hfb                        0.0 ...    8.082531429339891\n",
       " iPTF17zg                        0.0 ...    8.258079507540522"
      ]
     },
     "execution_count": 339,
     "metadata": {},
     "output_type": "execute_result"
    }
   ],
   "source": [
    "results"
   ]
  },
  {
   "cell_type": "code",
   "execution_count": 347,
   "id": "c579bad6",
   "metadata": {},
   "outputs": [
    {
     "name": "stdout",
     "output_type": "stream",
     "text": [
      "10.187057631726082 0.3670835580295116\n"
     ]
    }
   ],
   "source": [
    "m_star, m_star_err = results['bayes.stellar.m_star'].value[-1], results['bayes.stellar.m_star_err'].value[-1]\n",
    "log_m_star, log_m_star_err = np.log10(m_star), m_star_err/m_star\n",
    "print(log_m_star, log_m_star_err)"
   ]
  },
  {
   "cell_type": "code",
   "execution_count": 348,
   "id": "1b00ed64",
   "metadata": {},
   "outputs": [
    {
     "name": "stdout",
     "output_type": "stream",
     "text": [
      "0.021863859003611204 1.1980856095573034\n"
     ]
    }
   ],
   "source": [
    "sfh, sfh_err = results['bayes.sfh.sfr'].value[-1], results['bayes.sfh.sfr_err'].value[-1]\n",
    "log_sfh, log_sfh_err = np.log10(sfh), sfh_err/sfh\n",
    "print(log_sfh, log_sfh_err)"
   ]
  },
  {
   "cell_type": "code",
   "execution_count": 349,
   "id": "f34802f0",
   "metadata": {},
   "outputs": [
    {
     "name": "stdout",
     "output_type": "stream",
     "text": [
      "9.863450857687596 0.5438369379533295\n"
     ]
    }
   ],
   "source": [
    "age, age_err = results['bayes.sfh.age'].value[-1]*1e6, results['bayes.sfh.age_err'].value[-1]*1e6\n",
    "log_age, log_age_err = np.log10(age), age_err/age\n",
    "print(log_age, log_age_err)"
   ]
  },
  {
   "cell_type": "code",
   "execution_count": null,
   "id": "e79547b5",
   "metadata": {},
   "outputs": [],
   "source": []
  }
 ],
 "metadata": {
  "kernelspec": {
   "display_name": "hosts",
   "language": "python",
   "name": "python3"
  },
  "language_info": {
   "codemirror_mode": {
    "name": "ipython",
    "version": 3
   },
   "file_extension": ".py",
   "mimetype": "text/x-python",
   "name": "python",
   "nbconvert_exporter": "python",
   "pygments_lexer": "ipython3",
   "version": "3.12.0"
  }
 },
 "nbformat": 4,
 "nbformat_minor": 5
}
