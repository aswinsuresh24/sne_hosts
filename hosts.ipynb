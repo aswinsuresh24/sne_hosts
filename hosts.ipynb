{
 "cells": [
  {
   "cell_type": "code",
   "execution_count": 1,
   "id": "a70321ad",
   "metadata": {},
   "outputs": [],
   "source": [
    "import numpy as np\n",
    "import matplotlib.pyplot as plt\n",
    "import subprocess\n",
    "from configobj import ConfigObj\n",
    "from itertools import chain\n",
    "import os, glob\n",
    "import shutil\n",
    "import pandas as pd\n",
    "from astropy.io import fits\n",
    "from astropy.table import Table\n",
    "from astropy.coordinates import SkyCoord\n",
    "from astropy import units as u\n",
    "import astropy.constants as const\n",
    "import dustmaps\n",
    "from dustmaps.sfd import SFDQuery\n",
    "from dust_extinction.parameter_averages import CCM89, G23"
   ]
  },
  {
   "cell_type": "code",
   "execution_count": 42,
   "id": "bccb2a0e",
   "metadata": {},
   "outputs": [],
   "source": [
    "#define paramters to be modified in default config file\n",
    "#for any section that requires paramters to be edited, include it in 'sed_modules_params'\n",
    "CIGALE_PARAMS = {'sed_modules': ['sfhdelayed', 'bc03', 'nebular', 'dustatt_calzleit', 'dale2014', 'redshifting'],\n",
    "                 'analysis_method': \"pdf_analysis\",\n",
    "                 'sed_modules_params': {\n",
    "                     'sfhdelayed': {\n",
    "                        'tau_main': ['250', '500', '1000', '2000', '4000', '6000', '8000'],\n",
    "                        'age_main': ['250', '500', '1000', '2000', '4000', '8000', '12000'],\n",
    "                     },\n",
    "                     'bc03': {\n",
    "                         'imf': 1,\n",
    "                         'metallicity': ['0.0004', '0.004', '0.008', '0.02', '0.05'],\n",
    "                     },\n",
    "                     'dustatt_calzleit': {\n",
    "                         'E_BVs_young': ['0.0', '0.2', '0.3', '0.5', '0.8', '1.0', '1.5', '2.0', '3.0'],\n",
    "                         'E_BVs_old_factor': ['0.3', '0.5', '1.0'],\n",
    "                         'uv_bump_amplitude': ['0.0', '1.0', '2.0', '3.0'],\n",
    "                         'powerlaw_slope': ['-0.13', '-0.2', '-0.5']\n",
    "                     },\n",
    "                     'dale2014': {\n",
    "                         'alpha': ['1.0', '1.5', '2.0', '2.5'],\n",
    "                     }\n",
    "                 },\n",
    "                 'analysis_params': {\n",
    "                     'save_best_sed': True,\n",
    "                 }}"
   ]
  },
  {
   "cell_type": "code",
   "execution_count": 43,
   "id": "4da52ca9",
   "metadata": {},
   "outputs": [],
   "source": [
    "CIGALE_PTF_FILTERS = ['GALEX_FUV', 'GALEX_NUV', 'SDSS_u', 'SDSS_g', 'SDSS_r', 'SDSS_i', 'SDSS_z',\n",
    "                      'PANSTARRS_g', 'PANSTARRS_r', 'PANSTARRS_i', 'PANSTARRS_z', 'PANSTARRS_y',\n",
    "                      'CFHT_u', 'CFHT_g', 'CFHT_r', 'CFHT_i', 'CFHT_z', 'LS_g', 'LS_r', 'LS_z',\n",
    "                      '2MASS_J', '2MASS_H', '2MASS_Ks', 'WISE_W1', 'WISE_W2']"
   ]
  },
  {
   "cell_type": "code",
   "execution_count": 44,
   "id": "12164de7",
   "metadata": {},
   "outputs": [],
   "source": [
    "pivot_lambda = [153.51*u.nm, 230.08*u.nm, 350.10*u.nm, 476.31*u.nm, 624.70*u.nm, 771.83*u.nm, 1.08*u.um,\n",
    "                484.91*u.nm, 620.12*u.nm, 753.50*u.nm, 867.42*u.nm, 962.78*u.nm,\n",
    "                364.75*u.nm, 474.15*u.nm, 637.55*u.nm, 767.88*u.nm, 900.66*u.nm, 480.85*u.nm, 641.76*u.nm, 916.89*u.nm,\n",
    "                1.24*u.um, 1.65*u.um, 2.16*u.um, 3.37*u.um, 4.62*u.um]\n",
    "CIGALE_PTF_LAMBDA = dict(zip(CIGALE_PTF_FILTERS, pivot_lambda))"
   ]
  },
  {
   "cell_type": "code",
   "execution_count": 45,
   "id": "0d656957",
   "metadata": {},
   "outputs": [],
   "source": [
    "def prep_cigale(data_file, params):\n",
    "\n",
    "    subprocess.run([\"pcigale\", \"init\"])\n",
    "    configfile = 'pcigale.ini'\n",
    "\n",
    "    #read in configfile\n",
    "    config = ConfigObj(configfile, encoding = 'utf-8')\n",
    "    config.filename = configfile\n",
    "\n",
    "    #edit params\n",
    "    config['data_file'] = data_file\n",
    "    config['sed_modules'] = params['sed_modules']\n",
    "    config['analysis_method'] = params['analysis_method']\n",
    "    config.write()\n",
    "    \n",
    "    #generate config file to run cigale\n",
    "    try:\n",
    "        subprocess.run([\"pcigale\", \"genconf\"])\n",
    "    except:\n",
    "        raise ValueError(\"Could not create config file - check defaults\")\n",
    "    \n",
    "    #read configfile again as it has been modified by genconf\n",
    "    config = ConfigObj(configfile, encoding = 'utf-8')\n",
    "    config.filename = configfile\n",
    "    \n",
    "    #genconf will overwrite any edits, so modify paramters at the end\n",
    "    for module_ in params['sed_modules']:\n",
    "        if module_ in params['sed_modules_params'].keys():\n",
    "            mod = params['sed_modules_params'][module_]\n",
    "            for key, value in mod.items():\n",
    "                config['sed_modules_params'][module_][key] = value\n",
    "\n",
    "    if 'analysis_params' in params.keys():\n",
    "        for key, value in params['analysis_params'].items():\n",
    "            config['analysis_params'][key] = value\n",
    "    config.write()\n",
    "\n",
    "    #verify if config file is ok\n",
    "    try:\n",
    "        subprocess.run([\"pcigale\", \"check\"])\n",
    "    except:\n",
    "        raise ValueError(\"Config file in incorrect\")\n",
    "    \n",
    "    return config"
   ]
  },
  {
   "cell_type": "code",
   "execution_count": 60,
   "id": "747dd325",
   "metadata": {},
   "outputs": [],
   "source": [
    "def run_cigale(configfile, data_file, outdir, plot=False):\n",
    "    if not os.path.exists(outdir):\n",
    "        os.makedirs(outdir)\n",
    "\n",
    "    #copy everything to outdir\n",
    "    shutil.copy(configfile, os.path.join(outdir, configfile))\n",
    "    shutil.copy(configfile + '.spec', os.path.join(outdir, configfile + '.spec'))\n",
    "    shutil.copy(data_file, os.path.join(outdir, data_file))\n",
    "\n",
    "    cwd = os.getcwd()\n",
    "    os.chdir(outdir)\n",
    "\n",
    "    #run cigale\n",
    "    subprocess.run([\"pcigale\", \"run\"])\n",
    "    if plot:\n",
    "        subprocess.run([\"pcigale-plots\", \"sed\"])\n",
    "    os.chdir(cwd)"
   ]
  },
  {
   "cell_type": "code",
   "execution_count": 61,
   "id": "a60694f0",
   "metadata": {},
   "outputs": [],
   "source": [
    "def read_ptf_sample(filename):\n",
    "    try:\n",
    "        ptf_sne = pd.read_csv(filename, header = None, names=['SN', 'telescope', 'instrument', 'filter', 'mag', 'magerr', 'ref'])\n",
    "        ptf_sne['SN'] = ptf_sne['SN'].str.strip()\n",
    "        ptf_sne['telescope'] = ptf_sne['telescope'].str.strip()\n",
    "        ptf_sne['instrument'] = ptf_sne['instrument'].str.strip()\n",
    "        ptf_sne['filter'] = ptf_sne['filter'].str.strip()\n",
    "        ptf_sne['ref'] = ptf_sne['ref'].str.strip()\n",
    "        \n",
    "        return ptf_sne\n",
    "    except:\n",
    "        raise ValueError('Reformat input file with correct whitespaces and delimiters')"
   ]
  },
  {
   "cell_type": "code",
   "execution_count": 62,
   "id": "c47bfb3a",
   "metadata": {},
   "outputs": [],
   "source": [
    "def read_ptf_redshifts(filename):\n",
    "    try:\n",
    "        redshifts = pd.read_csv(filename, header = None, usecols = [0, 1, 2, 5, 6, 7, 8, 9, 10],  names = ['SN', 'Type', 'z', 'RAh', 'RAm', 'RAs', 'Decd', 'Decm', 'Decs'])\n",
    "        redshifts['RA'] = redshifts['RAh'].astype(str) + ':' + redshifts['RAm'].astype(str) + ':' + redshifts['RAs'].astype(str)\n",
    "        redshifts['Dec'] = redshifts['Decd'].astype(str) + ':' + redshifts['Decm'].astype(str) + ':' + redshifts['Decs'].astype(str)\n",
    "        redshifts = redshifts.drop(columns=['RAh', 'RAm', 'RAs', 'Decd', 'Decm', 'Decs'])\n",
    "        redshifts['SN'] = redshifts['SN'].str.strip()\n",
    "        redshifts['Type'] = redshifts['Type'].str.strip()\n",
    "\n",
    "        return redshifts\n",
    "    \n",
    "    except:\n",
    "        raise ValueError('Reformat input file with correct whitespaces and delimiters')"
   ]
  },
  {
   "cell_type": "code",
   "execution_count": 63,
   "id": "f2eb2215",
   "metadata": {},
   "outputs": [],
   "source": [
    "def mw_extinction(sn, redshifts, filters, verbose=False):\n",
    "    # Get SN coordinates from redshifts table\n",
    "    ra = redshifts[redshifts['SN'] == sn]['RA']\n",
    "    dec = redshifts[redshifts['SN'] == sn]['Dec']\n",
    "    coord = SkyCoord(ra=ra, dec=dec, unit = (u.hourangle, u.deg), frame='icrs')\n",
    "\n",
    "    # Query SFD dust map for E(B-V)\n",
    "    sfd = SFDQuery()\n",
    "    ebv = sfd(coord)[0]\n",
    "    R_V = 3.1\n",
    "\n",
    "    # Use extinction law from Gordon+23\n",
    "    ext = G23(Rv = R_V)\n",
    "    out_ext = dict.fromkeys(filters)\n",
    "    for flt_ in filters:\n",
    "        wv = CIGALE_PTF_LAMBDA[flt_]\n",
    "        a_lambda = ext(wv)\n",
    "        A_lambda = a_lambda * ebv\n",
    "        if verbose:\n",
    "            print(f'A_lambda for {sn} in {flt_} is {A_lambda}')\n",
    "        out_ext[flt_] = A_lambda\n",
    "\n",
    "    return out_ext"
   ]
  },
  {
   "cell_type": "code",
   "execution_count": 64,
   "id": "3a90c6f5",
   "metadata": {},
   "outputs": [],
   "source": [
    "def get_sn_data(sn, ptf_sne, redshifts, verbose=False):\n",
    "\n",
    "    # Read mags, redshift and filters\n",
    "    dat = ptf_sne[ptf_sne['SN'].str.lower() == sn.lower()]\n",
    "    z = redshifts[redshifts['SN'].str.lower() == sn.lower()]['z'].iloc[0]\n",
    "    filters = dat['telescope'] + '_' + dat['filter']\n",
    "    mag, err = np.array(dat['mag']), np.array(dat['magerr'])\n",
    "\n",
    "    maglist, errlist = [], []\n",
    "    for f in CIGALE_PTF_FILTERS:\n",
    "        if f in list(filters):\n",
    "            idx = list(filters).index(f)\n",
    "            # Correct photometry for MW extinction\n",
    "            mwext = mw_extinction(sn, redshifts, [f], verbose=verbose)[f]\n",
    "            if verbose:\n",
    "                print(f'MW extinction for {sn} in {f}: {mag[idx]} -> {mag[idx] - mwext}')\n",
    "            maglist.append(mag[idx] - mwext); errlist.append(err[idx])\n",
    "        else:\n",
    "            maglist.append(np.nan); errlist.append(np.nan)\n",
    "\n",
    "    maglist, errlist = np.array(maglist), np.array(errlist)\n",
    "    phot_points = len(maglist[~np.isnan(maglist)])\n",
    "\n",
    "    # Convert magnitudes to flux in mJy as required by CIGALE\n",
    "    flux = 10**((maglist - 8.90)/-2.5)*1000\n",
    "    fluxerr = errlist * flux * np.log(10)/2.5\n",
    "\n",
    "    # Output string for CIGALE data file\n",
    "    line = [f'{i} {j}' for i, j in zip(flux, fluxerr)]\n",
    "    line = ' '.join(line)\n",
    "    row = f'{sn} {z} ' + line\n",
    "\n",
    "    return row, phot_points"
   ]
  },
  {
   "cell_type": "code",
   "execution_count": 65,
   "id": "75a40e9e",
   "metadata": {},
   "outputs": [],
   "source": [
    "def prep_cigale_datafile(filename, sne, ptf_sne, redshifts, verbose=False):\n",
    "    rows = []\n",
    "    # Get extinction corrected photomtery\n",
    "    for sn in sne:\n",
    "        row_, phot_points = get_sn_data(sn, ptf_sne, redshifts, verbose=verbose)\n",
    "        if phot_points < 4:\n",
    "            print(f'Skipping {sn} with {phot_points} data points')\n",
    "            continue\n",
    "        else:\n",
    "            rows.append(row_)\n",
    "    \n",
    "    # Write out into datafile\n",
    "    with open(filename, 'a') as f:\n",
    "        f.write('\\n'.join(rows))"
   ]
  },
  {
   "cell_type": "code",
   "execution_count": 66,
   "id": "93f42e73",
   "metadata": {},
   "outputs": [],
   "source": [
    "ptf_sne = read_ptf_sample('ptf_ccsne.csv')\n",
    "ptf_sne = ptf_sne[ptf_sne['ref'] == 'This paper']\n",
    "\n",
    "redshifts = read_ptf_redshifts('ptf_ccsne_redshifts.csv')\n",
    "redshifts = redshifts[redshifts['SN'].isin(ptf_sne['SN'])]"
   ]
  },
  {
   "cell_type": "code",
   "execution_count": 67,
   "id": "0b93afad",
   "metadata": {},
   "outputs": [
    {
     "data": {
      "image/png": "[encoded data removed]",
      "text/plain": [
       "<Figure size 600x400 with 1 Axes>"
      ]
     },
     "metadata": {},
     "output_type": "display_data"
    }
   ],
   "source": [
    "types, counts = np.unique(redshifts['Type'], return_counts=True)\n",
    "sort = np.argsort(counts)[::-1]\n",
    "types, counts = types[sort], counts[sort]\n",
    "plt.figure(figsize = (6, 4))\n",
    "plt.bar(*(types, counts), color = 'royalblue')\n",
    "plt.grid(alpha = 0.25, linestyle = '--')\n",
    "plt.title('PTF CCSNe Classifications')\n",
    "_ = plt.xticks(rotation = 90)"
   ]
  },
  {
   "cell_type": "code",
   "execution_count": 68,
   "id": "daa4c545",
   "metadata": {},
   "outputs": [],
   "source": [
    "# Type Ib/c SNe\n",
    "type_Ibc = ['SNIc', 'SNIb', 'SNIc-BL', 'SNIbc']\n",
    "type_Ibc_sne = redshifts[redshifts['Type'].isin(type_Ibc)]['SN'].to_numpy()\n",
    "\n",
    "# Superluminous SNe\n",
    "sl_sne = redshifts[redshifts['Type'].str.contains('SLSN')]['SN'].to_numpy()"
   ]
  },
  {
   "cell_type": "code",
   "execution_count": 69,
   "id": "402616a2",
   "metadata": {},
   "outputs": [
    {
     "name": "stdout",
     "output_type": "stream",
     "text": [
      "Skipping PTF10jwd with 2 data points\n",
      "Skipping PTF10uhf with 1 data points\n",
      "Skipping PTF11hrq with 2 data points\n",
      "Skipping PTF11rks with 1 data points\n",
      "Skipping iPTF13ajg with 2 data points\n",
      "Skipping iPTF13ala with 3 data points\n",
      "Skipping iPTF13bjz with 2 data points\n",
      "Skipping iPTF13cjq with 3 data points\n",
      "Skipping iPTF13dcc with 2 data points\n",
      "Skipping iPTF13dol with 3 data points\n",
      "Skipping iPTF13ehe with 3 data points\n",
      "Skipping iPTF14dck with 3 data points\n",
      "Skipping iPTF15bxb with 2 data points\n",
      "Skipping iPTF15cyk with 1 data points\n",
      "Skipping iPTF15ii with 3 data points\n",
      "Skipping iPTF16bt with 3 data points\n",
      "Skipping iPTF16eh with 3 data points\n"
     ]
    }
   ],
   "source": [
    "data_file = 'ptf_slsne_cigale.txt'\n",
    "prep_cigale_datafile(data_file, sl_sne, ptf_sne, redshifts, verbose=False)"
   ]
  },
  {
   "cell_type": "code",
   "execution_count": 70,
   "id": "9e2f1f1a",
   "metadata": {},
   "outputs": [
    {
     "name": "stdout",
     "output_type": "stream",
     "text": [
      "\u001b[33m╭──────────────────────────────────────────────────────────────────────────────╮\u001b[0m\n",
      "\u001b[33m│\u001b[0m\u001b[33m \u001b[0m\u001b[33m                     \u001b[0m\u001b[1;33mCode Investigating GALaxy Emission\u001b[0m\u001b[33m                     \u001b[0m\u001b[33m \u001b[0m\u001b[33m│\u001b[0m\n",
      "\u001b[33m│\u001b[0m\u001b[33m \u001b[0m\u001b[33m               Boquien et al. (2019) (\u001b[0m\u001b]8;id=516985;https://cigale.lam.fr\u001b\\\u001b[33mhttps://cigale.lam.fr\u001b[0m\u001b]8;;\u001b\\\u001b[33m)                \u001b[0m\u001b[33m \u001b[0m\u001b[33m│\u001b[0m\n",
      "\u001b[33m│\u001b[0m\u001b[33m \u001b[0m\u001b[33m        CIGALE version: \u001b[0m\u001b[92m2025.0\u001b[0m\u001b[33m — Python version: \u001b[0m\u001b[92m3.12.0\u001b[0m\u001b[33m — Platform:         \u001b[0m\u001b[33m \u001b[0m\u001b[33m│\u001b[0m\n",
      "\u001b[33m│\u001b[0m\u001b[33m \u001b[0m\u001b[33m                             \u001b[0m\u001b[92mmacosx-11.1-arm64\u001b[0m\u001b[33m                              \u001b[0m\u001b[33m \u001b[0m\u001b[33m│\u001b[0m\n",
      "\u001b[33m╰───────────────────────────���──────────────────────────────────────────────────╯\u001b[0m\n",
      "\n",
      "\n",
      "\u001b[1;33m                                  SED modules                                   \u001b[0m\n",
      "\u001b[33m╭──────────────────────┬───────────────────────────────────────────────────────╮\u001b[0m\n",
      "\u001b[33m│\u001b[0m SFH                  \u001b[33m│\u001b[0m\u001b[92m \u001b[0m\u001b[31mNone\u001b[0m\u001b[92m. Options are: \u001b[0m\u001b[92msfh2exp, sfh_buat08, sfhdelayed, \u001b[0m\u001b[92m \u001b[0m\u001b[92m \u001b[0m\u001b[33m│\u001b[0m\n",
      "\u001b[33m│\u001b[0m                      \u001b[33m│\u001b[0m\u001b[92m \u001b[0m\u001b[92msfhdelayedbq, sfhfromfile, sfhperiodic.\u001b[0m\u001b[92m              \u001b[0m\u001b[92m \u001b[0m\u001b[33m│\u001b[0m\n",
      "\u001b[33m│\u001b[0m SSP                  \u001b[33m│\u001b[0m\u001b[92m \u001b[0m\u001b[31mNone\u001b[0m\u001b[92m. Options are: \u001b[0m\u001b[92mbc03, bpassv2, cb19, m2005.\u001b[0m\u001b[92m       \u001b[0m\u001b[92m \u001b[0m\u001b[33m│\u001b[0m\n",
      "\u001b[33m│\u001b[0m nebular              \u001b[33m│\u001b[0m\u001b[92m \u001b[0m\u001b[31mNone\u001b[0m\u001b[92m. Options are: \u001b[0m\u001b[92mnebular.\u001b[0m\u001b[92m                          \u001b[0m\u001b[92m \u001b[0m\u001b[33m│\u001b[0m\n",
      "\u001b[33m│\u001b[0m dust attenuation     \u001b[33m│\u001b[0m\u001b[92m \u001b[0m\u001b[31mNone\u001b[0m\u001b[92m. Options are: \u001b[0m\u001b[92mdustatt_2powerlaws, \u001b[0m\u001b[92m              \u001b[0m\u001b[92m \u001b[0m\u001b[33m│\u001b[0m\n",
      "\u001b[33m│\u001b[0m                      \u001b[33m│\u001b[0m\u001b[92m \u001b[0m\u001b[92mdustatt_calzleit, dustatt_modified_CF00, \u001b[0m\u001b[92m            \u001b[0m\u001b[92m \u001b[0m\u001b[33m│\u001b[0m\n",
      "\u001b[33m│\u001b[0m                      \u001b[33m│\u001b[0m\u001b[92m \u001b[0m\u001b[92mdustatt_modified_starburst, dustatt_powerlaw.\u001b[0m\u001b[92m        \u001b[0m\u001b[92m \u001b[0m\u001b[33m│\u001b[0m\n",
      "\u001b[33m│\u001b[0m dust emission        \u001b[33m│\u001b[0m\u001b[92m \u001b[0m\u001b[31mNone\u001b[0m\u001b[92m. Options are: \u001b[0m\u001b[92mcasey2012, dale2014, dl2007, \u001b[0m\u001b[92m     \u001b[0m\u001b[92m \u001b[0m\u001b[33m│\u001b[0m\n",
      "\u001b[33m│\u001b[0m                      \u001b[33m│\u001b[0m\u001b[92m \u001b[0m\u001b[92mdl2014, mbb, schreiber2016, themis.\u001b[0m\u001b[92m                  \u001b[0m\u001b[92m \u001b[0m\u001b[33m│\u001b[0m\n",
      "\u001b[33m│\u001b[0m AGN                  \u001b[33m│\u001b[0m\u001b[92m \u001b[0m\u001b[31mNone\u001b[0m\u001b[92m. Options are: \u001b[0m\u001b[92mfritz2006, skirtor2016.\u001b[0m\u001b[92m           \u001b[0m\u001b[92m \u001b[0m\u001b[33m│\u001b[0m\n",
      "\u001b[33m│\u001b[0m X-ray                \u001b[33m│\u001b[0m\u001b[92m \u001b[0m\u001b[31mNone\u001b[0m\u001b[92m. Options are: \u001b[0m\u001b[92mlopez24, yang20.\u001b[0m\u001b[92m                  \u001b[0m\u001b[92m \u001b[0m\u001b[33m│\u001b[0m\n",
      "\u001b[33m│\u001b[0m radio                \u001b[33m│\u001b[0m\u001b[92m \u001b[0m\u001b[31mNone\u001b[0m\u001b[92m. Options are: \u001b[0m\u001b[92mradio.\u001b[0m\u001b[92m                            \u001b[0m\u001b[92m \u001b[0m\u001b[33m│\u001b[0m\n",
      "\u001b[33m│\u001b[0m restframe_parameters \u001b[33m│\u001b[0m\u001b[92m \u001b[0m\u001b[31mNone\u001b[0m\u001b[92m. Options are: \u001b[0m\u001b[92mrestframe_parameters.\u001b[0m\u001b[92m             \u001b[0m\u001b[92m \u001b[0m\u001b[33m│\u001b[0m\n",
      "\u001b[33m│\u001b[0m redshifting          \u001b[33m│\u001b[0m\u001b[92m \u001b[0m\u001b[31mNone\u001b[0m\u001b[92m. Options are: \u001b[0m\u001b[92mredshifting.\u001b[0m\u001b[92m                      \u001b[0m\u001b[92m \u001b[0m\u001b[33m│\u001b[0m\n",
      "\u001b[33m╰──────────────────────┴───────────────────────────────────────────────────────╯\u001b[0m\n",
      "\u001b[1m[\u001b[0m\u001b[33mINFO\u001b[0m\u001b[1m]\u001b[0m The initial \u001b[1mpcigale.ini\u001b[0m configuration file has been created. Please edit \n",
      "it to provide the data file \u001b[1m(\u001b[0mif fitting observations\u001b[1m)\u001b[0m, the list of physical \n",
      "modules to use \u001b[1m(\u001b[0msee table above for the available modules\u001b[1m)\u001b[0m, and the analysis \n",
      "module to adopt \u001b[1m(\u001b[0m\u001b[1mpdf_analysis\u001b[0m to fit observations or \u001b[1msavefluxes\u001b[0m to save \n",
      "theoretical models\u001b[1m)\u001b[0m. Once done, \u001b[1;32m'pcigale genconf'\u001b[0m will add the configuraiton \n",
      "sections of the modules.\n",
      "\u001b[33m╭──────────────────────────────────────────────────────────────────────────────╮\u001b[0m\n",
      "\u001b[33m│\u001b[0m\u001b[33m \u001b[0m\u001b[33m                     \u001b[0m\u001b[1;33mCode Investigating GALaxy Emission\u001b[0m\u001b[33m                     \u001b[0m\u001b[33m \u001b[0m\u001b[33m│\u001b[0m\n",
      "\u001b[33m│\u001b[0m\u001b[33m \u001b[0m\u001b[33m               Boquien et al. (2019) (\u001b[0m\u001b]8;id=595735;https://cigale.lam.fr\u001b\\\u001b[33mhttps://cigale.lam.fr\u001b[0m\u001b]8;;\u001b\\\u001b[33m)                \u001b[0m\u001b[33m \u001b[0m\u001b[33m│\u001b[0m\n",
      "\u001b[33m│\u001b[0m\u001b[33m \u001b[0m\u001b[33m        CIGALE version: \u001b[0m\u001b[92m2025.0\u001b[0m\u001b[33m — Python version: \u001b[0m\u001b[92m3.12.0\u001b[0m\u001b[33m — Platform:         \u001b[0m\u001b[33m \u001b[0m\u001b[33m│\u001b[0m\n",
      "\u001b[33m│\u001b[0m\u001b[33m \u001b[0m\u001b[33m                             \u001b[0m\u001b[92mmacosx-11.1-arm64\u001b[0m\u001b[33m                              \u001b[0m\u001b[33m \u001b[0m\u001b[33m│\u001b[0m\n",
      "\u001b[33m╰───────────────────────────���──────────────────────────────────────────────────╯\u001b[0m\n",
      "\n",
      "\n",
      "\u001b[1;33m                              General information                               \u001b[0m\n",
      "\u001b[33m╭───────────────────┬──────────────────────────────────────────────────────────╮\u001b[0m\n",
      "\u001b[33m│\u001b[0m Data file         \u001b[33m│\u001b[0m\u001b[92m \u001b[0m\u001b[92mptf_slsne_cigale.txt                                    \u001b[0m\u001b[92m \u001b[0m\u001b[33m│\u001b[0m\n",
      "\u001b[33m│\u001b[0m Parameters file   \u001b[33m│\u001b[0m\u001b[92m \u001b[0m\u001b[31mNone\u001b[0m\u001b[92m                                                    \u001b[0m\u001b[92m \u001b[0m\u001b[33m│\u001b[0m\n",
      "\u001b[33m│\u001b[0m Number of objects \u001b[33m│\u001b[0m\u001b[92m \u001b[0m\u001b[92m15                                                      \u001b[0m\u001b[92m \u001b[0m\u001b[33m│\u001b[0m\n",
      "\u001b[33m│\u001b[0m Redshift          \u001b[33m│\u001b[0m\u001b[92m \u001b[0m\u001b[92m0.04 to 0.94                                            \u001b[0m\u001b[92m \u001b[0m\u001b[33m│\u001b[0m\n",
      "\u001b[33m│\u001b[0m Bands fitted      \u001b[33m│\u001b[0m\u001b[92m \u001b[0m\u001b[92mgalex (2) — sloan (5) — panstarrs (5) — cfht (5) — ctio \u001b[0m\u001b[92m \u001b[0m\u001b[33m│\u001b[0m\n",
      "\u001b[33m│\u001b[0m                   \u001b[33m│\u001b[0m\u001b[92m \u001b[0m\u001b[92m(3) — 2mass (3) — wise (2)                              \u001b[0m\u001b[92m \u001b[0m\u001b[33m│\u001b[0m\n",
      "\u001b[33m│\u001b[0m Properties fitted \u001b[33m│\u001b[0m\u001b[92m \u001b[0m\u001b[31mNone\u001b[0m\u001b[92m                                                    \u001b[0m\u001b[92m \u001b[0m\u001b[33m│\u001b[0m\n",
      "\u001b[33m│\u001b[0m Number of models  \u001b[33m│\u001b[0m\u001b[92m \u001b[0m\u001b[92m15 (1 per redshift)                                     \u001b[0m\u001b[92m \u001b[0m\u001b[33m│\u001b[0m\n",
      "\u001b[33m│\u001b[0m Cores used        \u001b[33m│\u001b[0m\u001b[92m \u001b[0m\u001b[92m11/11                                                   \u001b[0m\u001b[92m \u001b[0m\u001b[33m│\u001b[0m\n",
      "\u001b[33m│\u001b[0m Analysis module   \u001b[33m│\u001b[0m\u001b[92m \u001b[0m\u001b[92mpdf_analysis                                            \u001b[0m\u001b[92m \u001b[0m\u001b[33m│\u001b[0m\n",
      "\u001b[33m╰───────────────────┴──────────────────────────────────────────────────────────╯\u001b[0m\n",
      "\n",
      "\n",
      "     \u001b[1;33m                             SED modules                             \u001b[0m      \n",
      "     \u001b[33m╭──────────────────────┬────────────────────────────────────────────╮\u001b[0m      \n",
      "     \u001b[33m│\u001b[0m SFH                  \u001b[33m│\u001b[0m\u001b[92m \u001b[0m\u001b[92msfhdelayed                                \u001b[0m\u001b[92m \u001b[0m\u001b[33m│\u001b[0m      \n",
      "     \u001b[33m│\u001b[0m SSP                  \u001b[33m│\u001b[0m\u001b[92m \u001b[0m\u001b[92mbc03                                      \u001b[0m\u001b[92m \u001b[0m\u001b[33m│\u001b[0m      \n",
      "     \u001b[33m│\u001b[0m nebular              \u001b[33m│\u001b[0m\u001b[92m \u001b[0m\u001b[92mnebular                                   \u001b[0m\u001b[92m \u001b[0m\u001b[33m│\u001b[0m      \n",
      "     \u001b[33m│\u001b[0m dust attenuation     \u001b[33m│\u001b[0m\u001b[92m \u001b[0m\u001b[92mdustatt_calzleit                          \u001b[0m\u001b[92m \u001b[0m\u001b[33m│\u001b[0m      \n",
      "     \u001b[33m│\u001b[0m dust emission        \u001b[33m│\u001b[0m\u001b[92m \u001b[0m\u001b[92mdale2014                                  \u001b[0m\u001b[92m \u001b[0m\u001b[33m│\u001b[0m      \n",
      "     \u001b[33m│\u001b[0m AGN                  \u001b[33m│\u001b[0m\u001b[92m \u001b[0m\u001b[31mNone\u001b[0m\u001b[92m. Options are: \u001b[0m\u001b[92mfritz2006, skirtor2016.\u001b[0m\u001b[92m \u001b[0m\u001b[33m│\u001b[0m      \n",
      "     \u001b[33m│\u001b[0m X-ray                \u001b[33m│\u001b[0m\u001b[92m \u001b[0m\u001b[31mNone\u001b[0m\u001b[92m. Options are: \u001b[0m\u001b[92mlopez24, yang20.\u001b[0m\u001b[92m       \u001b[0m\u001b[92m \u001b[0m\u001b[33m│\u001b[0m      \n",
      "     \u001b[33m│\u001b[0m radio                \u001b[33m│\u001b[0m\u001b[92m \u001b[0m\u001b[31mNone\u001b[0m\u001b[92m. Options are: \u001b[0m\u001b[92mradio.\u001b[0m\u001b[92m                 \u001b[0m\u001b[92m \u001b[0m\u001b[33m│\u001b[0m      \n",
      "     \u001b[33m│\u001b[0m restframe_parameters \u001b[33m│\u001b[0m\u001b[92m \u001b[0m\u001b[31mNone\u001b[0m\u001b[92m. Options are: \u001b[0m\u001b[92mrestframe_parameters.\u001b[0m\u001b[92m  \u001b[0m\u001b[92m \u001b[0m\u001b[33m│\u001b[0m      \n",
      "     \u001b[33m│\u001b[0m redshifting          \u001b[33m│\u001b[0m\u001b[92m \u001b[0m\u001b[92mredshifting                               \u001b[0m\u001b[92m \u001b[0m\u001b[33m│\u001b[0m      \n",
      "     \u001b[33m╰──────────────────────┴─────────────────────────────��──────────────╯\u001b[0m      \n",
      "\u001b[1m[\u001b[0m\u001b[33mINFO\u001b[0m\u001b[1m]\u001b[0m The \u001b[1mpcigale.ini\u001b[0m configuration file has been updated and the configuration\n",
      "sections of the physical and the analysis modules have been added. Please edit \n",
      "it to provide the different values each of the physical properties should take \n",
      "for each physical module \u001b[1m(\u001b[0mnote, this is not necessary if you use a parameters \n",
      "file\u001b[1m)\u001b[0m. Once done, an optional sanity check can be done with \u001b[1;32m'pcigale check'\u001b[0m. If \n",
      "everything is satisfactory, the code can be launched with \u001b[1;32m'pcigale run'\u001b[0m.\n",
      "\u001b[33m╭──────────────────────────────────────────────────────────────────────────────╮\u001b[0m\n",
      "\u001b[33m│\u001b[0m\u001b[33m \u001b[0m\u001b[33m                     \u001b[0m\u001b[1;33mCode Investigating GALaxy Emission\u001b[0m\u001b[33m                     \u001b[0m\u001b[33m \u001b[0m\u001b[33m│\u001b[0m\n",
      "\u001b[33m│\u001b[0m\u001b[33m \u001b[0m\u001b[33m               Boquien et al. (2019) (\u001b[0m\u001b]8;id=700499;https://cigale.lam.fr\u001b\\\u001b[33mhttps://cigale.lam.fr\u001b[0m\u001b]8;;\u001b\\\u001b[33m)                \u001b[0m\u001b[33m \u001b[0m\u001b[33m│\u001b[0m\n",
      "\u001b[33m│\u001b[0m\u001b[33m \u001b[0m\u001b[33m        CIGALE version: \u001b[0m\u001b[92m2025.0\u001b[0m\u001b[33m — Python version: \u001b[0m\u001b[92m3.12.0\u001b[0m\u001b[33m — Platform:         \u001b[0m\u001b[33m \u001b[0m\u001b[33m│\u001b[0m\n",
      "\u001b[33m│\u001b[0m\u001b[33m \u001b[0m\u001b[33m                             \u001b[0m\u001b[92mmacosx-11.1-arm64\u001b[0m\u001b[33m                              \u001b[0m\u001b[33m \u001b[0m\u001b[33m│\u001b[0m\n",
      "\u001b[33m╰───────────────────────────���──────────────────────────────────────────────────╯\u001b[0m\n",
      "\n",
      "\n",
      "\u001b[1;33m                              General information                               \u001b[0m\n",
      "\u001b[33m╭───────────────────┬──────────────────────────────────────────────────────────╮\u001b[0m\n",
      "\u001b[33m│\u001b[0m Data file         \u001b[33m│\u001b[0m\u001b[92m \u001b[0m\u001b[92mptf_slsne_cigale.txt                                    \u001b[0m\u001b[92m \u001b[0m\u001b[33m│\u001b[0m\n",
      "\u001b[33m│\u001b[0m Parameters file   \u001b[33m│\u001b[0m\u001b[92m \u001b[0m\u001b[31mNone\u001b[0m\u001b[92m                                                    \u001b[0m\u001b[92m \u001b[0m\u001b[33m│\u001b[0m\n",
      "\u001b[33m│\u001b[0m Number of objects \u001b[33m│\u001b[0m\u001b[92m \u001b[0m\u001b[92m15                                                      \u001b[0m\u001b[92m \u001b[0m\u001b[33m│\u001b[0m\n",
      "\u001b[33m│\u001b[0m Redshift          \u001b[33m│\u001b[0m\u001b[92m \u001b[0m\u001b[92m0.04 to 0.94                                            \u001b[0m\u001b[92m \u001b[0m\u001b[33m│\u001b[0m\n",
      "\u001b[33m│\u001b[0m Bands fitted      \u001b[33m│\u001b[0m\u001b[92m \u001b[0m\u001b[92mgalex (2) — sloan (5) — panstarrs (5) — cfht (5) — ctio \u001b[0m\u001b[92m \u001b[0m\u001b[33m│\u001b[0m\n",
      "\u001b[33m│\u001b[0m                   \u001b[33m│\u001b[0m\u001b[92m \u001b[0m\u001b[92m(3) — 2mass (3) — wise (2)                              \u001b[0m\u001b[92m \u001b[0m\u001b[33m│\u001b[0m\n",
      "\u001b[33m│\u001b[0m Properties fitted \u001b[33m│\u001b[0m\u001b[92m \u001b[0m\u001b[31mNone\u001b[0m\u001b[92m                                                    \u001b[0m\u001b[92m \u001b[0m\u001b[33m│\u001b[0m\n",
      "\u001b[33m│\u001b[0m Number of models  \u001b[33m│\u001b[0m\u001b[92m \u001b[0m\u001b[92m4762800 (317520 per redshift)                           \u001b[0m\u001b[92m \u001b[0m\u001b[33m│\u001b[0m\n",
      "\u001b[33m│\u001b[0m Cores used        \u001b[33m│\u001b[0m\u001b[92m \u001b[0m\u001b[92m11/11                                                   \u001b[0m\u001b[92m \u001b[0m\u001b[33m│\u001b[0m\n",
      "\u001b[33m│\u001b[0m Analysis module   \u001b[33m│\u001b[0m\u001b[92m \u001b[0m\u001b[92mpdf_analysis                                            \u001b[0m\u001b[92m \u001b[0m\u001b[33m│\u001b[0m\n",
      "\u001b[33m╰───────────────────┴──────────────────────────────────────────────────────────╯\u001b[0m\n",
      "\n",
      "\n",
      "     \u001b[1;33m                             SED modules                             \u001b[0m      \n",
      "     \u001b[33m╭──────────────────────┬────────────────────────────────────────────╮\u001b[0m      \n",
      "     \u001b[33m│\u001b[0m SFH                  \u001b[33m│\u001b[0m\u001b[92m \u001b[0m\u001b[92msfhdelayed                                \u001b[0m\u001b[92m \u001b[0m\u001b[33m│\u001b[0m      \n",
      "     \u001b[33m│\u001b[0m SSP                  \u001b[33m│\u001b[0m\u001b[92m \u001b[0m\u001b[92mbc03                                      \u001b[0m\u001b[92m \u001b[0m\u001b[33m│\u001b[0m      \n",
      "     \u001b[33m│\u001b[0m nebular              \u001b[33m│\u001b[0m\u001b[92m \u001b[0m\u001b[92mnebular                                   \u001b[0m\u001b[92m \u001b[0m\u001b[33m│\u001b[0m      \n",
      "     \u001b[33m│\u001b[0m dust attenuation     \u001b[33m│\u001b[0m\u001b[92m \u001b[0m\u001b[92mdustatt_calzleit                          \u001b[0m\u001b[92m \u001b[0m\u001b[33m│\u001b[0m      \n",
      "     \u001b[33m│\u001b[0m dust emission        \u001b[33m│\u001b[0m\u001b[92m \u001b[0m\u001b[92mdale2014                                  \u001b[0m\u001b[92m \u001b[0m\u001b[33m│\u001b[0m      \n",
      "     \u001b[33m│\u001b[0m AGN                  \u001b[33m│\u001b[0m\u001b[92m \u001b[0m\u001b[31mNone\u001b[0m\u001b[92m. Options are: \u001b[0m\u001b[92mfritz2006, skirtor2016.\u001b[0m\u001b[92m \u001b[0m\u001b[33m│\u001b[0m      \n",
      "     \u001b[33m│\u001b[0m X-ray                \u001b[33m│\u001b[0m\u001b[92m \u001b[0m\u001b[31mNone\u001b[0m\u001b[92m. Options are: \u001b[0m\u001b[92mlopez24, yang20.\u001b[0m\u001b[92m       \u001b[0m\u001b[92m \u001b[0m\u001b[33m│\u001b[0m      \n",
      "     \u001b[33m│\u001b[0m radio                \u001b[33m│\u001b[0m\u001b[92m \u001b[0m\u001b[31mNone\u001b[0m\u001b[92m. Options are: \u001b[0m\u001b[92mradio.\u001b[0m\u001b[92m                 \u001b[0m\u001b[92m \u001b[0m\u001b[33m│\u001b[0m      \n",
      "     \u001b[33m│\u001b[0m restframe_parameters \u001b[33m│\u001b[0m\u001b[92m \u001b[0m\u001b[31mNone\u001b[0m\u001b[92m. Options are: \u001b[0m\u001b[92mrestframe_parameters.\u001b[0m\u001b[92m  \u001b[0m\u001b[92m \u001b[0m\u001b[33m│\u001b[0m      \n",
      "     \u001b[33m│\u001b[0m redshifting          \u001b[33m│\u001b[0m\u001b[92m \u001b[0m\u001b[92mredshifting                               \u001b[0m\u001b[92m \u001b[0m\u001b[33m│\u001b[0m      \n",
      "     \u001b[33m╰──────────────────────┴─────────────────────────────��──────────────╯\u001b[0m      \n",
      "\u001b[1m[\u001b[0m\u001b[33mINFO\u001b[0m\u001b[1m]\u001b[0m No critical error has been found. Consider the \u001b[1m[\u001b[0m\u001b[31mWARNING\u001b[0m\u001b[1m]\u001b[0m messages \u001b[1m(\u001b[0mif \n",
      "any\u001b[1m)\u001b[0m. If everything is satisfactory, the code can be launched with \u001b[1;32m'pcigale \u001b[0m\n",
      "\u001b[1;32mrun'\u001b[0m.\n"
     ]
    }
   ],
   "source": [
    "config = prep_cigale(data_file, CIGALE_PARAMS)"
   ]
  },
  {
   "cell_type": "code",
   "execution_count": 71,
   "id": "8f068385",
   "metadata": {},
   "outputs": [
    {
     "name": "stdout",
     "output_type": "stream",
     "text": [
      "\u001b[33m╭──────────────────────────────────────────────────────────────────────────────╮\u001b[0m\n",
      "\u001b[33m│\u001b[0m\u001b[33m \u001b[0m\u001b[33m                     \u001b[0m\u001b[1;33mCode Investigating GALaxy Emission\u001b[0m\u001b[33m                     \u001b[0m\u001b[33m \u001b[0m\u001b[33m│\u001b[0m\n",
      "\u001b[33m│\u001b[0m\u001b[33m \u001b[0m\u001b[33m               Boquien et al. (2019) (\u001b[0m\u001b]8;id=485787;https://cigale.lam.fr\u001b\\\u001b[33mhttps://cigale.lam.fr\u001b[0m\u001b]8;;\u001b\\\u001b[33m)                \u001b[0m\u001b[33m \u001b[0m\u001b[33m│\u001b[0m\n",
      "\u001b[33m│\u001b[0m\u001b[33m \u001b[0m\u001b[33m        CIGALE version: \u001b[0m\u001b[92m2025.0\u001b[0m\u001b[33m — Python version: \u001b[0m\u001b[92m3.12.0\u001b[0m\u001b[33m — Platform:         \u001b[0m\u001b[33m \u001b[0m\u001b[33m│\u001b[0m\n",
      "\u001b[33m│\u001b[0m\u001b[33m \u001b[0m\u001b[33m                             \u001b[0m\u001b[92mmacosx-11.1-arm64\u001b[0m\u001b[33m                              \u001b[0m\u001b[33m \u001b[0m\u001b[33m│\u001b[0m\n",
      "\u001b[33m╰───────────────────────────���──────────────────────────────────────────────────╯\u001b[0m\n",
      "\n",
      "\n",
      "\u001b[1;33m                              General information                               \u001b[0m\n",
      "\u001b[33m╭───────────────────┬──────────────────────────────────────────────────────────╮\u001b[0m\n",
      "\u001b[33m│\u001b[0m Data file         \u001b[33m│\u001b[0m\u001b[92m \u001b[0m\u001b[92mptf_slsne_cigale.txt                                    \u001b[0m\u001b[92m \u001b[0m\u001b[33m│\u001b[0m\n",
      "\u001b[33m│\u001b[0m Parameters file   \u001b[33m│\u001b[0m\u001b[92m \u001b[0m\u001b[31mNone\u001b[0m\u001b[92m                                                    \u001b[0m\u001b[92m \u001b[0m\u001b[33m│\u001b[0m\n",
      "\u001b[33m│\u001b[0m Number of objects \u001b[33m│\u001b[0m\u001b[92m \u001b[0m\u001b[92m15                                                      \u001b[0m\u001b[92m \u001b[0m\u001b[33m│\u001b[0m\n",
      "\u001b[33m│\u001b[0m Redshift          \u001b[33m│\u001b[0m\u001b[92m \u001b[0m\u001b[92m0.04 to 0.94                                            \u001b[0m\u001b[92m \u001b[0m\u001b[33m│\u001b[0m\n",
      "\u001b[33m│\u001b[0m Bands fitted      \u001b[33m│\u001b[0m\u001b[92m \u001b[0m\u001b[92mgalex (2) — sloan (5) — panstarrs (5) — cfht (5) — ctio \u001b[0m\u001b[92m \u001b[0m\u001b[33m│\u001b[0m\n",
      "\u001b[33m│\u001b[0m                   \u001b[33m│\u001b[0m\u001b[92m \u001b[0m\u001b[92m(3) — 2mass (3) — wise (2)                              \u001b[0m\u001b[92m \u001b[0m\u001b[33m│\u001b[0m\n",
      "\u001b[33m│\u001b[0m Properties fitted \u001b[33m│\u001b[0m\u001b[92m \u001b[0m\u001b[31mNone\u001b[0m\u001b[92m                                                    \u001b[0m\u001b[92m \u001b[0m\u001b[33m│\u001b[0m\n",
      "\u001b[33m│\u001b[0m Number of models  \u001b[33m│\u001b[0m\u001b[92m \u001b[0m\u001b[92m4762800 (317520 per redshift)                           \u001b[0m\u001b[92m \u001b[0m\u001b[33m│\u001b[0m\n",
      "\u001b[33m│\u001b[0m Cores used        \u001b[33m│\u001b[0m\u001b[92m \u001b[0m\u001b[92m11/11                                                   \u001b[0m\u001b[92m \u001b[0m\u001b[33m│\u001b[0m\n",
      "\u001b[33m│\u001b[0m Analysis module   \u001b[33m│\u001b[0m\u001b[92m \u001b[0m\u001b[92mpdf_analysis                                            \u001b[0m\u001b[92m \u001b[0m\u001b[33m│\u001b[0m\n",
      "\u001b[33m╰───────────────────┴──────────────────────────────────────────────────────────╯\u001b[0m\n",
      "\n",
      "\n",
      "     \u001b[1;33m                             SED modules                             \u001b[0m      \n",
      "     \u001b[33m╭──────────────────────┬────────────────────────────────────────────╮\u001b[0m      \n",
      "     \u001b[33m│\u001b[0m SFH                  \u001b[33m│\u001b[0m\u001b[92m \u001b[0m\u001b[92msfhdelayed                                \u001b[0m\u001b[92m \u001b[0m\u001b[33m│\u001b[0m      \n",
      "     \u001b[33m│\u001b[0m SSP                  \u001b[33m│\u001b[0m\u001b[92m \u001b[0m\u001b[92mbc03                                      \u001b[0m\u001b[92m \u001b[0m\u001b[33m│\u001b[0m      \n",
      "     \u001b[33m│\u001b[0m nebular              \u001b[33m│\u001b[0m\u001b[92m \u001b[0m\u001b[92mnebular                                   \u001b[0m\u001b[92m \u001b[0m\u001b[33m│\u001b[0m      \n",
      "     \u001b[33m│\u001b[0m dust attenuation     \u001b[33m│\u001b[0m\u001b[92m \u001b[0m\u001b[92mdustatt_calzleit                          \u001b[0m\u001b[92m \u001b[0m\u001b[33m│\u001b[0m      \n",
      "     \u001b[33m│\u001b[0m dust emission        \u001b[33m│\u001b[0m\u001b[92m \u001b[0m\u001b[92mdale2014                                  \u001b[0m\u001b[92m \u001b[0m\u001b[33m│\u001b[0m      \n",
      "     \u001b[33m│\u001b[0m AGN                  \u001b[33m│\u001b[0m\u001b[92m \u001b[0m\u001b[31mNone\u001b[0m\u001b[92m. Options are: \u001b[0m\u001b[92mfritz2006, skirtor2016.\u001b[0m\u001b[92m \u001b[0m\u001b[33m│\u001b[0m      \n",
      "     \u001b[33m│\u001b[0m X-ray                \u001b[33m│\u001b[0m\u001b[92m \u001b[0m\u001b[31mNone\u001b[0m\u001b[92m. Options are: \u001b[0m\u001b[92mlopez24, yang20.\u001b[0m\u001b[92m       \u001b[0m\u001b[92m \u001b[0m\u001b[33m│\u001b[0m      \n",
      "     \u001b[33m│\u001b[0m radio                \u001b[33m│\u001b[0m\u001b[92m \u001b[0m\u001b[31mNone\u001b[0m\u001b[92m. Options are: \u001b[0m\u001b[92mradio.\u001b[0m\u001b[92m                 \u001b[0m\u001b[92m \u001b[0m\u001b[33m│\u001b[0m      \n",
      "     \u001b[33m│\u001b[0m restframe_parameters \u001b[33m│\u001b[0m\u001b[92m \u001b[0m\u001b[31mNone\u001b[0m\u001b[92m. Options are: \u001b[0m\u001b[92mrestframe_parameters.\u001b[0m\u001b[92m  \u001b[0m\u001b[92m \u001b[0m\u001b[33m│\u001b[0m      \n",
      "     \u001b[33m│\u001b[0m redshifting          \u001b[33m│\u001b[0m\u001b[92m \u001b[0m\u001b[92mredshifting                               \u001b[0m\u001b[92m \u001b[0m\u001b[33m│\u001b[0m      \n",
      "     \u001b[33m╰──────────────────────┴─────────────────────────────��──────────────╯\u001b[0m      \n",
      "\u001b[1m[\u001b[0m\u001b[33mINFO\u001b[0m\u001b[1m]\u001b[0m Start: \u001b[1;94m2025\u001b[0m-\u001b[1;94m06\u001b[0m-\u001b[1;94m08\u001b[0m/\u001b[1;92m18:29:12\u001b[0m\n",
      "\u001b[1m[\u001b[0m\u001b[33mINFO\u001b[0m\u001b[1m]\u001b[0m Initialising the analysis module.\n",
      "\u001b[1m[\u001b[0m\u001b[33mINFO\u001b[0m\u001b[1m]\u001b[0m The out directory was renamed to 20250608_182912_out.\n",
      "\u001b[93m────────────────────────────────── \u001b[0mBlock \u001b[1;94m1\u001b[0m/\u001b[1;94m1\u001b[0m\u001b[93m ───────────────────────────────────\u001b[0m\n",
      "\u001b[1m[\u001b[0m\u001b[33mINFO\u001b[0m\u001b[1m]\u001b[0m Computing models.\n",
      "\u001b[2K👍 Model 4762800/4762800 \u001b[90m━━━━━━━━━━━━━━━━━━━━━━━\u001b[0m \u001b[35m100% \u001b[0m \u001b[33m0:05:25\u001b[0m \u001b[36m0:00:00\u001b[0m \u001b[31m11993.9/s\u001b[0m\u001b[31m12526.9/s\u001b[0m1.6/s\u001b[0m\n",
      "\u001b[?25h\u001b[1m[\u001b[0m\u001b[33mINFO\u001b[0m\u001b[1m]\u001b[0m Done.\n",
      "\u001b[1m[\u001b[0m\u001b[33mINFO\u001b[0m\u001b[1m]\u001b[0m Estimating the physical properties.\n",
      "\u001b[2K👍 Object 15/15 \u001b[90m━━━━━━━━━━━━━━━━━━━━━━━━━━━━━━━━━━━\u001b[0m \u001b[35m100% \u001b[0m \u001b[33m0:01:07\u001b[0m \u001b[36m0:00:00\u001b[0m \u001b[31m26.4/s\u001b[0m0:00:01\u001b[0m \u001b[31m31.8/s\u001b[0m\n",
      "\u001b[?25h\u001b[1m[\u001b[0m\u001b[33mINFO\u001b[0m\u001b[1m]\u001b[0m Done.\n",
      "\u001b[1m[\u001b[0m\u001b[33mINFO\u001b[0m\u001b[1m]\u001b[0m Block processed.\n",
      "\u001b[93m─────────────────────────────── \u001b[0mGlobal analysis\u001b[93m ────────────────────────────────\u001b[0m\n",
      "\u001b[1m[\u001b[0m\u001b[33mINFO\u001b[0m\u001b[1m]\u001b[0m Estimating the physical properties.\n",
      "\u001b[1m[\u001b[0m\u001b[33mINFO\u001b[0m\u001b[1m]\u001b[0m Computing the best fit spectra.\n",
      "\u001b[2K👍 Object 15/15 \u001b[90m━━━━━━━━━━━━━━━━━━━━━━━━━━━━━━━━━━━\u001b[0m \u001b[35m100% \u001b[0m \u001b[33m0:00:00\u001b[0m \u001b[36m0:00:00\u001b[0m \u001b[31m41.3/s\u001b[0m0:00:01\u001b[0m \u001b[31m42.9/s\u001b[0m\n",
      "\u001b[?25h\u001b[1m[\u001b[0m\u001b[33mINFO\u001b[0m\u001b[1m]\u001b[0m Done.\n",
      "\u001b[1m[\u001b[0m\u001b[33mINFO\u001b[0m\u001b[1m]\u001b[0m Sanity check of the analysis results.\n",
      "\u001b[1m[\u001b[0m\u001b[33mINFO\u001b[0m\u001b[1m]\u001b[0m \u001b[1;94m0.0\u001b[0m% of the objects have χ²_red~\u001b[1;94m0\u001b[0m and \u001b[1;94m40.0\u001b[0m% χ²_red<\u001b[1;94m0.5\u001b[0m.\n",
      "\u001b[1m[\u001b[0m\u001b[33mINFO\u001b[0m\u001b[1m]\u001b[0m Saving the analysis results.\n",
      "\u001b[1m[\u001b[0m\u001b[33mINFO\u001b[0m\u001b[1m]\u001b[0m Run completed! 👍\n",
      "\u001b[1m[\u001b[0m\u001b[33mINFO\u001b[0m\u001b[1m]\u001b[0m End: \u001b[1;94m2025\u001b[0m-\u001b[1;94m06\u001b[0m-\u001b[1;94m08\u001b[0m/\u001b[1;92m18:35:50\u001b[0m\n",
      "\u001b[1m[\u001b[0m\u001b[33mINFO\u001b[0m\u001b[1m]\u001b[0m Total duration: \u001b[1;92m0:06:38\u001b[0m\n",
      "\u001b[2K👍 Object 15/15 \u001b[90m━━━━━━━━━━━━━━━━━━━━━━━━━━━━━━━━━━━\u001b[0m \u001b[35m100% \u001b[0m \u001b[33m0:00:01\u001b[0m \u001b[36m0:00:00\u001b[0m \u001b[31m27.0/s\u001b[0m0:00:01\u001b[0m \u001b[31m96.5/s\u001b[0m\n",
      "\u001b[?25h\u001b[1m[\u001b[0m\u001b[33mINFO\u001b[0m\u001b[1m]\u001b[0m Done.\n"
     ]
    }
   ],
   "source": [
    "run_cigale('pcigale.ini', data_file, 'ptfslsne', plot=True)"
   ]
  },
  {
   "cell_type": "code",
   "execution_count": null,
   "id": "9a05944d",
   "metadata": {},
   "outputs": [],
   "source": [
    "awkmag = np.array([20.00, 19.90, 19.55, 18.53, 18.24, 17.96, 17.93, 18.75, 19.52])\n",
    "awkerr = np.array([0.17, 0.06, 0.11, 0.03, 0.06, 0.09, 0.09, 0.14, 0.12])\n",
    "awkflux = 10**((awkmag - 8.90)/-2.5)*1000\n",
    "awkfluxerr = awkerr * awkflux * np.log(10)/2.5"
   ]
  },
  {
   "cell_type": "code",
   "execution_count": 241,
   "id": "0b7e64c1",
   "metadata": {},
   "outputs": [
    {
     "data": {
      "text/plain": [
       "array([ 1.4e-01,  1.7e-01,  8.0e-02,  1.1e-01,  1.0e-01,  1.5e-01,\n",
       "        3.6e-01, -9.9e+01, -9.9e+01])"
      ]
     },
     "execution_count": 241,
     "metadata": {},
     "output_type": "execute_result"
    }
   ],
   "source": [
    "awkerr"
   ]
  },
  {
   "cell_type": "code",
   "execution_count": 116,
   "id": "41a10ccf",
   "metadata": {},
   "outputs": [],
   "source": [
    "hdul = fits.open('ptfccsne/out/results.fits')\n",
    "results = Table(hdul[1].data)"
   ]
  },
  {
   "cell_type": "code",
   "execution_count": 117,
   "id": "13e545c0",
   "metadata": {},
   "outputs": [
    {
     "data": {
      "text/html": [
       "<div><i>Table length=8</i>\n",
       "<table id=\"table5776994096\" class=\"table-striped table-bordered table-condensed\">\n",
       "<thead><tr><th>id</th><th>bayes.agn.fracAGN_dale2014</th><th>bayes.agn.fracAGN_dale2014_err</th><th>bayes.attenuation.E_BVs.nebular.emission_old</th><th>bayes.attenuation.E_BVs.nebular.emission_old_err</th><th>bayes.attenuation.E_BVs.nebular.emission_young</th><th>bayes.attenuation.E_BVs.nebular.emission_young_err</th><th>bayes.attenuation.E_BVs.stellar.old</th><th>bayes.attenuation.E_BVs.stellar.old_err</th><th>bayes.attenuation.E_BVs.stellar.young</th><th>bayes.attenuation.E_BVs.stellar.young_err</th><th>bayes.attenuation.ebvs_old_factor</th><th>bayes.attenuation.ebvs_old_factor_err</th><th>bayes.attenuation.galex.FUV</th><th>bayes.attenuation.galex.FUV_err</th><th>bayes.attenuation.generic.bessell.B</th><th>bayes.attenuation.generic.bessell.B_err</th><th>bayes.attenuation.generic.bessell.V</th><th>bayes.attenuation.generic.bessell.V_err</th><th>bayes.attenuation.powerlaw_slope</th><th>bayes.attenuation.powerlaw_slope_err</th><th>bayes.attenuation.uv_bump_amplitude</th><th>bayes.attenuation.uv_bump_amplitude_err</th><th>bayes.attenuation.uv_bump_wavelength</th><th>bayes.attenuation.uv_bump_wavelength_err</th><th>bayes.attenuation.uv_bump_width</th><th>bayes.attenuation.uv_bump_width_err</th><th>bayes.dust.alpha</th><th>bayes.dust.alpha_err</th><th>bayes.nebular.f_dust</th><th>bayes.nebular.f_dust_err</th><th>bayes.nebular.f_esc</th><th>bayes.nebular.f_esc_err</th><th>bayes.nebular.lines_width</th><th>bayes.nebular.lines_width_err</th><th>bayes.nebular.logU</th><th>bayes.nebular.logU_err</th><th>bayes.nebular.ne</th><th>bayes.nebular.ne_err</th><th>bayes.nebular.zgas</th><th>bayes.nebular.zgas_err</th><th>bayes.sfh.age</th><th>bayes.sfh.age_err</th><th>bayes.sfh.age_burst</th><th>bayes.sfh.age_burst_err</th><th>bayes.sfh.age_main</th><th>bayes.sfh.age_main_err</th><th>bayes.sfh.f_burst</th><th>bayes.sfh.f_burst_err</th><th>bayes.sfh.tau_burst</th><th>bayes.sfh.tau_burst_err</th><th>bayes.sfh.tau_main</th><th>bayes.sfh.tau_main_err</th><th>bayes.stellar.age_m_star</th><th>bayes.stellar.age_m_star_err</th><th>bayes.stellar.imf</th><th>bayes.stellar.imf_err</th><th>bayes.stellar.metallicity</th><th>bayes.stellar.metallicity_err</th><th>bayes.stellar.old_young_separation_age</th><th>bayes.stellar.old_young_separation_age_err</th><th>bayes.universe.age</th><th>bayes.universe.age_err</th><th>bayes.universe.luminosity_distance</th><th>bayes.universe.luminosity_distance_err</th><th>bayes.universe.redshift</th><th>bayes.universe.redshift_err</th><th>bayes.attenuation.nebular.emission_old</th><th>bayes.attenuation.nebular.emission_old_err</th><th>bayes.attenuation.nebular.emission_young</th><th>bayes.attenuation.nebular.emission_young_err</th><th>bayes.attenuation.stellar.old</th><th>bayes.attenuation.stellar.old_err</th><th>bayes.attenuation.stellar.young</th><th>bayes.attenuation.stellar.young_err</th><th>bayes.dust.luminosity</th><th>bayes.dust.luminosity_err</th><th>bayes.sfh.integrated</th><th>bayes.sfh.integrated_err</th><th>bayes.sfh.sfr</th><th>bayes.sfh.sfr_err</th><th>bayes.sfh.sfr100Myrs</th><th>bayes.sfh.sfr100Myrs_err</th><th>bayes.sfh.sfr10Myrs</th><th>bayes.sfh.sfr10Myrs_err</th><th>bayes.stellar.lum</th><th>bayes.stellar.lum_err</th><th>bayes.stellar.lum_ly</th><th>bayes.stellar.lum_ly_err</th><th>bayes.stellar.lum_ly_old</th><th>bayes.stellar.lum_ly_old_err</th><th>bayes.stellar.lum_ly_young</th><th>bayes.stellar.lum_ly_young_err</th><th>bayes.stellar.lum_old</th><th>bayes.stellar.lum_old_err</th><th>bayes.stellar.lum_young</th><th>bayes.stellar.lum_young_err</th><th>bayes.stellar.m_gas</th><th>bayes.stellar.m_gas_err</th><th>bayes.stellar.m_gas_old</th><th>bayes.stellar.m_gas_old_err</th><th>bayes.stellar.m_gas_young</th><th>bayes.stellar.m_gas_young_err</th><th>bayes.stellar.m_star</th><th>bayes.stellar.m_star_err</th><th>bayes.stellar.m_star_old</th><th>bayes.stellar.m_star_old_err</th><th>bayes.stellar.m_star_young</th><th>bayes.stellar.m_star_young_err</th><th>bayes.stellar.n_ly</th><th>bayes.stellar.n_ly_err</th><th>bayes.stellar.n_ly_old</th><th>bayes.stellar.n_ly_old_err</th><th>bayes.stellar.n_ly_young</th><th>bayes.stellar.n_ly_young_err</th><th>bayes.2mass.H</th><th>bayes.2mass.H_err</th><th>bayes.2mass.J</th><th>bayes.2mass.J_err</th><th>bayes.2mass.Ks</th><th>bayes.2mass.Ks_err</th><th>bayes.cfht.megaprime.g</th><th>bayes.cfht.megaprime.g_err</th><th>bayes.cfht.megaprime.i</th><th>bayes.cfht.megaprime.i_err</th><th>bayes.cfht.megaprime.r</th><th>bayes.cfht.megaprime.r_err</th><th>bayes.cfht.megaprime.u</th><th>bayes.cfht.megaprime.u_err</th><th>bayes.cfht.megaprime.z</th><th>bayes.cfht.megaprime.z_err</th><th>bayes.ctio.ls.g</th><th>bayes.ctio.ls.g_err</th><th>bayes.ctio.ls.r</th><th>bayes.ctio.ls.r_err</th><th>bayes.ctio.ls.z</th><th>bayes.ctio.ls.z_err</th><th>bayes.galex.FUV</th><th>bayes.galex.FUV_err</th><th>bayes.galex.NUV</th><th>bayes.galex.NUV_err</th><th>bayes.panstarrs.ps1.g</th><th>bayes.panstarrs.ps1.g_err</th><th>bayes.panstarrs.ps1.i</th><th>bayes.panstarrs.ps1.i_err</th><th>bayes.panstarrs.ps1.r</th><th>bayes.panstarrs.ps1.r_err</th><th>bayes.panstarrs.ps1.y</th><th>bayes.panstarrs.ps1.y_err</th><th>bayes.panstarrs.ps1.z</th><th>bayes.panstarrs.ps1.z_err</th><th>bayes.sloan.sdss.gprime</th><th>bayes.sloan.sdss.gprime_err</th><th>bayes.sloan.sdss.iprime</th><th>bayes.sloan.sdss.iprime_err</th><th>bayes.sloan.sdss.rprime</th><th>bayes.sloan.sdss.rprime_err</th><th>bayes.sloan.sdss.uprime</th><th>bayes.sloan.sdss.uprime_err</th><th>bayes.sloan.sdss.zprime</th><th>bayes.sloan.sdss.zprime_err</th><th>bayes.wise.W1</th><th>bayes.wise.W1_err</th><th>bayes.wise.W2</th><th>bayes.wise.W2_err</th><th>best.chi_square</th><th>best.reduced_chi_square</th><th>best.agn.fracAGN_dale2014</th><th>best.attenuation.E_BVs.nebular.emission_old</th><th>best.attenuation.E_BVs.nebular.emission_young</th><th>best.attenuation.E_BVs.stellar.old</th><th>best.attenuation.E_BVs.stellar.young</th><th>best.attenuation.ebvs_old_factor</th><th>best.attenuation.galex.FUV</th><th>best.attenuation.generic.bessell.B</th><th>best.attenuation.generic.bessell.V</th><th>best.attenuation.powerlaw_slope</th><th>best.attenuation.uv_bump_amplitude</th><th>best.attenuation.uv_bump_wavelength</th><th>best.attenuation.uv_bump_width</th><th>best.dust.alpha</th><th>best.nebular.f_dust</th><th>best.nebular.f_esc</th><th>best.nebular.lines_width</th><th>best.nebular.logU</th><th>best.nebular.ne</th><th>best.nebular.zgas</th><th>best.sfh.age</th><th>best.sfh.age_burst</th><th>best.sfh.age_main</th><th>best.sfh.f_burst</th><th>best.sfh.tau_burst</th><th>best.sfh.tau_main</th><th>best.stellar.age_m_star</th><th>best.stellar.imf</th><th>best.stellar.metallicity</th><th>best.stellar.old_young_separation_age</th><th>best.universe.age</th><th>best.universe.luminosity_distance</th><th>best.universe.redshift</th><th>best.attenuation.nebular.emission_old</th><th>best.attenuation.nebular.emission_young</th><th>best.attenuation.stellar.old</th><th>best.attenuation.stellar.young</th><th>best.dust.luminosity</th><th>best.sfh.integrated</th><th>best.sfh.sfr</th><th>best.sfh.sfr100Myrs</th><th>best.sfh.sfr10Myrs</th><th>best.stellar.lum</th><th>best.stellar.lum_ly</th><th>best.stellar.lum_ly_old</th><th>best.stellar.lum_ly_young</th><th>best.stellar.lum_old</th><th>best.stellar.lum_young</th><th>best.stellar.m_gas</th><th>best.stellar.m_gas_old</th><th>best.stellar.m_gas_young</th><th>best.stellar.m_star</th><th>best.stellar.m_star_old</th><th>best.stellar.m_star_young</th><th>best.stellar.n_ly</th><th>best.stellar.n_ly_old</th><th>best.stellar.n_ly_young</th><th>best.galex.FUV</th><th>best.galex.NUV</th><th>best.sloan.sdss.uprime</th><th>best.sloan.sdss.gprime</th><th>best.sloan.sdss.rprime</th><th>best.sloan.sdss.iprime</th><th>best.sloan.sdss.zprime</th><th>best.panstarrs.ps1.g</th><th>best.panstarrs.ps1.r</th><th>best.panstarrs.ps1.i</th><th>best.panstarrs.ps1.z</th><th>best.panstarrs.ps1.y</th><th>best.2mass.J</th><th>best.2mass.H</th><th>best.2mass.Ks</th><th>best.wise.W1</th><th>best.wise.W2</th><th>best.cfht.megaprime.u</th><th>best.cfht.megaprime.g</th><th>best.cfht.megaprime.r</th><th>best.cfht.megaprime.i</th><th>best.cfht.megaprime.z</th><th>best.ctio.ls.g</th><th>best.ctio.ls.r</th><th>best.ctio.ls.z</th></tr></thead>\n",
       "<thead><tr><th>str9</th><th>float64</th><th>float64</th><th>float64</th><th>float64</th><th>float64</th><th>float64</th><th>float64</th><th>float64</th><th>float64</th><th>float64</th><th>float64</th><th>float64</th><th>float64</th><th>float64</th><th>float64</th><th>float64</th><th>float64</th><th>float64</th><th>float64</th><th>float64</th><th>float64</th><th>float64</th><th>float64</th><th>float64</th><th>float64</th><th>float64</th><th>float64</th><th>float64</th><th>float64</th><th>float64</th><th>float64</th><th>float64</th><th>float64</th><th>float64</th><th>float64</th><th>float64</th><th>float64</th><th>float64</th><th>float64</th><th>float64</th><th>float64</th><th>float64</th><th>float64</th><th>float64</th><th>float64</th><th>float64</th><th>float64</th><th>float64</th><th>float64</th><th>float64</th><th>float64</th><th>float64</th><th>float64</th><th>float64</th><th>float64</th><th>float64</th><th>float64</th><th>float64</th><th>float64</th><th>float64</th><th>float64</th><th>float64</th><th>float64</th><th>float64</th><th>float64</th><th>float64</th><th>float64</th><th>float64</th><th>float64</th><th>float64</th><th>float64</th><th>float64</th><th>float64</th><th>float64</th><th>float64</th><th>float64</th><th>float64</th><th>float64</th><th>float64</th><th>float64</th><th>float64</th><th>float64</th><th>float64</th><th>float64</th><th>float64</th><th>float64</th><th>float64</th><th>float64</th><th>float64</th><th>float64</th><th>float64</th><th>float64</th><th>float64</th><th>float64</th><th>float64</th><th>float64</th><th>float64</th><th>float64</th><th>float64</th><th>float64</th><th>float64</th><th>float64</th><th>float64</th><th>float64</th><th>float64</th><th>float64</th><th>float64</th><th>float64</th><th>float64</th><th>float64</th><th>float64</th><th>float64</th><th>float64</th><th>float64</th><th>float64</th><th>float64</th><th>float64</th><th>float64</th><th>float64</th><th>float64</th><th>float64</th><th>float64</th><th>float64</th><th>float64</th><th>float64</th><th>float64</th><th>float64</th><th>float64</th><th>float64</th><th>float64</th><th>float64</th><th>float64</th><th>float64</th><th>float64</th><th>float64</th><th>float64</th><th>float64</th><th>float64</th><th>float64</th><th>float64</th><th>float64</th><th>float64</th><th>float64</th><th>float64</th><th>float64</th><th>float64</th><th>float64</th><th>float64</th><th>float64</th><th>float64</th><th>float64</th><th>float64</th><th>float64</th><th>float64</th><th>float64</th><th>float64</th><th>float64</th><th>float64</th><th>float64</th><th>float64</th><th>float64</th><th>float64</th><th>float64</th><th>float64</th><th>float64</th><th>float64</th><th>float64</th><th>float64</th><th>float64</th><th>float64</th><th>float64</th><th>float64</th><th>float64</th><th>float64</th><th>float64</th><th>float64</th><th>float64</th><th>float64</th><th>float64</th><th>float64</th><th>float64</th><th>float64</th><th>float64</th><th>float64</th><th>float64</th><th>float64</th><th>float64</th><th>float64</th><th>float64</th><th>float64</th><th>float64</th><th>float64</th><th>float64</th><th>float64</th><th>float64</th><th>float64</th><th>float64</th><th>float64</th><th>float64</th><th>float64</th><th>float64</th><th>float64</th><th>float64</th><th>float64</th><th>float64</th><th>float64</th><th>float64</th><th>float64</th><th>float64</th><th>float64</th><th>float64</th><th>float64</th><th>float64</th><th>float64</th><th>float64</th><th>float64</th><th>float64</th><th>float64</th><th>float64</th><th>float64</th><th>float64</th><th>float64</th><th>float64</th><th>float64</th><th>float64</th><th>float64</th><th>float64</th><th>float64</th><th>float64</th><th>float64</th><th>float64</th><th>float64</th><th>float64</th><th>float64</th><th>float64</th><th>float64</th><th>float64</th><th>float64</th><th>float64</th><th>float64</th><th>float64</th><th>float64</th><th>float64</th><th>float64</th><th>float64</th><th>float64</th><th>float64</th><th>float64</th></tr></thead>\n",
       "<tr><td>PTF09awk</td><td>0.0</td><td>0.0</td><td>0.15525285735970942</td><td>0.07344483209861097</td><td>0.35527324399786797</td><td>0.19905668921159908</td><td>0.15525285735970942</td><td>0.07344483209861097</td><td>0.35527324399786797</td><td>0.19905668921159908</td><td>0.489101151228643</td><td>0.2496084619102715</td><td>2.2178948406500316</td><td>0.8046869018313335</td><td>0.801011871195108</td><td>0.4002704019267239</td><td>0.6110017780338374</td><td>0.32332557628650077</td><td>-0.23243762204912363</td><td>0.13822660213249785</td><td>1.5239343485884598</td><td>1.0895883549033463</td><td>217.49999999999997</td><td>2.8421709430403966e-14</td><td>35.0</td><td>0.0</td><td>1.7257972610659802</td><td>0.5578262284041068</td><td>0.0</td><td>0.0</td><td>0.0</td><td>0.0</td><td>299.9999999999997</td><td>2.842170943040399e-13</td><td>-2.0000000000000004</td><td>4.4408920985006198e-16</td><td>99.99999999999996</td><td>4.2632564145606005e-14</td><td>0.019999999999999993</td><td>6.938893903907218e-18</td><td>4298.069914290293</td><td>3498.147534607452</td><td>19.999999999999982</td><td>1.7763568394002495e-14</td><td>4298.069914290293</td><td>3498.147534607452</td><td>0.0</td><td>0.0</td><td>49.99999999999998</td><td>2.1316282072803002e-14</td><td>4385.552483678623</td><td>2730.8452870788565</td><td>1744.3397039310255</td><td>1504.4944065295745</td><td>1.0000000000000002</td><td>2.2204460492503099e-16</td><td>0.005200836528348361</td><td>0.0043769213486500175</td><td>9.999999999999991</td><td>8.881784197001248e-15</td><td>12956.614734063258</td><td>3.6379788070917077e-12</td><td>8.572424603754508e+24</td><td>2147483647.999997</td><td>0.05999999999999998</td><td>2.0816681711721682e-17</td><td>8.345053737183914e+33</td><td>1.1365114973131465e+34</td><td>7.332621122804315e+35</td><td>6.970694982638789e+35</td><td>2.858598733709428e+36</td><td>2.292005876861328e+36</td><td>2.9208186094877456e+36</td><td>2.593072085567342e+36</td><td>6.521024509214789e+36</td><td>5.462390990285776e+36</td><td>3333339471.163341</td><td>1928690236.4468179</td><td>1.6352145419116522</td><td>1.3694340463888177</td><td>1.5747545704852068</td><td>1.2159914728134622</td><td>1.630082102129018</td><td>1.3557998682571621</td><td>9.61137613767884e+36</td><td>5.732724149189175e+36</td><td>1.1894966870434763e+36</td><td>1.0233906538027886e+36</td><td>1.347122324694324e+34</td><td>1.4262404056552927e+34</td><td>1.1760254637965333e+36</td><td>1.0138555406785987e+36</td><td>5.288384176621484e+36</td><td>2.2330961536177525e+36</td><td>4.3229919610573574e+36</td><td>3.604538725707949e+36</td><td>1405563342.1234367</td><td>979110189.6437726</td><td>1404754360.9024403</td><td>979543134.541553</td><td>808981.2209945421</td><td>667316.3820349996</td><td>1927776133.6431305</td><td>952007021.81082</td><td>1912284289.2396097</td><td>960297420.8187879</td><td>15491844.403522247</td><td>12892826.597674973</td><td>3.354937472040949e+53</td><td>2.873161366386029e+53</td><td>4.600492106869013e+51</td><td>5.269173538548734e+51</td><td>3.30893255097226e+53</td><td>2.8356238424706154e+53</td><td>0.4586229649060856</td><td>0.03462436008976245</td><td>0.42406867198958154</td><td>0.019207694400464003</td><td>0.41203769641704596</td><td>0.04014853271846288</td><td>0.2008329227066289</td><td>0.0073270525395943056</td><td>0.33704823882387935</td><td>0.013048117483432221</td><td>0.29543799049687325</td><td>0.00731350564326801</td><td>0.08185843729575601</td><td>0.005310556313748924</td><td>0.3778742639827063</td><td>0.013604944376458771</td><td>0.20834242718599266</td><td>0.007233154021554867</td><td>0.29948657622855307</td><td>0.007753122330951607</td><td>0.3843921312633179</td><td>0.012769726318936091</td><td>0.026984682074495694</td><td>0.004964635631910537</td><td>0.03753150972963372</td><td>0.003882055573126491</td><td>0.21132195715240967</td><td>0.007157110826588609</td><td>0.35284027560225967</td><td>0.012846237411342352</td><td>0.2719929078324155</td><td>0.009332579880027976</td><td>0.41104923313420155</td><td>0.010598945731838137</td><td>0.36512206317864854</td><td>0.01480085034291752</td><td>0.20364600134290264</td><td>0.00727572155441673</td><td>0.3467550160546849</td><td>0.011905283891647259</td><td>0.2790728593869925</td><td>0.007920373718659985</td><td>0.0756975202068894</td><td>0.005321150304232172</td><td>0.4133380921771044</td><td>0.012367296139062919</td><td>0.2811395449940655</td><td>0.08213514464735032</td><td>0.20374771424265958</td><td>0.08475297279658124</td><td>3.3665298270287645</td><td>0.24046641621634032</td><td>0.0</td><td>0.1</td><td>0.2</td><td>0.1</td><td>0.2</td><td>0.5</td><td>1.5052941305284075</td><td>0.4967406807957659</td><td>0.37115205823795416</td><td>-0.2</td><td>3.0</td><td>217.5</td><td>35.0</td><td>1.0</td><td>0.0</td><td>0.0</td><td>300.0</td><td>-2.0</td><td>100.0</td><td>0.02</td><td>4000.0</td><td>20.0</td><td>4000.0</td><td>0.0</td><td>50.0</td><td>2000.0</td><td>1746.6060423732974</td><td>1.0</td><td>0.004</td><td>10.0</td><td>12935.446202749758</td><td>8.810896902740423e+24</td><td>0.0616</td><td>2.885752867559584e+33</td><td>2.830932660778481e+35</td><td>1.2692386089658158e+36</td><td>1.1937709638551796e+36</td><td>2.748988591766403e+36</td><td>3285182521.4928083</td><td>0.7487665359349219</td><td>0.7580281768219082</td><td>0.7496086853939536</td><td>5.723840827249109e+36</td><td>5.455868993759475e+35</td><td>7.097111276378592e+33</td><td>5.384897880995689e+35</td><td>3.748956843009006e+36</td><td>1.974883984240103e+36</td><td>1384757276.0174282</td><td>1384389097.372502</td><td>368178.6449262966</td><td>1900425250.4829748</td><td>1893297337.2663682</td><td>7127913.216606612</td><td>1.5214406353608068e+53</td><td>2.120171888752135e+51</td><td>1.5002389164732855e+53</td><td>0.03195310376584938</td><td>0.03705245981784381</td><td>0.07429081437222863</td><td>0.20315518479697064</td><td>0.2814756520626312</td><td>0.3482719142819367</td><td>0.41293383936648426</td><td>0.21137340212858752</td><td>0.27573711708582366</td><td>0.3514315987861132</td><td>0.36926253878960774</td><td>0.4080105263368872</td><td>0.42598960837115374</td><td>0.4623411599694911</td><td>0.40152433445889263</td><td>0.21647403365151935</td><td>0.1359325046249354</td><td>0.08051137304799752</td><td>0.20014500465296786</td><td>0.29626689279610363</td><td>0.34157495329355586</td><td>0.38102102660816034</td><td>0.208127500497476</td><td>0.29991444122059097</td><td>0.3865985813403356</td></tr>\n",
       "<tr><td>PTF10ad</td><td>0.0</td><td>0.0</td><td>0.17196508981931355</td><td>0.08193504560001283</td><td>0.4253243441441009</td><td>0.274040741553157</td><td>0.17196508981931355</td><td>0.08193504560001283</td><td>0.4253243441441009</td><td>0.274040741553157</td><td>0.47958898994610333</td><td>0.2569595201814007</td><td>2.539141324040935</td><td>0.9130960276686569</td><td>0.9334228343852234</td><td>0.47654429258223746</td><td>0.7136646754121545</td><td>0.3903223254788548</td><td>-0.2172047572904136</td><td>0.12906624764526692</td><td>1.1462229530192047</td><td>1.076787403334552</td><td>217.4999999999999</td><td>1.1368683772161594e-13</td><td>34.99999999999998</td><td>2.1316282072803012e-14</td><td>1.77100264734771</td><td>0.5523222418561571</td><td>0.0</td><td>0.0</td><td>0.0</td><td>0.0</td><td>299.9999999999997</td><td>2.842170943040397e-13</td><td>-1.9999999999999991</td><td>7.021666937153403e-16</td><td>100.00000000000007</td><td>7.105427357600993e-14</td><td>0.019999999999999976</td><td>2.4286128663675284e-17</td><td>3522.372289353868</td><td>3139.0951840116545</td><td>19.999999999999975</td><td>2.486899575160349e-14</td><td>3522.372289353868</td><td>3139.0951840116545</td><td>0.0</td><td>0.0</td><td>50.000000000000036</td><td>3.5527136788004965e-14</td><td>4305.383708952616</td><td>2741.1407644445317</td><td>1395.6805326622102</td><td>1314.9262419377917</td><td>0.9999999999999996</td><td>3.5108334685767017e-16</td><td>0.023720631458274504</td><td>0.018117157617572068</td><td>9.999999999999988</td><td>1.2434497875801745e-14</td><td>12567.674340321497</td><td>1.455191522836684e-11</td><td>1.3126251563822028e+25</td><td>10737418239.999987</td><td>0.08999999999999989</td><td>1.1102230246251557e-16</td><td>1.9798491620204732e+33</td><td>3.407633864047156e+33</td><td>2.5702144738162767e+35</td><td>2.7058810378792393e+35</td><td>9.403132645406295e+35</td><td>8.16385187060972e+35</td><td>1.2496699872977324e+36</td><td>1.0585208643279239e+36</td><td>2.4489845483820108e+36</td><td>2.097733023580169e+36</td><td>1020043116.2552406</td><td>611866117.3727913</td><td>0.6768032260249497</td><td>0.5454956914425277</td><td>0.6397665962668272</td><td>0.46221853178641203</td><td>0.673643337394846</td><td>0.5381126075129794</td><td>3.4299498341623695e+36</td><td>2.172833415000606e+36</td><td>3.873085157214949e+35</td><td>3.8666866636052e+35</td><td>2.9852851890167194e+33</td><td>4.182271321911965e+33</td><td>3.843232305324784e+35</td><td>3.8375773582887085e+35</td><td>1.7013732900963337e+36</td><td>7.959014290923493e+35</td><td>1.7285765440660355e+36</td><td>1.4117264899629887e+36</td><td>408807020.6679912</td><td>293123803.1172532</td><td>408420870.1409549</td><td>293313061.4370187</td><td>386150.527036678</td><td>272411.12890619464</td><td>611236095.9790381</td><td>319325922.5951146</td><td>604885812.7403364</td><td>322913577.8057057</td><td>6350283.23870214</td><td>5114548.699108231</td><td>1.1298964014924655e+53</td><td>1.0906863923664452e+53</td><td>1.0263384769663009e+51</td><td>1.5797707138235295e+51</td><td>1.119633016722803e+53</td><td>1.0792365691961654e+53</td><td>0.08081493326548157</td><td>0.012963652814168681</td><td>0.07113555243834654</td><td>0.008832141735173452</td><td>0.08349164007111765</td><td>0.01497078019092887</td><td>0.02463994177078998</td><td>0.0012250983765470997</td><td>0.046900362462184736</td><td>0.0018119269752048513</td><td>0.036479375741667236</td><td>0.001032658697168454</td><td>0.010355915638108134</td><td>0.0010495286944815826</td><td>0.052203456229386186</td><td>0.0025839577242669095</td><td>0.02576661415480998</td><td>0.001218797654918379</td><td>0.03727202125759775</td><td>0.0009973834624661573</td><td>0.05370629736888489</td><td>0.0026867646869549724</td><td>0.003176819096909699</td><td>0.0009178620270260503</td><td>0.005046159317846379</td><td>0.0008857717485275673</td><td>0.026318878547515107</td><td>0.0012184397465581328</td><td>0.04596566766205306</td><td>0.0018041004177957092</td><td>0.03476263961506947</td><td>0.0010711192492148928</td><td>0.057169071163424526</td><td>0.0031046915080541145</td><td>0.05027542276989808</td><td>0.0023799048260708102</td><td>0.02497971443695616</td><td>0.001216431839641209</td><td>0.04659348835839541</td><td>0.0017326719017467522</td><td>0.03502789111009081</td><td>0.0010989501250927708</td><td>0.009711653887667685</td><td>0.0010476847161804996</td><td>0.063506456653906</td><td>0.005373815449227823</td><td>0.052841769652039336</td><td>0.006366876894889993</td><td>0.03888169289969698</td><td>0.006069516139339906</td><td>2.0507128009670743</td><td>0.17089273341392286</td><td>0.0</td><td>0.3</td><td>1.0</td><td>0.3</td><td>1.0</td><td>0.3</td><td>4.02307827246133</td><td>1.8890773007168544</td><td>1.5205168638741329</td><td>-0.13</td><td>0.0</td><td>217.5</td><td>35.0</td><td>1.0</td><td>0.0</td><td>0.0</td><td>300.0</td><td>-2.0</td><td>100.0</td><td>0.02</td><td>250.0</td><td>20.0</td><td>250.0</td><td>0.0</td><td>50.0</td><td>250.0</td><td>93.41048862399406</td><td>1.0</td><td>0.004</td><td>10.0</td><td>12567.674340321511</td><td>1.3126251563822038e+25</td><td>0.09</td><td>7.488861901900709e+33</td><td>9.293928478677093e+35</td><td>3.0015500512969784e+36</td><td>3.5510097649138263e+36</td><td>7.489441525980414e+36</td><td>336707542.97201276</td><td>1.8803020401699386</td><td>1.8178384636613465</td><td>1.8797256970366027</td><td>8.755681236199221e+36</td><td>1.3606360526317762e+36</td><td>9.099714815340092e+33</td><td>1.3515363378164363e+36</td><td>3.801395624339792e+36</td><td>4.95428561185943e+36</td><td>84623332.55959915</td><td>83700838.390308</td><td>922494.1692911517</td><td>252084222.96461955</td><td>234209447.61133876</td><td>17874775.353280783</td><td>3.800543821031097e+53</td><td>3.526400156335624e+51</td><td>3.765279819467741e+53</td><td>0.0029256992192222557</td><td>0.005527787625686793</td><td>0.009793063229432047</td><td>0.024636258857743315</td><td>0.03466836409302063</td><td>0.04721834543768186</td><td>0.06410229883938462</td><td>0.025759529554063115</td><td>0.034375617347114265</td><td>0.04652484377245194</td><td>0.05135361941688537</td><td>0.05879971615727477</td><td>0.07092097563240676</td><td>0.07955907943362008</td><td>0.08356554869613626</td><td>0.05388084939291624</td><td>0.03995360312293731</td><td>0.01034172941766573</td><td>0.02430529261238768</td><td>0.03611510489883687</td><td>0.04749761369914977</td><td>0.05356623341591183</td><td>0.02523890247418913</td><td>0.03690056360361148</td><td>0.05512108450183252</td></tr>\n",
       "<tr><td>PTF10acsq</td><td>0.0</td><td>0.0</td><td>0.5944807724264195</td><td>0.28078724297944985</td><td>1.3089597225654164</td><td>0.8129846296506559</td><td>0.5944807724264195</td><td>0.28078724297944985</td><td>1.3089597225654164</td><td>0.8129846296506559</td><td>0.5460387492154138</td><td>0.27312496346441084</td><td>7.2179319328887015</td><td>3.272786860786025</td><td>2.666192434160749</td><td>1.2842129708083538</td><td>2.039553909404857</td><td>1.0071595797868478</td><td>-0.2684303826926435</td><td>0.15771908770457163</td><td>1.496304992621062</td><td>1.1180410988751652</td><td>217.50000000000014</td><td>1.421085471520202e-13</td><td>35.00000000000004</td><td>4.2632564145605954e-14</td><td>1.750000000000001</td><td>0.5590169943749475</td><td>0.0</td><td>0.0</td><td>0.0</td><td>0.0</td><td>299.9999999999998</td><td>2.273736754432321e-13</td><td>-2.0</td><td>0.0</td><td>99.99999999999991</td><td>8.526512829121191e-14</td><td>0.01999999999999999</td><td>1.0408340855860829e-17</td><td>3362.865141242649</td><td>2940.711323789887</td><td>20.00000000000001</td><td>1.0658141036401489e-14</td><td>3362.865141242649</td><td>2940.711323789887</td><td>0.0</td><td>0.0</td><td>49.99999999999996</td><td>4.2632564145605954e-14</td><td>2791.50333148383</td><td>2716.591595485933</td><td>2026.7952421566488</td><td>2234.5975267051754</td><td>1.0</td><td>0.0</td><td>0.020073247690270017</td><td>0.019639007184088147</td><td>10.000000000000005</td><td>5.329070518200744e-15</td><td>11607.908309243729</td><td>3.637978807091714e-12</td><td>2.608644853052587e+25</td><td>12884901887.999983</td><td>0.17000000000000012</td><td>1.1102230246251568e-16</td><td>9.327193932696038e+33</td><td>2.6652826593194903e+34</td><td>6.842766688966633e+35</td><td>1.168936430822505e+36</td><td>3.0905012239865476e+36</td><td>3.781241958597051e+36</td><td>3.0604691708532834e+36</td><td>4.239051344876785e+36</td><td>6.844574257669191e+36</td><td>8.940232768104955e+36</td><td>2586386981.812929</td><td>2389267995.8649683</td><td>1.568155648578275</td><td>2.2018780655069983</td><td>1.447947916562534</td><td>1.9168348970784983</td><td>1.5578597488119366</td><td>2.1765624203623886</td><td>7.826926735099517e+36</td><td>9.486749071735106e+36</td><td>9.581914518806825e+35</td><td>1.673922871512871e+36</td><td>1.1073072602400108e+34</td><td>2.904906336860636e+34</td><td>9.471183792782825e+35</td><td>1.6485210272638395e+36</td><td>3.7755863120103965e+36</td><td>3.8748338520944144e+36</td><td>4.0513404230891396e+36</td><td>5.778981901394086e+36</td><td>1103333557.4310145</td><td>1172986786.0096107</td><td>1102429157.0296319</td><td>1173443299.8338833</td><td>904400.401380336</td><td>1239341.21667121</td><td>1483053424.1407022</td><td>1227584783.6064615</td><td>1468379227.2951748</td><td>1232696312.415488</td><td>14674196.845527345</td><td>20572062.262657117</td><td>2.7798502970158783e+53</td><td>4.726137857446243e+53</td><td>3.8746934424429295e+51</td><td>1.0816169585807373e+52</td><td>2.7411033625914454e+53</td><td>4.631909112867206e+53</td><td>0.02831424353534871</td><td>0.011930829288330839</td><td>0.020382822525591537</td><td>0.006088743684332211</td><td>0.03745685716982457</td><td>0.02001242266902313</td><td>0.0013906278773434364</td><td>0.00041015153172108295</td><td>0.0070821273323615945</td><td>0.00043728423896994157</td><td>0.00415450856921662</td><td>0.00037640733420463813</td><td>0.0003193747036264865</td><td>0.0002022097610017042</td><td>0.010302482778869505</td><td>0.001415417120146499</td><td>0.0014961432004251562</td><td>0.00042952534661753447</td><td>0.004230929289704522</td><td>0.00037543982016825973</td><td>0.01071322997772856</td><td>0.001563431990720321</td><td>1.9057511991404003e-05</td><td>5.87358593566915e-05</td><td>5.0081724724458726e-05</td><td>8.346179019276855e-05</td><td>0.0015578515417190959</td><td>0.00043814931544839135</td><td>0.006803597963237376</td><td>0.0003880689308331321</td><td>0.0038219656707181656</td><td>0.00040700712477467906</td><td>0.011948868542560692</td><td>0.0020160112092515283</td><td>0.009360186451328313</td><td>0.0011265892101576512</td><td>0.0014236605161013108</td><td>0.0004182934777863096</td><td>0.00715550456851222</td><td>0.00045338820496139886</td><td>0.003908131362038989</td><td>0.000398916469877528</td><td>0.00026553552942937844</td><td>0.00018643236829047455</td><td>0.015575841889893445</td><td>0.0036343277869746128</td><td>0.0263443523468427</td><td>0.01781008943685534</td><td>0.0240314650676004</td><td>0.019501479625447442</td><td>2.766491888073769</td><td>0.6916229720184423</td><td>0.0</td><td>0.75</td><td>1.5</td><td>0.75</td><td>1.5</td><td>0.5</td><td>9.341448981593723</td><td>3.841408622137566</td><td>3.0005448837274002</td><td>-0.2</td><td>0.0</td><td>217.5</td><td>35.0</td><td>1.0</td><td>0.0</td><td>0.0</td><td>300.0</td><td>-2.0</td><td>100.0</td><td>0.02</td><td>250.0</td><td>20.0</td><td>250.0</td><td>0.0</td><td>50.0</td><td>250.0</td><td>94.04056840606363</td><td>1.0</td><td>0.05</td><td>10.0</td><td>11562.689926113118</td><td>2.6764252571011175e+25</td><td>0.174</td><td>2.261005576306792e+33</td><td>1.1619021026534398e+36</td><td>4.855567239275226e+36</td><td>9.446441623679234e+36</td><td>1.5466171971184206e+37</td><td>803955675.6929206</td><td>4.4895920176556645</td><td>4.340447907562663</td><td>4.488215884738944</td><td>1.6970057464844234e+37</td><td>1.4698098023961373e+36</td><td>2.5095762003762482e+33</td><td>1.4673002261957613e+36</td><td>5.822120815812354e+36</td><td>1.114793664903188e+37</td><td>213696713.90168738</td><td>210235302.78689104</td><td>3461411.114796386</td><td>590258968.7485405</td><td>548838214.0586401</td><td>41420754.689900406</td><td>4.658620002223716e+53</td><td>9.384689379396411e+50</td><td>4.649235312844319e+53</td><td>4.27732334396465e-06</td><td>5.0260623250583734e-05</td><td>0.0003135017042660991</td><td>0.0015463937338135263</td><td>0.0037281351922689313</td><td>0.0066137124237539875</td><td>0.020335235480875395</td><td>0.001682947864885171</td><td>0.003656662355669687</td><td>0.006304048665550275</td><td>0.009195026176635578</td><td>0.013118030609856567</td><td>0.029755770196033936</td><td>0.048884889522569565</td><td>0.07736483661474099</td><td>0.05456610497634421</td><td>0.04261916150740446</td><td>0.00037190590279173943</td><td>0.0015096211449856657</td><td>0.003933418368042113</td><td>0.006544388293597336</td><td>0.01059994547619342</td><td>0.0016203861085421945</td><td>0.00400138049796805</td><td>0.01122977407848252</td></tr>\n",
       "<tr><td>PTF11kaa</td><td>0.0</td><td>0.0</td><td>0.09794172405725521</td><td>0.08291503877439192</td><td>0.22289294978109833</td><td>0.1870242958120027</td><td>0.09794172405725521</td><td>0.08291503877439192</td><td>0.22289294978109833</td><td>0.1870242958120027</td><td>0.506760105660141</td><td>0.2606813498326977</td><td>1.4550356014745152</td><td>1.1003536553094029</td><td>0.47606069093191034</td><td>0.37738101105827854</td><td>0.3572375935846306</td><td>0.2877097967587846</td><td>-0.29505419640466</td><td>0.1648971457817449</td><td>1.4954043001242938</td><td>1.1180597324206236</td><td>217.4999999999997</td><td>3.126388037344437e-13</td><td>34.99999999999993</td><td>7.105427357600997e-14</td><td>1.5416036580713355</td><td>0.5272698375424311</td><td>0.0</td><td>0.0</td><td>0.0</td><td>0.0</td><td>299.9999999999994</td><td>6.252776074688874e-13</td><td>-1.9999999999999993</td><td>9.155133597044451e-16</td><td>99.99999999999976</td><td>2.415845301584345e-13</td><td>0.019999999999999997</td><td>3.4694469519536046e-18</td><td>3874.454195336489</td><td>3622.035881251081</td><td>19.99999999999998</td><td>2.131628207280302e-14</td><td>3874.454195336489</td><td>3622.035881251081</td><td>0.0</td><td>0.0</td><td>49.99999999999988</td><td>1.2079226507921726e-13</td><td>3622.3438036873476</td><td>2818.677910970182</td><td>1779.111188103626</td><td>1904.5928507011204</td><td>0.9999999999999997</td><td>4.577566798522226e-16</td><td>0.005713867593799819</td><td>0.008127129640175623</td><td>9.99999999999999</td><td>1.065814103640151e-14</td><td>13225.381462244126</td><td>7.275957614183406e-12</td><td>5.634147239142466e+24</td><td>0.0</td><td>0.039999999999999994</td><td>6.938893903907209e-18</td><td>1.3270280351701675e+33</td><td>1.9496437356557656e+33</td><td>8.675471330195987e+34</td><td>9.196720616204635e+34</td><td>3.200334974111042e+35</td><td>3.188767251536138e+35</td><td>3.2869032066863448e+35</td><td>3.325229138281887e+35</td><td>7.368055594168686e+35</td><td>7.166598670787792e+35</td><td>554039822.1447179</td><td>461898630.0165301</td><td>0.2189430603343888</td><td>0.17108423744798051</td><td>0.21281341858031372</td><td>0.15365673085645729</td><td>0.2184243413521822</td><td>0.16950602682622234</td><td>1.3360472830855994e+36</td><td>7.132689474187193e+35</td><td>1.6523556374742426e+35</td><td>1.392234437146116e+35</td><td>2.5420424621483017e+33</td><td>2.6300279996197123e+33</td><td>1.6269352128527593e+35</td><td>1.37198394287956e+35</td><td>7.555710756787097e+35</td><td>2.905603553384084e+35</td><td>5.8047620740688985e+35</td><td>4.5266850880868155e+35</td><td>240565467.40124503</td><td>236291305.4435266</td><td>240455948.66219726</td><td>236343094.60558543</td><td>109518.73904762429</td><td>85018.00386236749</td><td>313474354.7521212</td><td>226213149.64339232</td><td>311399630.0689982</td><td>227210112.7432457</td><td>2074724.6831229934</td><td>1611272.1036647272</td><td>4.6896905093303196e+52</td><td>3.912429881235987e+52</td><td>8.715550467433424e+50</td><td>9.759799105512222e+50</td><td>4.6025350046559835e+52</td><td>3.8348189253379983e+52</td><td>0.16292666904862177</td><td>0.033779248206077264</td><td>0.16030922655450652</td><td>0.022729143437345334</td><td>0.13537708100964888</td><td>0.029646251985841893</td><td>0.10143362667022277</td><td>0.009936175194491883</td><td>0.14277379945672328</td><td>0.01311355826923816</td><td>0.13449937185710312</td><td>0.00476398203308914</td><td>0.048989027501416246</td><td>0.01117996537051044</td><td>0.15479508186916208</td><td>0.016625736204976583</td><td>0.10394607564991769</td><td>0.009820734288144162</td><td>0.13625923565212</td><td>0.004957060251337788</td><td>0.1591987462698235</td><td>0.01546848937053237</td><td>0.024122525128684062</td><td>0.01716950279264953</td><td>0.02808925197198831</td><td>0.015001180089927037</td><td>0.10483108295176996</td><td>0.009504396737461517</td><td>0.14222291945637308</td><td>0.01225930757428079</td><td>0.1313125068408686</td><td>0.004339439186971872</td><td>0.16759872183598293</td><td>0.014826575082741449</td><td>0.14963099172475566</td><td>0.01706732408961485</td><td>0.10232797887037515</td><td>0.009881066798954811</td><td>0.14423750969831337</td><td>0.012657064668186033</td><td>0.1329483204144299</td><td>0.004511200556503919</td><td>0.044808629541679634</td><td>0.011599525496433593</td><td>0.16122205075370427</td><td>0.018540675044236413</td><td>0.08163874300342089</td><td>0.013720220792771291</td><td>0.057572317354312945</td><td>0.011787231840789543</td><td>1.5269120163259666</td><td>0.25448533605432777</td><td>0.0</td><td>0.15</td><td>0.3</td><td>0.15</td><td>0.3</td><td>0.5</td><td>2.411575290204273</td><td>0.6461647660418545</td><td>0.45821483735222146</td><td>-0.5</td><td>0.0</td><td>217.5</td><td>35.0</td><td>1.0</td><td>0.0</td><td>0.0</td><td>300.0</td><td>-2.0</td><td>100.0</td><td>0.02</td><td>2000.0</td><td>20.0</td><td>2000.0</td><td>0.0</td><td>50.0</td><td>8000.0</td><td>655.6701989958711</td><td>1.0</td><td>0.004</td><td>10.0</td><td>13241.755742584737</td><td>5.460382687459294e+24</td><td>0.0388</td><td>8.879291284696637e+32</td><td>1.0195436910149796e+35</td><td>3.952623951690123e+35</td><td>4.263165171895963e+35</td><td>9.244212105885763e+35</td><td>268731611.4777449</td><td>0.2468322490631084</td><td>0.24220280382503692</td><td>0.24641505670734304</td><td>1.4428055500118274e+36</td><td>1.788351140451138e+35</td><td>1.52256577956678e+33</td><td>1.77312548265547e+35</td><td>7.931230127689488e+35</td><td>6.496825372428787e+35</td><td>97485288.89838597</td><td>97364440.74268867</td><td>120848.15569731529</td><td>171246324.2242073</td><td>168903020.16798267</td><td>2343304.0562246446</td><td>4.992314081362559e+52</td><td>5.266568527761728e+50</td><td>4.939648396084943e+52</td><td>0.010928679704058964</td><td>0.020701437716457105</td><td>0.03982592427838664</td><td>0.1021481902884221</td><td>0.13598897365256815</td><td>0.14679417872671183</td><td>0.16918341371622495</td><td>0.10505752860108374</td><td>0.1342623940982139</td><td>0.14450997333851578</td><td>0.15381549010289572</td><td>0.17583326605471747</td><td>0.17022854415789218</td><td>0.17475755385946656</td><td>0.145894918243602</td><td>0.08251809072980493</td><td>0.0555175890437471</td><td>0.04437658552753321</td><td>0.10107702732229473</td><td>0.13746534219624287</td><td>0.14519190546858418</td><td>0.1600952926069154</td><td>0.10399488235389705</td><td>0.13936501323778022</td><td>0.16549442325960564</td></tr>\n",
       "<tr><td>iPTF13aqj</td><td>0.0</td><td>0.0</td><td>0.14912519284043246</td><td>0.06655502999227245</td><td>0.32788701083212723</td><td>0.19301979487624535</td><td>0.14912519284043246</td><td>0.06655502999227245</td><td>0.32788701083212723</td><td>0.19301979487624535</td><td>0.5216600392566381</td><td>0.27253764739195635</td><td>2.0761968078534174</td><td>0.6738121870995252</td><td>0.7798988720760625</td><td>0.3596853994988455</td><td>0.6010259068700454</td><td>0.2989331557178654</td><td>-0.19295998933432493</td><td>0.10397893672943621</td><td>1.2500323378836706</td><td>1.0722058425972703</td><td>217.49999999999994</td><td>8.987733679556353e-14</td><td>34.999999999999986</td><td>1.4210854715201996e-14</td><td>1.829365653763573</td><td>0.5472988575533636</td><td>0.0</td><td>0.0</td><td>0.0</td><td>0.0</td><td>299.9999999999999</td><td>1.1368683772161597e-13</td><td>-1.999999999999998</td><td>1.9984014443252814e-15</td><td>99.99999999999997</td><td>2.8421709430403992e-14</td><td>0.02</td><td>0.0</td><td>3338.6690278760257</td><td>2593.8280119169394</td><td>19.999999999999986</td><td>1.4210854715201996e-14</td><td>3338.6690278760257</td><td>2593.8280119169394</td><td>0.0</td><td>0.0</td><td>49.999999999999986</td><td>1.4210854715201996e-14</td><td>4547.587327400773</td><td>2657.1951170097354</td><td>1273.1258547542716</td><td>1061.8981330896188</td><td>0.999999999999999</td><td>9.992007221626407e-16</td><td>0.005226406207448392</td><td>0.004937246059969915</td><td>9.999999999999993</td><td>7.105427357600998e-15</td><td>13090.028569987977</td><td>1.8189894035458555e-12</td><td>7.093375016731579e+24</td><td>3221225471.999999</td><td>0.049999999999999996</td><td>6.9388939039072245e-18</td><td>3.0429148251422373e+34</td><td>5.434637298970908e+34</td><td>2.1456369916187233e+36</td><td>2.4387065078568825e+36</td><td>8.011204956325542e+36</td><td>7.224386132020025e+36</td><td>8.063734641513606e+36</td><td>7.43335199887454e+36</td><td>1.8251005737709304e+37</td><td>1.6805881816158264e+37</td><td>7237322913.144379</td><td>3874899825.8414083</td><td>4.631575786865903</td><td>4.046621435727512</td><td>4.452392823544794</td><td>3.5051677972583866</td><td>4.616331941861209</td><td>3.9988250439755997</td><td>2.6858098155943505e+37</td><td>1.7739920534631291e+37</td><td>3.538477497710784e+36</td><td>3.568572105213166e+36</td><td>4.679570193186803e+34</td><td>6.842372157237771e+34</td><td>3.491681795778916e+36</td><td>3.508127420902689e+36</td><td>1.4534937386458702e+37</td><td>7.138356743176632e+36</td><td>1.2323160769484793e+37</td><td>1.0854984231199665e+37</td><td>2934066569.0590167</td><td>1952634097.105646</td><td>2931796989.7789707</td><td>1953594449.4302874</td><td>2269579.2800461883</td><td>1889472.8580920957</td><td>4303256349.704455</td><td>1929331299.4792056</td><td>4259362603.9467983</td><td>1946382513.3233104</td><td>43893745.757658236</td><td>38107792.65314112</td><td>9.984112663397466e+53</td><td>9.999745804362107e+53</td><td>1.6461495739053894e+52</td><td>2.543225550091979e+52</td><td>9.819497706006925e+53</td><td>9.7723878529873e+53</td><td>1.8788092073686267</td><td>0.17912332709419512</td><td>1.7874761832580226</td><td>0.09440921183468473</td><td>1.6509780447071063</td><td>0.17773941521758996</td><td>0.9542877838436141</td><td>0.029958217098603652</td><td>1.4616002739104068</td><td>0.06035633779611293</td><td>1.3316526224086134</td><td>0.03589684848477589</td><td>0.4163058729154534</td><td>0.023094752005408146</td><td>1.6271797592016688</td><td>0.056075450667152006</td><td>0.9837643342794544</td><td>0.028879155251407464</td><td>1.3367385512314012</td><td>0.03659370445042038</td><td>1.6534224777417716</td><td>0.05343174730662809</td><td>0.15659442241249377</td><td>0.020029746397385355</td><td>0.2102538962098237</td><td>0.02052600088934498</td><td>0.9939077830136978</td><td>0.02844949067200328</td><td>1.4961096322676781</td><td>0.05463523556310932</td><td>1.2614357940591505</td><td>0.03287364465329304</td><td>1.775109195892787</td><td>0.04822886388749587</td><td>1.5667322576709104</td><td>0.06309933598483307</td><td>0.9648418687181239</td><td>0.029405599081643027</td><td>1.4942879946378775</td><td>0.056206398663474016</td><td>1.2941708197553916</td><td>0.032469656002492825</td><td>0.38399437821120413</td><td>0.022980211721745428</td><td>1.7549822401742114</td><td>0.05920114776533227</td><td>1.1418461468126127</td><td>0.14281173970467545</td><td>0.8493793513835631</td><td>0.17101071355471936</td><td>3.4171050334344177</td><td>0.2278070022289612</td><td>0.0</td><td>0.2</td><td>0.2</td><td>0.2</td><td>0.2</td><td>1.0</td><td>2.106764793593109</td><td>0.9142496901092405</td><td>0.7134689930221694</td><td>-0.13</td><td>0.0</td><td>217.5</td><td>35.0</td><td>2.0</td><td>0.0</td><td>0.0</td><td>300.0</td><td>-2.0</td><td>100.0</td><td>0.02</td><td>8000.0</td><td>20.0</td><td>8000.0</td><td>0.0</td><td>50.0</td><td>8000.0</td><td>2990.340578000026</td><td>1.0</td><td>0.0001</td><td>10.0</td><td>13120.177880654255</td><td>6.764777216848652e+24</td><td>0.04776</td><td>5.251884247736999e+34</td><td>1.5434244130885849e+36</td><td>9.153285777791745e+36</td><td>4.292381810065785e+36</td><td>1.5041610843423489e+37</td><td>16358224768.01309</td><td>2.847010668021681</td><td>2.846934959060827</td><td>2.8470098333774616</td><td>2.346816837643134e+37</td><td>3.0626009236835336e+36</td><td>8.321023846305115e+34</td><td>2.979390685220482e+36</td><td>1.528055686491312e+37</td><td>8.187611511518226e+36</td><td>7514473439.122958</td><td>7513212363.433704</td><td>1261075.6892539444</td><td>8843751298.215883</td><td>8816542306.2456</td><td>27208991.970283065</td><td>8.500630017406748e+53</td><td>2.7973629218055745e+52</td><td>8.22089372522619e+53</td><td>0.1436625031168619</td><td>0.2037974244562628</td><td>0.3747482872750291</td><td>0.9344170347256375</td><td>1.3351351815077133</td><td>1.5812612833900508</td><td>1.7842537352151882</td><td>0.9632197110657484</td><td>1.2901224835804954</td><td>1.5702681975876882</td><td>1.6527059863276998</td><td>1.8473732607584548</td><td>1.7631988287573441</td><td>1.777991632727713</td><td>1.5022321910709744</td><td>1.1558834999643142</td><td>0.9051498754737278</td><td>0.411797993095887</td><td>0.9247668282160965</td><td>1.3763444444935051</td><td>1.5455379868658752</td><td>1.7100236113799623</td><td>0.9551820548929443</td><td>1.3729998732019713</td><td>1.7409991638875184</td></tr>\n",
       "<tr><td>iPTF15dtg</td><td>0.0</td><td>0.0</td><td>0.014413185659476312</td><td>0.03167772765500041</td><td>0.04167982443547284</td><td>0.08925839493641201</td><td>0.014413185659476312</td><td>0.03167772765500041</td><td>0.04167982443547284</td><td>0.08925839493641201</td><td>0.5531383762280655</td><td>0.28604069934439513</td><td>0.2444772934477417</td><td>0.5241979585453587</td><td>0.07135348788514402</td><td>0.15581576578887457</td><td>0.05283383137574894</td><td>0.11609216227049186</td><td>-0.2824883493742749</td><td>0.16204281848240157</td><td>1.4580338639666464</td><td>1.1185765442364737</td><td>217.49999999999955</td><td>4.547473508864643e-13</td><td>34.99999999999996</td><td>4.2632564145606024e-14</td><td>1.6346518686629343</td><td>0.5682655683964035</td><td>0.0</td><td>0.0</td><td>0.0</td><td>0.0</td><td>300.0000000000002</td><td>2.2737367544323216e-13</td><td>-1.9999999999999976</td><td>2.4424906541753412e-15</td><td>100.00000000000009</td><td>8.526512829121205e-14</td><td>0.019999999999999917</td><td>8.326672684688677e-17</td><td>7497.070936852372</td><td>3586.9928297989195</td><td>19.99999999999998</td><td>2.1316282072803012e-14</td><td>7497.070936852372</td><td>3586.9928297989195</td><td>0.0</td><td>0.0</td><td>50.00000000000004</td><td>4.2632564145606024e-14</td><td>2809.7865929589434</td><td>2014.9690687585733</td><td>3892.867630591224</td><td>1800.9417219730876</td><td>0.9999999999999988</td><td>1.2212453270876706e-15</td><td>0.0008578159928376757</td><td>0.0017335292945333976</td><td>9.99999999999999</td><td>1.0658141036401506e-14</td><td>13090.028569987979</td><td>0.0</td><td>7.093375016731577e+24</td><td>5368709119.999986</td><td>0.05</td><td>0.0</td><td>1.7026477673163166e+32</td><td>4.078311748432021e+32</td><td>1.0306840510635552e+34</td><td>2.3402637612962028e+34</td><td>3.696506282367666e+34</td><td>8.440860379522008e+34</td><td>3.5527026290161026e+34</td><td>8.235685577649317e+34</td><td>8.296919440120488e+34</td><td>1.8813411717292373e+35</td><td>767512327.6497018</td><td>263538297.1829256</td><td>0.0560838677571442</td><td>0.03805341914774803</td><td>0.05719989129927479</td><td>0.03797202490925261</td><td>0.05618212529982887</td><td>0.038039110822113205</td><td>5.81542084410025e+35</td><td>1.7615787308826946e+35</td><td>4.959608196090256e+34</td><td>3.1840073308802086e+34</td><td>1.5739635009477475e+33</td><td>6.059275976937674e+32</td><td>4.802211845995474e+34</td><td>3.141479960013692e+34</td><td>4.298226935867485e+35</td><td>8.117585000400062e+34</td><td>1.5171939082327605e+35</td><td>1.0166204676923452e+35</td><td>361368335.71707416</td><td>137847577.47995973</td><td>361341824.63435155</td><td>137858402.64608115</td><td>26511.08272247135</td><td>18394.36759255296</td><td>406143991.92225444</td><td>125820599.25190438</td><td>405608681.76235265</td><td>126035098.06295349</td><td>535310.1599010166</td><td>362057.7398886781</td><td>1.3921270250418686e+52</td><td>8.965354474012619e+51</td><td>4.711882892661794e+50</td><td>2.2113579310036917e+50</td><td>1.34500819611525e+52</td><td>8.791839914553224e+51</td><td>0.06851507216451552</td><td>0.0063842744444517745</td><td>0.06991564959273687</td><td>0.004719918262203563</td><td>0.05356104621671437</td><td>0.005267947631388628</td><td>0.04669442896975395</td><td>0.0029600732999665452</td><td>0.07005069044913566</td><td>0.004925893185379264</td><td>0.06355598072720298</td><td>0.0034406933689619212</td><td>0.02190369943265816</td><td>0.001881241337268575</td><td>0.07343538146847337</td><td>0.005005262035153041</td><td>0.0478362721210568</td><td>0.0028778003348469586</td><td>0.06384816725305892</td><td>0.003494460226141852</td><td>0.07379532152400048</td><td>0.00491509642603535</td><td>0.01208737050730568</td><td>0.0027740484166475354</td><td>0.012669376063155605</td><td>0.001978350894098391</td><td>0.04830158469160149</td><td>0.0028416085104113996</td><td>0.0708173324087451</td><td>0.0045350530067407345</td><td>0.06107273496176429</td><td>0.0034267921077703843</td><td>0.07576640338066751</td><td>0.0043758589689942414</td><td>0.07251295108711461</td><td>0.005207491701293063</td><td>0.047081129000733954</td><td>0.0029174435483616703</td><td>0.07086709674252857</td><td>0.004740443811055039</td><td>0.06209363026971813</td><td>0.0033673740537624565</td><td>0.020152280572673435</td><td>0.0018170755251988523</td><td>0.07268365306512171</td><td>0.004452550984798751</td><td>0.027952922514706175</td><td>0.0023007995029129557</td><td>0.01739163899221399</td><td>0.0014075353498757604</td><td>10.512835778403652</td><td>1.3141044723004565</td><td>0.0</td><td>0.0</td><td>0.0</td><td>0.0</td><td>0.0</td><td>0.3</td><td>-0.0</td><td>-0.0</td><td>-0.0</td><td>-0.13</td><td>0.0</td><td>217.5</td><td>35.0</td><td>1.0</td><td>0.0</td><td>0.0</td><td>300.0</td><td>-2.0</td><td>100.0</td><td>0.02</td><td>8000.0</td><td>20.0</td><td>8000.0</td><td>0.0</td><td>50.0</td><td>2000.0</td><td>4551.844006747304</td><td>1.0</td><td>0.0004</td><td>10.0</td><td>13057.833690258783</td><td>7.446547695167898e+24</td><td>0.0524</td><td>-0.0</td><td>-0.0</td><td>-0.0</td><td>-0.0</td><td>0.0</td><td>919939238.54092</td><td>0.03711037004774975</td><td>0.037806864714534774</td><td>0.0371730573212641</td><td>4.903134779793491e+35</td><td>3.1310027004846263e+34</td><td>1.390028147882877e+33</td><td>2.991999885696339e+34</td><td>3.924578166645189e+35</td><td>9.785566131483015e+34</td><td>437111861.3838284</td><td>437094076.9439742</td><td>17784.439854176915</td><td>482827377.2907395</td><td>482473431.023733</td><td>353946.2670064282</td><td>8.84257218443438e+51</td><td>3.8360254684134e+50</td><td>8.45896963759304e+51</td><td>0.01101519849090264</td><td>0.011302694781631218</td><td>0.01911499772205119</td><td>0.04630185540664886</td><td>0.06415697517925477</td><td>0.07545018335943432</td><td>0.0773445938153241</td><td>0.047692771305670754</td><td>0.06319625892709511</td><td>0.0753137904046699</td><td>0.07776187283264796</td><td>0.08037573309355113</td><td>0.07423291964008166</td><td>0.07318026688942217</td><td>0.05650904882612458</td><td>0.02882153895722975</td><td>0.017362651237480778</td><td>0.02090852226064853</td><td>0.04587284239167946</td><td>0.06590621529922563</td><td>0.07469114708320965</td><td>0.07848715615267754</td><td>0.04712491816284289</td><td>0.0663744700059509</td><td>0.07877076317253391</td></tr>\n",
       "<tr><td>iPTF16hfb</td><td>0.0</td><td>0.0</td><td>0.1665760084465831</td><td>0.08150895754686165</td><td>0.3563969413081812</td><td>0.22577506742211897</td><td>0.1665760084465831</td><td>0.08150895754686165</td><td>0.3563969413081812</td><td>0.22577506742211897</td><td>0.5410797644630194</td><td>0.278047114814141</td><td>2.387306737764145</td><td>0.9314152147455746</td><td>0.801605839701571</td><td>0.38488767587953454</td><td>0.599881229747198</td><td>0.30218537895092973</td><td>-0.25570454328707765</td><td>0.15208066716367746</td><td>1.4757414654176115</td><td>1.1178703037095574</td><td>217.4999999999999</td><td>1.136868377216161e-13</td><td>34.99999999999997</td><td>3.623071274882354e-14</td><td>1.6471368794097134</td><td>0.5467923158930489</td><td>0.0</td><td>0.0</td><td>0.0</td><td>0.0</td><td>299.99999999999966</td><td>3.410605131648476e-13</td><td>-1.9999999999999991</td><td>8.881784197001258e-16</td><td>99.99999999999994</td><td>5.684341886080805e-14</td><td>0.019999999999999987</td><td>1.3877787807814466e-17</td><td>6385.254027915669</td><td>3841.3137576567615</td><td>19.999999999999996</td><td>3.552713678800503e-15</td><td>6385.254027915669</td><td>3841.3137576567615</td><td>0.0</td><td>0.0</td><td>49.99999999999997</td><td>2.8421709430404026e-14</td><td>4756.943124210855</td><td>2608.329336593208</td><td>2701.097310303218</td><td>1688.7079037568374</td><td>0.9999999999999996</td><td>4.440892098500629e-16</td><td>0.013479580381582635</td><td>0.007335994458199383</td><td>9.999999999999998</td><td>1.7763568394002516e-15</td><td>13362.707882441158</td><td>5.456968210637561e-12</td><td>4.1949679613814497e+24</td><td>6979321855.999983</td><td>0.029999999999999995</td><td>3.4694469519536165e-18</td><td>1.3511467248684238e+34</td><td>1.2219546949830715e+34</td><td>1.6410755240655682e+36</td><td>1.4574898498194116e+36</td><td>7.78633224357728e+36</td><td>5.883837082410255e+36</td><td>8.058361207277188e+36</td><td>6.494497157916507e+36</td><td>1.749928044216872e+37</td><td>1.3494863188682239e+37</td><td>19628147263.053528</td><td>8073611372.030586</td><td>4.470262320553143</td><td>3.287430349291744</td><td>4.450256309386464</td><td>3.1063547081260445</td><td>4.468684980817268</td><td>3.271236454149077</td><td>2.832494051218352e+37</td><td>1.3779978218085303e+37</td><td>2.6130057188624538e+36</td><td>2.0522115996850774e+36</td><td>2.5730295512822167e+34</td><td>1.413916570870586e+34</td><td>2.5872754233496324e+36</td><td>2.0431527902545514e+36</td><td>1.688503185999466e+37</td><td>5.638354265219162e+36</td><td>1.1439908652188854e+37</td><td>8.419750775718155e+36</td><td>8469321209.409552</td><td>4039462570.3154902</td><td>8466871608.778763</td><td>4040776274.9757924</td><td>2449600.6307862657</td><td>1782815.8655051114</td><td>11158826053.567675</td><td>4040519403.8719215</td><td>11116588804.46658</td><td>4063971861.2318745</td><td>42237249.10108076</td><td>30948927.706861697</td><td>7.615462095300069e+53</td><td>5.864816105297689e+53</td><td>7.63571053348531e+51</td><td>5.3030027863756926e+51</td><td>7.539104989965214e+53</td><td>5.826247963649772e+53</td><td>12.463776926058513</td><td>0.6661180447653917</td><td>10.652239998720727</td><td>0.37831856490465793</td><td>10.80483884119267</td><td>0.6445880425501418</td><td>3.7365944996673504</td><td>0.16575951802859168</td><td>7.152496671730664</td><td>0.22391724314123687</td><td>5.959075781525615</td><td>0.1460166086411917</td><td>1.4598135308717084</td><td>0.12972730018032588</td><td>8.631788809072928</td><td>0.2607741757563954</td><td>3.860877753271451</td><td>0.16340610981015416</td><td>6.027071812186694</td><td>0.149338432955292</td><td>8.900770140524422</td><td>0.24195422009333994</td><td>0.381209017557795</td><td>0.16445787508708665</td><td>0.5678645362540905</td><td>0.15529601583107266</td><td>3.9255667291422873</td><td>0.16180290945580006</td><td>7.005977199741027</td><td>0.21563465922827008</td><td>5.762822035444196</td><td>0.1411035760576806</td><td>9.60723898802276</td><td>0.2203925914796528</td><td>8.18333105251311</td><td>0.28493279093277724</td><td>3.7832181735636294</td><td>0.1649715238055002</td><td>7.206832586804763</td><td>0.22406914015606</td><td>5.828349458830315</td><td>0.14331202673548604</td><td>1.2799210192836799</td><td>0.13117570513413634</td><td>9.879144519361528</td><td>0.2684780756966662</td><td>6.4563719042851275</td><td>0.4085786080634818</td><td>4.333885175059482</td><td>0.4330094549626076</td><td>7.439469707263854</td><td>0.5313906933759895</td><td>0.0</td><td>0.2</td><td>0.2</td><td>0.2</td><td>0.2</td><td>1.0</td><td>2.106802721406903</td><td>0.9093462676334614</td><td>0.711702730702533</td><td>-0.13</td><td>0.0</td><td>217.5</td><td>35.0</td><td>1.5</td><td>0.0</td><td>0.0</td><td>300.0</td><td>-2.0</td><td>100.0</td><td>0.02</td><td>8000.0</td><td>20.0</td><td>8000.0</td><td>0.0</td><td>50.0</td><td>8000.0</td><td>2990.4984856280134</td><td>1.0</td><td>0.008</td><td>10.0</td><td>13412.148617709228</td><td>3.6867913884634516e+24</td><td>0.026435</td><td>1.497914844551747e+34</td><td>1.3135357327041455e+36</td><td>8.500965993212393e+36</td><td>6.330198397516872e+36</td><td>1.6159679271878927e+37</td><td>22108120625.690975</td><td>3.8477314111938</td><td>3.8476290906264548</td><td>3.847730283173165</td><td>2.7501894039068437e+37</td><td>2.4569706018515087e+36</td><td>2.7442214517555913e+34</td><td>2.4295283873339526e+36</td><td>1.734872000433172e+37</td><td>1.0153174034736719e+37</td><td>9650045101.502033</td><td>9648056417.689861</td><td>1988683.8121717884</td><td>12458075524.358915</td><td>12421586905.169405</td><td>36488619.18950939</td><td>7.0761998823495615e+53</td><td>7.978491620367969e+51</td><td>6.996414966145882e+53</td><td>0.5015084927888344</td><td>0.7310101158351094</td><td>1.3599905172879254</td><td>3.7513095423237384</td><td>5.821285809122615</td><td>7.196035646725217</td><td>9.921543239861025</td><td>3.892081865035644</td><td>5.7535694650078115</td><td>6.975782041555267</td><td>8.269569122366994</td><td>9.72230847944795</td><td>10.707831018241665</td><td>12.714969351998661</td><td>11.069270100663537</td><td>6.5881190556034275</td><td>4.2842675408138</td><td>1.539060965372346</td><td>3.701764640976511</td><td>5.947904312167931</td><td>7.138693831771592</td><td>8.729375044044126</td><td>3.8318329096180035</td><td>6.0265575136678216</td><td>9.01457901278811</td></tr>\n",
       "<tr><td>iPTF17zg</td><td>0.0</td><td>0.0</td><td>0.32329232205201025</td><td>0.15514842021363</td><td>0.6762588633781799</td><td>0.36392183122942257</td><td>0.32329232205201025</td><td>0.15514842021363</td><td>0.6762588633781799</td><td>0.36392183122942257</td><td>0.5249527337009657</td><td>0.25457233586212813</td><td>4.072206587089095</td><td>1.5787257093426006</td><td>1.5249024837241867</td><td>0.7344305314201118</td><td>1.1723124465539112</td><td>0.5691628401138962</td><td>-0.16080367255307995</td><td>0.054047541291183075</td><td>2.676159509902101</td><td>0.7049203090605889</td><td>217.49999999999991</td><td>8.526512829121193e-14</td><td>34.999999999999964</td><td>3.5527136788004984e-14</td><td>1.5347162316062406</td><td>0.520727336536575</td><td>0.0</td><td>0.0</td><td>0.0</td><td>0.0</td><td>299.99999999999966</td><td>3.4106051316484774e-13</td><td>-1.9999999999999971</td><td>2.6737711109153313e-15</td><td>99.99999999999999</td><td>3.177643716156507e-14</td><td>0.019999999999999993</td><td>6.938893903907222e-18</td><td>6902.8153622684595</td><td>3574.122760869501</td><td>19.999999999999982</td><td>1.7763568394002492e-14</td><td>6902.8153622684595</td><td>3574.122760869501</td><td>0.0</td><td>0.0</td><td>49.99999999999999</td><td>1.5888218580782535e-14</td><td>3147.6545749251227</td><td>2667.568358997723</td><td>3596.5105465808674</td><td>1975.6815228683013</td><td>0.9999999999999986</td><td>1.3368855554576657e-15</td><td>0.014342404079501167</td><td>0.01665145667982327</td><td>9.999999999999991</td><td>8.881784197001246e-15</td><td>13502.04310817773</td><td>2.572439484307496e-12</td><td>2.77606470684123e+24</td><td>1610612735.9999983</td><td>0.019999999999999993</td><td>6.938893903907222e-18</td><td>1.7426614759932554e+34</td><td>1.480234781452324e+34</td><td>9.599237866136907e+35</td><td>8.184560054869719e+35</td><td>7.650245602978105e+36</td><td>5.344016999764701e+36</td><td>3.802963956711413e+36</td><td>3.094654292575186e+36</td><td>1.243055996106314e+37</td><td>9.131948477764463e+36</td><td>24048440840.930088</td><td>9812216091.921093</td><td>2.0099791891624856</td><td>1.6327186462585628</td><td>2.0389607661034654</td><td>1.636863192347471</td><td>2.0125074564018615</td><td>1.6329734329402341</td><td>1.8293550604448958e+37</td><td>9.449944000845789e+36</td><td>1.4435840101921054e+36</td><td>1.2157635499117318e+36</td><td>2.885655471210653e+34</td><td>1.7975634131698873e+34</td><td>1.4147274554799996e+36</td><td>1.2035102539692341e+36</td><td>1.2985854621989724e+37</td><td>5.2417204281958636e+36</td><td>5.3076959824592356e+36</td><td>4.3236453451079295e+36</td><td>10912971695.356228</td><td>5004001930.092081</td><td>10911963601.46819</td><td>5004288104.421444</td><td>1008093.8880381025</td><td>798806.0741717821</td><td>13135469153.556202</td><td>4811752434.95137</td><td>13116352164.897877</td><td>4816819482.700579</td><td>19116988.65832384</td><td>15532517.281434163</td><td>4.061175642822626e+53</td><td>3.4030229311834045e+53</td><td>8.008204785259392e+51</td><td>6.018490097554234e+51</td><td>3.981093594970029e+53</td><td>3.359327098555132e+53</td><td>14.646365154092317</td><td>0.8405331022491443</td><td>11.42098549299833</td><td>0.5061237107124384</td><td>13.006423864332165</td><td>0.8679571753106996</td><td>1.9124578814842732</td><td>0.09693604511914472</td><td>6.024856001291135</td><td>0.20728381912886681</td><td>4.228487634333179</td><td>0.13206744366490974</td><td>0.49837743155227016</td><td>0.04306170306351809</td><td>8.029171702072595</td><td>0.3139173260395556</td><td>2.0052011762796513</td><td>0.10071597375710141</td><td>4.291778453187652</td><td>0.13119269521694</td><td>8.32999379682441</td><td>0.30809052438472223</td><td>0.03352304185650001</td><td>0.0046916054345524615</td><td>0.06129663692522637</td><td>0.005806628444255348</td><td>2.0619027844232485</td><td>0.10475305453698026</td><td>5.8035575893352185</td><td>0.19910282156401796</td><td>3.9844941410913273</td><td>0.13236782526179866</td><td>9.148049439220884</td><td>0.29427321022691566</td><td>7.510468482255955</td><td>0.3112052404373011</td><td>1.9452127847505383</td><td>0.09914164070293235</td><td>6.084084442960834</td><td>0.21042701536813788</td><td>4.051225597289355</td><td>0.13199507715156128</td><td>0.3993486249781466</td><td>0.028138429720500516</td><td>9.96984561493201</td><td>0.32291495074937254</td><td>7.816375976211348</td><td>0.6466403119909517</td><td>5.131310965809636</td><td>0.5396568395264665</td><td>15.4139841830833</td><td>0.9633740114427063</td><td>0.0</td><td>0.4</td><td>0.8</td><td>0.4</td><td>0.8</td><td>0.5</td><td>5.001827954719127</td><td>1.9636433984447281</td><td>1.5096371992973165</td><td>-0.13</td><td>3.0</td><td>217.5</td><td>35.0</td><td>1.5</td><td>0.0</td><td>0.0</td><td>300.0</td><td>-2.0</td><td>100.0</td><td>0.02</td><td>8000.0</td><td>20.0</td><td>8000.0</td><td>0.0</td><td>50.0</td><td>4000.0</td><td>3509.837489018687</td><td>1.0</td><td>0.004</td><td>10.0</td><td>13473.593816510873</td><td>3.0624507775156117e+24</td><td>0.02203</td><td>2.0474982689839449e+34</td><td>1.2763569066443964e+36</td><td>9.903626539873452e+36</td><td>4.9287611577048665e+36</td><td>1.6129219586912555e+37</td><td>22947999095.91713</td><td>2.6147051506621506</td><td>2.630880739807039</td><td>2.6161757374584957</td><td>2.2121830209959806e+37</td><td>1.912371125607323e+36</td><td>3.2382539174629613e+34</td><td>1.879988586432693e+36</td><td>1.5228341629521008e+37</td><td>6.893488580438799e+36</td><td>10367744245.879087</td><td>10366459665.682419</td><td>1284580.1966701723</td><td>12580254867.512144</td><td>12555377672.860144</td><td>24877194.652000315</td><td>5.328251755858262e+53</td><td>9.064484018779088e+51</td><td>5.237606915670471e+53</td><td>0.035166242567330586</td><td>0.06300394763788529</td><td>0.397889848274874</td><td>1.9145772208400582</td><td>3.9958205476828397</td><td>6.14397686778437</td><td>9.907909377232281</td><td>2.0248218888576113</td><td>3.926053570600067</td><td>5.864398497695753</td><td>7.600639609877162</td><td>9.126756902973474</td><td>11.313700625885481</td><td>14.463217390810152</td><td>12.772145188315834</td><td>8.045169765619248</td><td>5.24981140581748</td><td>0.50478476305771</td><td>1.8846528220724257</td><td>4.1806577148745925</td><td>6.082695629248415</td><td>8.112511776069299</td><td>1.9719235871661618</td><td>4.247160642097363</td><td>8.391956635083156</td></tr>\n",
       "</table></div>"
      ],
      "text/plain": [
       "<Table length=8>\n",
       "    id    bayes.agn.fracAGN_dale2014 ...    best.ctio.ls.r      best.ctio.ls.z  \n",
       "   str9            float64           ...       float64             float64      \n",
       "--------- -------------------------- ... ------------------- -------------------\n",
       " PTF09awk                        0.0 ... 0.29991444122059097  0.3865985813403356\n",
       "  PTF10ad                        0.0 ... 0.03690056360361148 0.05512108450183252\n",
       "PTF10acsq                        0.0 ... 0.00400138049796805 0.01122977407848252\n",
       " PTF11kaa                        0.0 ... 0.13936501323778022 0.16549442325960564\n",
       "iPTF13aqj                        0.0 ...  1.3729998732019713  1.7409991638875184\n",
       "iPTF15dtg                        0.0 ...  0.0663744700059509 0.07877076317253391\n",
       "iPTF16hfb                        0.0 ...  6.0265575136678216    9.01457901278811\n",
       " iPTF17zg                        0.0 ...   4.247160642097363   8.391956635083156"
      ]
     },
     "execution_count": 117,
     "metadata": {},
     "output_type": "execute_result"
    }
   ],
   "source": [
    "results"
   ]
  },
  {
   "cell_type": "code",
   "execution_count": 120,
   "id": "c579bad6",
   "metadata": {},
   "outputs": [
    {
     "name": "stdout",
     "output_type": "stream",
     "text": [
      "10.118445588896885 0.36631751623798464\n"
     ]
    }
   ],
   "source": [
    "m_star, m_star_err = results['bayes.stellar.m_star'].value[-1], results['bayes.stellar.m_star_err'].value[-1]\n",
    "log_m_star, log_m_star_err = np.log10(m_star), m_star_err/m_star\n",
    "print(log_m_star, log_m_star_err)"
   ]
  },
  {
   "cell_type": "code",
   "execution_count": 121,
   "id": "58480b7b",
   "metadata": {},
   "outputs": [
    {
     "name": "stdout",
     "output_type": "stream",
     "text": [
      "0.30319156086392923 0.8123062442944401\n"
     ]
    }
   ],
   "source": [
    "sfh, sfh_err = results['bayes.sfh.sfr'].value[-1], results['bayes.sfh.sfr_err'].value[-1]\n",
    "log_sfh, log_sfh_err = np.log10(sfh), sfh_err/sfh\n",
    "print(log_sfh, log_sfh_err)"
   ]
  },
  {
   "cell_type": "code",
   "execution_count": 122,
   "id": "f34802f0",
   "metadata": {},
   "outputs": [
    {
     "name": "stdout",
     "output_type": "stream",
     "text": [
      "9.839026256957712 0.5177775405099265\n"
     ]
    }
   ],
   "source": [
    "age, age_err = results['bayes.sfh.age'].value[-1]*1e6, results['bayes.sfh.age_err'].value[-1]*1e6\n",
    "log_age, log_age_err = np.log10(age), age_err/age\n",
    "print(log_age, log_age_err)"
   ]
  }
 ],
 "metadata": {
  "kernelspec": {
   "display_name": "hosts",
   "language": "python",
   "name": "python3"
  },
  "language_info": {
   "codemirror_mode": {
    "name": "ipython",
    "version": 3
   },
   "file_extension": ".py",
   "mimetype": "text/x-python",
   "name": "python",
   "nbconvert_exporter": "python",
   "pygments_lexer": "ipython3",
   "version": "3.12.0"
  }
 },
 "nbformat": 4,
 "nbformat_minor": 5
}
